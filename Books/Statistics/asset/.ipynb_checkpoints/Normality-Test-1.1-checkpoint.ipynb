{
 "cells": [
  {
   "cell_type": "code",
   "execution_count": null,
   "metadata": {
    "scrolled": false
   },
   "outputs": [],
   "source": [
    "import numpy as np\n",
    "import matplotlib.pyplot as plt\n",
    "from scipy.stats import norm\n",
    "from scipy.stats import lognorm\n",
    "from scipy.stats import t"
   ]
  },
  {
   "cell_type": "code",
   "execution_count": null,
   "metadata": {},
   "outputs": [],
   "source": [
    "%matplotlib inline"
   ]
  },
  {
   "cell_type": "markdown",
   "metadata": {},
   "source": [
    "### 正态分布"
   ]
  },
  {
   "cell_type": "code",
   "execution_count": null,
   "metadata": {},
   "outputs": [],
   "source": [
    "xs_nd = np.linspace(start=-4, stop=4, num=100)\n",
    "\n",
    "fig, (ax1, ax2) = plt.subplots(nrows=1, ncols=2)\n",
    "fig.set_figwidth(12)\n",
    "\n",
    "ax1.plot(xs_nd, norm.pdf(xs_nd, loc=-1, scale=1), color='r', label='norm(-1, 1)')\n",
    "ax1.plot(xs_nd, norm.pdf(xs_nd, loc=0, scale=1), color='g', label='norm(0, 1)')\n",
    "ax1.plot(xs_nd, norm.pdf(xs_nd, loc=1, scale=1), color='b', label='norm(1, 1)')\n",
    "\n",
    "ax1.legend()\n",
    "ax1.set_ylabel('f(x)')\n",
    "ax1.set_xlabel('相同方差, 不同均值')\n",
    "\n",
    "ax2.plot(xs_nd, norm.pdf(xs_nd, loc=0, scale=0.5), color='r', label='norm(0, 0.5)')\n",
    "ax2.plot(xs_nd, norm.pdf(xs_nd, loc=0, scale=1), color='g', label='norm(0, 1)')\n",
    "ax2.plot(xs_nd, norm.pdf(xs_nd, loc=0, scale=2), color='b', label='norm(0, 2)')\n",
    "\n",
    "ax2.legend()\n",
    "ax2.set_ylabel('f(x)')\n",
    "ax2.set_xlabel('不同方差, 相同均值')"
   ]
  },
  {
   "cell_type": "markdown",
   "metadata": {},
   "source": [
    "### 对数正态分布"
   ]
  },
  {
   "cell_type": "code",
   "execution_count": null,
   "metadata": {},
   "outputs": [],
   "source": [
    "s = 0.954\n",
    "xs_nd_2 = np.linspace(start=lognorm.ppf(0.01, s), stop=lognorm.ppf(0.95, s), num=100)\n",
    "plt.figure(figsize=(6, 4))\n",
    "plt.plot(xs_nd_2, lognorm.pdf(xs_nd_2, s))"
   ]
  },
  {
   "cell_type": "markdown",
   "metadata": {},
   "source": [
    "### 正态分布和t分布对比"
   ]
  },
  {
   "cell_type": "code",
   "execution_count": null,
   "metadata": {},
   "outputs": [],
   "source": [
    "df = 5\n",
    "sigma = np.sqrt(5/3)\n",
    "xs_nd_3 = np.linspace(start=t.ppf(0.01, df), stop=t.ppf(0.99, df), num=100)\n",
    "plt.figure(figsize=(8,4))\n",
    "plt.plot(xs_nd_3, t.pdf(xs_nd_3, df), color='g', lw=1)\n",
    "plt.plot(xs_nd_3, norm.pdf(xs_nd_3, 0, sigma), color='b', lw=1)\n",
    "ax = plt.gca()\n",
    "ax.spines['right'].set_color('none')\n",
    "ax.spines['top'].set_color('none')\n",
    "ax.spines['bottom'].set_position(('data', 0))\n",
    "ax.spines['left'].set_position(('data', 0))\n",
    "\n",
    "# 方差相同, 峰度不同, t(5)的峰度要高\n",
    "print(t.stats(df, moments='mvsk'))\n",
    "print(norm.stats(loc=0, scale=sigma, moments='mvsk'))\n",
    "print(t.pdf([0], df), norm.pdf([0], 0, sigma))"
   ]
  },
  {
   "cell_type": "markdown",
   "metadata": {},
   "source": [
    "### 偏度和峰度"
   ]
  },
  {
   "cell_type": "code",
   "execution_count": null,
   "metadata": {},
   "outputs": [],
   "source": [
    "mean, variance, skewness, kurtosis = norm.stats(moments=\"mvsk\")\n",
    "print(mean, variance, skewness, kurtosis)\n",
    "mean_1, variance, skewness, kurtosis = lognorm.stats(0.95, moments=\"mvsk\")\n",
    "print(mean, variance, skewness, kurtosis)"
   ]
  },
  {
   "cell_type": "code",
   "execution_count": null,
   "metadata": {},
   "outputs": [],
   "source": [
    "### 正态性检验\n",
    "from scipy.stats import shapiro\n",
    "from scipy.stats import anderson\n",
    "from scipy.stats import kstest\n",
    "from scipy.stats import normaltest\n",
    "\n",
    "np.random.seed(12345678)\n",
    "data = norm.rvs(loc=0, scale=1, size=500)\n",
    "# data = [2.7, -1.2, -1.0, 0, 0.7, 2.0, 3,7, -0.6, 0.8, -0.3]\n",
    "\n",
    "plt.figure()\n",
    "plt.hist(data)\n",
    "\n",
    "# W-test\n",
    "print(shapiro(data))\n",
    "\n",
    "# AD检验\n",
    "print(anderson(data, dist='norm'))\n",
    "\n",
    "# KS-test or D\n",
    "print(kstest(data, cdf='norm'))\n",
    "\n",
    "# Normal-test\n",
    "print(normaltest(data, axis=0))"
   ]
  }
 ],
 "metadata": {
  "kernelspec": {
   "display_name": "Python 3",
   "language": "python",
   "name": "python3"
  },
  "language_info": {
   "codemirror_mode": {
    "name": "ipython",
    "version": 3
   },
   "file_extension": ".py",
   "mimetype": "text/x-python",
   "name": "python",
   "nbconvert_exporter": "python",
   "pygments_lexer": "ipython3",
   "version": "3.4.3"
  }
 },
 "nbformat": 4,
 "nbformat_minor": 2
}
