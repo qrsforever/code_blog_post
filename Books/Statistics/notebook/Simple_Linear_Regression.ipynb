{
 "cells": [
  {
   "cell_type": "markdown",
   "metadata": {},
   "source": [
    "# <div align=\"center\">一元线性回归(SLR)</div>"
   ]
  },
  {
   "cell_type": "code",
   "execution_count": 1,
   "metadata": {},
   "outputs": [],
   "source": [
    "import os\n",
    "import pandas as pd\n",
    "import numpy as np\n",
    "import matplotlib.pyplot as plt\n",
    "import statsmodels.api as sm\n",
    "\n",
    "from scipy import stats\n",
    "\n",
    "import warnings\n",
    "\n",
    "warnings.filterwarnings('ignore')\n",
    "    \n",
    "%matplotlib inline\n",
    "\n",
    "plt.style.use('ggplot')"
   ]
  },
  {
   "cell_type": "markdown",
   "metadata": {},
   "source": [
    "## 1. 读取数据\n",
    "\n",
    "贾俊平<<统计学(第六版)>>线性回归章节例题数据"
   ]
  },
  {
   "cell_type": "code",
   "execution_count": 2,
   "metadata": {},
   "outputs": [
    {
     "data": {
      "text/html": [
       "<div>\n",
       "<style scoped>\n",
       "    .dataframe tbody tr th:only-of-type {\n",
       "        vertical-align: middle;\n",
       "    }\n",
       "\n",
       "    .dataframe tbody tr th {\n",
       "        vertical-align: top;\n",
       "    }\n",
       "\n",
       "    .dataframe thead th {\n",
       "        text-align: right;\n",
       "    }\n",
       "</style>\n",
       "<table border=\"1\" class=\"dataframe\">\n",
       "  <thead>\n",
       "    <tr style=\"text-align: right;\">\n",
       "      <th></th>\n",
       "      <th>不良贷款\n",
       "(亿元）</th>\n",
       "      <th>各项贷款余额\n",
       "(亿元)</th>\n",
       "      <th>本年累计应收贷款\n",
       "(亿元)</th>\n",
       "      <th>贷款项目个数\n",
       "(个)</th>\n",
       "      <th>本年固定资产投资额\n",
       "(亿元)</th>\n",
       "    </tr>\n",
       "  </thead>\n",
       "  <tbody>\n",
       "    <tr>\n",
       "      <th>0</th>\n",
       "      <td>0.9</td>\n",
       "      <td>67.3</td>\n",
       "      <td>6.8</td>\n",
       "      <td>5</td>\n",
       "      <td>51.9</td>\n",
       "    </tr>\n",
       "    <tr>\n",
       "      <th>1</th>\n",
       "      <td>1.1</td>\n",
       "      <td>111.3</td>\n",
       "      <td>19.8</td>\n",
       "      <td>16</td>\n",
       "      <td>90.9</td>\n",
       "    </tr>\n",
       "    <tr>\n",
       "      <th>2</th>\n",
       "      <td>4.8</td>\n",
       "      <td>173.0</td>\n",
       "      <td>7.7</td>\n",
       "      <td>17</td>\n",
       "      <td>73.7</td>\n",
       "    </tr>\n",
       "    <tr>\n",
       "      <th>3</th>\n",
       "      <td>3.2</td>\n",
       "      <td>80.8</td>\n",
       "      <td>7.2</td>\n",
       "      <td>10</td>\n",
       "      <td>14.5</td>\n",
       "    </tr>\n",
       "    <tr>\n",
       "      <th>4</th>\n",
       "      <td>7.8</td>\n",
       "      <td>199.7</td>\n",
       "      <td>16.5</td>\n",
       "      <td>19</td>\n",
       "      <td>63.2</td>\n",
       "    </tr>\n",
       "  </tbody>\n",
       "</table>\n",
       "</div>"
      ],
      "text/plain": [
       "   不良贷款\\n(亿元）  各项贷款余额\\n(亿元)  本年累计应收贷款\\n(亿元)  贷款项目个数\\n(个)  本年固定资产投资额\\n(亿元)\n",
       "0         0.9          67.3             6.8            5             51.9\n",
       "1         1.1         111.3            19.8           16             90.9\n",
       "2         4.8         173.0             7.7           17             73.7\n",
       "3         3.2          80.8             7.2           10             14.5\n",
       "4         7.8         199.7            16.5           19             63.2"
      ]
     },
     "execution_count": 2,
     "metadata": {},
     "output_type": "execute_result"
    }
   ],
   "source": [
    "db = '/home/lidong/Datasets/'\n",
    "bad_loans_df = pd.read_excel(os.path.join(db, \"Statistics/bad-loans.xls\"), usecols=\"B:F\")\n",
    "bad_loans_df[0:5]"
   ]
  },
  {
   "cell_type": "code",
   "execution_count": 3,
   "metadata": {},
   "outputs": [],
   "source": [
    "# 不良贷款Y, 各项贷款余额X\n",
    "ys_loans_bad = bad_loans_df.iloc[:, 0]\n",
    "xs_loans_balance = bad_loans_df.iloc[:, 1]"
   ]
  },
  {
   "cell_type": "markdown",
   "metadata": {},
   "source": [
    "## 2. 画出散点图"
   ]
  },
  {
   "cell_type": "code",
   "execution_count": 4,
   "metadata": {},
   "outputs": [
    {
     "data": {
      "text/plain": [
       "<matplotlib.collections.PathCollection at 0x7f4d5bfaf438>"
      ]
     },
     "execution_count": 4,
     "metadata": {},
     "output_type": "execute_result"
    },
    {
     "data": {
      "image/png": "[encoded data removed]",
      "text/plain": [
       "<Figure size 576x288 with 1 Axes>"
      ]
     },
     "metadata": {},
     "output_type": "display_data"
    }
   ],
   "source": [
    "fig, ax = plt.subplots(figsize=(8,4))\n",
    "fig.suptitle(\"不良贷款 ~ 贷款余额\")\n",
    "ax.set_xlabel(\"贷款余额\")\n",
    "ax.set_ylabel(\"不良贷款\")\n",
    "ax.grid(True)\n",
    "ax.scatter(xs_loans_balance, ys_loans_bad, alpha=0.5, color='orchid')\n",
    "\n",
    "# fig.tight_layout(pad=1)  # Adjust subplot parameters to give specified padding."
   ]
  },
  {
   "cell_type": "markdown",
   "metadata": {},
   "source": [
    "## 3. 回归分析 \n",
    "\n",
    "Model: y ~ x + c"
   ]
  },
  {
   "cell_type": "code",
   "execution_count": 5,
   "metadata": {},
   "outputs": [
    {
     "data": {
      "text/html": [
       "<div>\n",
       "<style scoped>\n",
       "    .dataframe tbody tr th:only-of-type {\n",
       "        vertical-align: middle;\n",
       "    }\n",
       "\n",
       "    .dataframe tbody tr th {\n",
       "        vertical-align: top;\n",
       "    }\n",
       "\n",
       "    .dataframe thead th {\n",
       "        text-align: right;\n",
       "    }\n",
       "</style>\n",
       "<table border=\"1\" class=\"dataframe\">\n",
       "  <thead>\n",
       "    <tr style=\"text-align: right;\">\n",
       "      <th></th>\n",
       "      <th>const</th>\n",
       "      <th>各项贷款余额\n",
       "(亿元)</th>\n",
       "    </tr>\n",
       "  </thead>\n",
       "  <tbody>\n",
       "    <tr>\n",
       "      <th>0</th>\n",
       "      <td>1.0</td>\n",
       "      <td>67.3</td>\n",
       "    </tr>\n",
       "    <tr>\n",
       "      <th>1</th>\n",
       "      <td>1.0</td>\n",
       "      <td>111.3</td>\n",
       "    </tr>\n",
       "    <tr>\n",
       "      <th>2</th>\n",
       "      <td>1.0</td>\n",
       "      <td>173.0</td>\n",
       "    </tr>\n",
       "    <tr>\n",
       "      <th>3</th>\n",
       "      <td>1.0</td>\n",
       "      <td>80.8</td>\n",
       "    </tr>\n",
       "    <tr>\n",
       "      <th>4</th>\n",
       "      <td>1.0</td>\n",
       "      <td>199.7</td>\n",
       "    </tr>\n",
       "  </tbody>\n",
       "</table>\n",
       "</div>"
      ],
      "text/plain": [
       "   const  各项贷款余额\\n(亿元)\n",
       "0    1.0          67.3\n",
       "1    1.0         111.3\n",
       "2    1.0         173.0\n",
       "3    1.0          80.8\n",
       "4    1.0         199.7"
      ]
     },
     "execution_count": 5,
     "metadata": {},
     "output_type": "execute_result"
    }
   ],
   "source": [
    "xs_loans_balance_with_intercept = sm.add_constant(xs_loans_balance)\n",
    "xs_loans_balance_with_intercept[0:5]"
   ]
  },
  {
   "cell_type": "code",
   "execution_count": 6,
   "metadata": {},
   "outputs": [],
   "source": [
    "# 拟合\n",
    "model_ols = sm.OLS(endog=ys_loans_bad, exog=xs_loans_balance_with_intercept)\n",
    "fitted_ols = model_ols.fit()\n",
    "\n",
    "# 预测\n",
    "xs_pred = np.linspace(start=xs_loans_balance.min(), stop=xs_loans_balance.max(), num=60)\n",
    "xs_pred_with_intercept = sm.add_constant(xs_pred)\n",
    "ys_pred = fitted_ols.predict(exog=xs_pred_with_intercept)"
   ]
  },
  {
   "cell_type": "code",
   "execution_count": 7,
   "metadata": {},
   "outputs": [
    {
     "data": {
      "image/png": "[encoded data removed]",
      "text/plain": [
       "<Figure size 576x288 with 1 Axes>"
      ]
     },
     "execution_count": 7,
     "metadata": {},
     "output_type": "execute_result"
    }
   ],
   "source": [
    "# 画出预测散点图\n",
    "ax.plot(xs_pred, ys_pred, '-', color='darkorchid', linewidth=2)\n",
    "fig"
   ]
  },
  {
   "cell_type": "code",
   "execution_count": 8,
   "metadata": {
    "scrolled": false
   },
   "outputs": [
    {
     "data": {
      "text/html": [
       "<table class=\"simpletable\">\n",
       "<caption>OLS Regression Results</caption>\n",
       "<tr>\n",
       "  <th>Dep. Variable:</th>        <td>不良贷款\n",
       "(亿元）</td>    <th>  R-squared:         </th> <td>   0.712</td>\n",
       "</tr>\n",
       "<tr>\n",
       "  <th>Model:</th>                   <td>OLS</td>       <th>  Adj. R-squared:    </th> <td>   0.699</td>\n",
       "</tr>\n",
       "<tr>\n",
       "  <th>Method:</th>             <td>Least Squares</td>  <th>  F-statistic:       </th> <td>   56.75</td>\n",
       "</tr>\n",
       "<tr>\n",
       "  <th>Date:</th>             <td>Thu, 20 Dec 2018</td> <th>  Prob (F-statistic):</th> <td>1.18e-07</td>\n",
       "</tr>\n",
       "<tr>\n",
       "  <th>Time:</th>                 <td>22:13:25</td>     <th>  Log-Likelihood:    </th> <td> -51.508</td>\n",
       "</tr>\n",
       "<tr>\n",
       "  <th>No. Observations:</th>      <td>    25</td>      <th>  AIC:               </th> <td>   107.0</td>\n",
       "</tr>\n",
       "<tr>\n",
       "  <th>Df Residuals:</th>          <td>    23</td>      <th>  BIC:               </th> <td>   109.5</td>\n",
       "</tr>\n",
       "<tr>\n",
       "  <th>Df Model:</th>              <td>     1</td>      <th>                     </th>     <td> </td>   \n",
       "</tr>\n",
       "<tr>\n",
       "  <th>Covariance Type:</th>      <td>nonrobust</td>    <th>                     </th>     <td> </td>   \n",
       "</tr>\n",
       "</table>\n",
       "<table class=\"simpletable\">\n",
       "<tr>\n",
       "       <td></td>          <th>coef</th>     <th>std err</th>      <th>t</th>      <th>P>|t|</th>  <th>[0.025</th>    <th>0.975]</th>  \n",
       "</tr>\n",
       "<tr>\n",
       "  <th>const</th>       <td>   -0.8295</td> <td>    0.723</td> <td>   -1.147</td> <td> 0.263</td> <td>   -2.325</td> <td>    0.666</td>\n",
       "</tr>\n",
       "<tr>\n",
       "  <th>各项贷款余额\n",
       "(亿元)</th> <td>    0.0379</td> <td>    0.005</td> <td>    7.534</td> <td> 0.000</td> <td>    0.027</td> <td>    0.048</td>\n",
       "</tr>\n",
       "</table>\n",
       "<table class=\"simpletable\">\n",
       "<tr>\n",
       "  <th>Omnibus:</th>       <td>14.277</td> <th>  Durbin-Watson:     </th> <td>   2.464</td>\n",
       "</tr>\n",
       "<tr>\n",
       "  <th>Prob(Omnibus):</th> <td> 0.001</td> <th>  Jarque-Bera (JB):  </th> <td>  14.611</td>\n",
       "</tr>\n",
       "<tr>\n",
       "  <th>Skew:</th>          <td> 1.382</td> <th>  Prob(JB):          </th> <td>0.000672</td>\n",
       "</tr>\n",
       "<tr>\n",
       "  <th>Kurtosis:</th>      <td> 5.527</td> <th>  Cond. No.          </th> <td>    262.</td>\n",
       "</tr>\n",
       "</table><br/><br/>Warnings:<br/>[1] Standard Errors assume that the covariance matrix of the errors is correctly specified."
      ],
      "text/plain": [
       "<class 'statsmodels.iolib.summary.Summary'>\n",
       "\"\"\"\n",
       "                            OLS Regression Results                            \n",
       "==============================================================================\n",
       "Dep. Variable:              不良贷款\n",
       "(亿元）   R-squared:                       0.712\n",
       "Model:                            OLS   Adj. R-squared:                  0.699\n",
       "Method:                 Least Squares   F-statistic:                     56.75\n",
       "Date:                Thu, 20 Dec 2018   Prob (F-statistic):           1.18e-07\n",
       "Time:                        22:13:25   Log-Likelihood:                -51.508\n",
       "No. Observations:                  25   AIC:                             107.0\n",
       "Df Residuals:                      23   BIC:                             109.5\n",
       "Df Model:                           1                                         \n",
       "Covariance Type:            nonrobust                                         \n",
       "===============================================================================\n",
       "                  coef    std err          t      P>|t|      [0.025      0.975]\n",
       "-------------------------------------------------------------------------------\n",
       "const          -0.8295      0.723     -1.147      0.263      -2.325       0.666\n",
       "各项贷款余额\n",
       "(亿元)     0.0379      0.005      7.534      0.000       0.027       0.048\n",
       "==============================================================================\n",
       "Omnibus:                       14.277   Durbin-Watson:                   2.464\n",
       "Prob(Omnibus):                  0.001   Jarque-Bera (JB):               14.611\n",
       "Skew:                           1.382   Prob(JB):                     0.000672\n",
       "Kurtosis:                       5.527   Cond. No.                         262.\n",
       "==============================================================================\n",
       "\n",
       "Warnings:\n",
       "[1] Standard Errors assume that the covariance matrix of the errors is correctly specified.\n",
       "\"\"\""
      ]
     },
     "execution_count": 8,
     "metadata": {},
     "output_type": "execute_result"
    }
   ],
   "source": [
    "# 显示统计检验结果\n",
    "# fitted_ols.summary2(float_format=\"%.4f\")\n",
    "fitted_ols.summary()"
   ]
  },
  {
   "cell_type": "markdown",
   "metadata": {},
   "source": [
    "--------------------\n",
    "\n",
    "判定系数: $R^2 = \\dfrac{SSR}{SST} = 0.712$, 拟合优度的度量, 在不良贷款的取值变动中有71.2%是由贷款余额所决定的.\n",
    "\n",
    "多重判定系数(调整后): 解释变量变多, 势必导致误差SSE变小, 进而$R^2$变大(高估了), 修正$R_\\alpha^2 = 1 - (1 - R^2)(\\dfrac{n-1}{n - k - 1}) = 0.699$\n",
    "\n",
    "$\\beta_0 = -0.8295$, P-Value($\\beta_0$) = 0.2631, 置信区间[-2.3252, 0.6662]\n",
    "\n",
    "$\\beta_1 = 0.0379$, P-Value($\\beta_1$) = 0.0000, 置信区间[0.0275, 0.0483]\n",
    "\n",
    "### 1. 线性关系的F检验\n",
    "\n",
    "$H_0: \\beta_1 = 0$\n",
    "\n",
    "$F = \\dfrac{SSR/1}{SSE/(n-2)} = \\dfrac{MSR}{MSE} ~ F(1, n-2)$\n",
    "\n",
    "查表$F_\\alpha(1, 23) = 4.28 < F-statistic = 56.75$, Sig.F(P-Value) = 1.18e-07 < $\\alpha = 0.05$, 决绝$H_0$\n",
    "\n",
    "\n",
    "### 2. 回归系数的t检验\n",
    "\n",
    "$H_0: \\beta_1 = 0$\n",
    "\n",
    "$t = 7.534 > t_0.025 = 2.0687$， P-Value = 0.000 < $\\alpha$ = 0.05, 决绝$H_0$\n",
    "\n",
    "**所有统计量检验都是在$H_0$成立的假设条件下, 计算概率的**"
   ]
  },
  {
   "cell_type": "markdown",
   "metadata": {},
   "source": [
    "## 4. 区间估计"
   ]
  },
  {
   "cell_type": "markdown",
   "metadata": {},
   "source": [
    "### 置信区间估计 (y平均值的置信区间估计)\n",
    "\n",
    "$$\n",
    "\\hat{y_0} \\pm t_{\\alpha/2}s_e \\sqrt{\\dfrac{1}{n} + \\dfrac{(x_0 - \\bar{x})^2}{\\sum_{i = 1}^{n}(x_i - \\bar{x})^2}}\n",
    "$$\n",
    "\n",
    "There is a 95 percent probability that the true regression line for the population lies within the confidence interval for our estimate of the regression line calculated from the sample data. "
   ]
  },
  {
   "cell_type": "code",
   "execution_count": 9,
   "metadata": {},
   "outputs": [
    {
     "name": "stdout",
     "output_type": "stream",
     "text": [
      "2.0686576104190406 1.979947532717681 154933.5744\n"
     ]
    }
   ],
   "source": [
    "n = len(xs_loans_balance) # sample count\n",
    "dof = n - fitted_ols.df_model - 1\n",
    "\n",
    "y_hat = fitted_ols.predict(xs_loans_balance_with_intercept)\n",
    "y_err = ys_loans_bad - y_hat\n",
    "x_bar = xs_loans_balance.mean() # xs_loans_balance_with_intercept.T.iloc[1].mean() \n",
    "s_var = np.sum(np.power(y_err, 2))\n",
    "s_err = np.sqrt(s_var/dof)\n",
    "\n",
    "t_half_alpha = stats.t.ppf(1-0.025, df = dof)\n",
    "\n",
    "# TODO: x_var = np.sum(np.power(xs_pred - x_bar, 2))\n",
    "x_var = np.sum(np.power(xs_loans_balance - x_bar, 2))\n",
    "\n",
    "# 计算每个x对应的y平均值的置信区间\n",
    "\n",
    "dalta_conf = t_half_alpha * s_err * np.sqrt(1.0/n + np.power(xs_pred - x_bar, 2)/x_var)\n",
    "\n",
    "lower_95_percent = ys_pred - dalta_conf \n",
    "upper_95_percent = ys_pred + dalta_conf\n",
    "\n",
    "print(t_half_alpha, s_err, x_var)"
   ]
  },
  {
   "cell_type": "code",
   "execution_count": 10,
   "metadata": {},
   "outputs": [
    {
     "data": {
      "image/png": "[encoded data removed]",
      "text/plain": [
       "<Figure size 576x288 with 1 Axes>"
      ]
     },
     "execution_count": 10,
     "metadata": {},
     "output_type": "execute_result"
    }
   ],
   "source": [
    "# plot\n",
    "ax.fill_between(xs_pred, lower_95_percent, upper_95_percent, color='#888888', alpha=0.4)\n",
    "fig"
   ]
  },
  {
   "cell_type": "markdown",
   "metadata": {},
   "source": [
    "### 预测区间估计 (y个别值的预测区间估计)\n",
    "\n",
    "statsmodels 提供了api直接计算出预测区间\n",
    "\n",
    "from statsmodels.sandbox.regression.predstd import wls_prediction_std\n",
    "\n",
    "$$\n",
    "\\hat{y_0} \\pm t_{\\alpha/2}s_e \\sqrt{1 + \\dfrac{1}{n} + \\dfrac{(x_0 - \\bar{x})^2}{\\sum_{i = 1}^{n}(x_i - \\bar{x})^2}}\n",
    "$$\n",
    "\n",
    "There is a 95 percent probability that the real value of y in the population for a given value of x lies within the prediction interval. \n",
    "\n",
    "预测区间{除了X的影响,还有随机因素}比置信区间{$E(Y) = E(\\beta_0) + E(\\beta_1X) + E(\\epsilon)$, 其中$E(\\epsilon)=0$} 要宽, 从公式看, 开根号下多了1."
   ]
  },
  {
   "cell_type": "code",
   "execution_count": 11,
   "metadata": {
    "scrolled": true
   },
   "outputs": [
    {
     "data": {
      "image/png": "[encoded data removed]",
      "text/plain": [
       "<Figure size 576x288 with 1 Axes>"
      ]
     },
     "execution_count": 11,
     "metadata": {},
     "output_type": "execute_result"
    }
   ],
   "source": [
    "dalta_pred = t_half_alpha * s_err * np.sqrt(1 + 1.0/n + np.power(xs_pred - x_bar, 2)/x_var)\n",
    "\n",
    "lower_95_percent = ys_pred - dalta_pred \n",
    "upper_95_percent = ys_pred + dalta_pred\n",
    "\n",
    "ax.fill_between(xs_pred, lower_95_percent, upper_95_percent, color='#888888', alpha=0.1)\n",
    "fig"
   ]
  }
 ],
 "metadata": {
  "kernelspec": {
   "display_name": "Python 3",
   "language": "python",
   "name": "python3"
  },
  "language_info": {
   "codemirror_mode": {
    "name": "ipython",
    "version": 3
   },
   "file_extension": ".py",
   "mimetype": "text/x-python",
   "name": "python",
   "nbconvert_exporter": "python",
   "pygments_lexer": "ipython3",
   "version": "3.4.3"
  }
 },
 "nbformat": 4,
 "nbformat_minor": 2
}
