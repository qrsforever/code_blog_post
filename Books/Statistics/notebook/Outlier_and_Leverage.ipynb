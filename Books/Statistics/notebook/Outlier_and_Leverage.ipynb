{
 "cells": [
  {
   "cell_type": "markdown",
   "metadata": {},
   "source": [
    "# <div align=\"center\">Distinction Between Outliers & High Leverage Observations</div>"
   ]
  },
  {
   "cell_type": "code",
   "execution_count": 1,
   "metadata": {},
   "outputs": [],
   "source": [
    "import os\n",
    "import pandas as pd\n",
    "import numpy as np\n",
    "import matplotlib.pyplot as plt\n",
    "import statsmodels.api as sm\n",
    "import statsmodels.formula.api as smf\n",
    "\n",
    "from scipy import stats\n",
    "\n",
    "import warnings\n",
    "\n",
    "warnings.filterwarnings('ignore')\n",
    "    \n",
    "%matplotlib inline\n",
    "\n",
    "plt.style.use('seaborn')"
   ]
  },
  {
   "cell_type": "code",
   "execution_count": 2,
   "metadata": {},
   "outputs": [
    {
     "data": {
      "text/html": [
       "<div>\n",
       "<style scoped>\n",
       "    .dataframe tbody tr th:only-of-type {\n",
       "        vertical-align: middle;\n",
       "    }\n",
       "\n",
       "    .dataframe tbody tr th {\n",
       "        vertical-align: top;\n",
       "    }\n",
       "\n",
       "    .dataframe thead th {\n",
       "        text-align: right;\n",
       "    }\n",
       "</style>\n",
       "<table border=\"1\" class=\"dataframe\">\n",
       "  <thead>\n",
       "    <tr style=\"text-align: right;\">\n",
       "      <th></th>\n",
       "      <th>x</th>\n",
       "      <th>y</th>\n",
       "    </tr>\n",
       "  </thead>\n",
       "  <tbody>\n",
       "    <tr>\n",
       "      <th>17</th>\n",
       "      <td>8.71607</td>\n",
       "      <td>50.0568</td>\n",
       "    </tr>\n",
       "    <tr>\n",
       "      <th>18</th>\n",
       "      <td>8.70156</td>\n",
       "      <td>46.5475</td>\n",
       "    </tr>\n",
       "    <tr>\n",
       "      <th>19</th>\n",
       "      <td>9.16463</td>\n",
       "      <td>45.7762</td>\n",
       "    </tr>\n",
       "  </tbody>\n",
       "</table>\n",
       "</div>"
      ],
      "text/plain": [
       "          x        y\n",
       "17  8.71607  50.0568\n",
       "18  8.70156  46.5475\n",
       "19  9.16463  45.7762"
      ]
     },
     "execution_count": 2,
     "metadata": {},
     "output_type": "execute_result"
    }
   ],
   "source": [
    "db = '/home/lidong/Datasets/'\n",
    "\n",
    "influence_df = pd.read_csv(os.path.join(db, 'Statistics/influence.txt'), sep='\\s', usecols=[1, 2])\n",
    "n = influence_df.index.size\n",
    "influence_df[-3:]"
   ]
  },
  {
   "cell_type": "code",
   "execution_count": 3,
   "metadata": {},
   "outputs": [
    {
     "data": {
      "text/plain": [
       "Text(0.5,1,'ScatterPlot of y vs x')"
      ]
     },
     "execution_count": 3,
     "metadata": {},
     "output_type": "execute_result"
    },
    {
     "data": {
      "image/png": "[encoded data removed]",
      "text/plain": [
       "<Figure size 432x288 with 1 Axes>"
      ]
     },
     "metadata": {},
     "output_type": "display_data"
    }
   ],
   "source": [
    "fig, ax = plt.subplots()\n",
    "influence_df.plot.scatter('x', 'y', ax=ax)\n",
    "fig.tight_layout(pad=2)\n",
    "ax.set_title(\"ScatterPlot of y vs x\")"
   ]
  },
  {
   "cell_type": "markdown",
   "metadata": {},
   "source": [
    "## Outlier Point"
   ]
  },
  {
   "cell_type": "code",
   "execution_count": 4,
   "metadata": {},
   "outputs": [
    {
     "data": {
      "text/html": [
       "<div>\n",
       "<style scoped>\n",
       "    .dataframe tbody tr th:only-of-type {\n",
       "        vertical-align: middle;\n",
       "    }\n",
       "\n",
       "    .dataframe tbody tr th {\n",
       "        vertical-align: top;\n",
       "    }\n",
       "\n",
       "    .dataframe thead th {\n",
       "        text-align: right;\n",
       "    }\n",
       "</style>\n",
       "<table border=\"1\" class=\"dataframe\">\n",
       "  <thead>\n",
       "    <tr style=\"text-align: right;\">\n",
       "      <th></th>\n",
       "      <th>x</th>\n",
       "      <th>y</th>\n",
       "    </tr>\n",
       "  </thead>\n",
       "  <tbody>\n",
       "    <tr>\n",
       "      <th>18</th>\n",
       "      <td>8.70156</td>\n",
       "      <td>46.5475</td>\n",
       "    </tr>\n",
       "    <tr>\n",
       "      <th>19</th>\n",
       "      <td>9.16463</td>\n",
       "      <td>45.7762</td>\n",
       "    </tr>\n",
       "    <tr>\n",
       "      <th>20</th>\n",
       "      <td>4.00000</td>\n",
       "      <td>40.0000</td>\n",
       "    </tr>\n",
       "  </tbody>\n",
       "</table>\n",
       "</div>"
      ],
      "text/plain": [
       "          x        y\n",
       "18  8.70156  46.5475\n",
       "19  9.16463  45.7762\n",
       "20  4.00000  40.0000"
      ]
     },
     "execution_count": 4,
     "metadata": {},
     "output_type": "execute_result"
    }
   ],
   "source": [
    "# Add outlier point(4, 40)\n",
    "outlier_point = np.array([4, 40])\n",
    "influence_df.loc[n] = outlier_point\n",
    "influence_df[-3:]"
   ]
  },
  {
   "cell_type": "markdown",
   "metadata": {},
   "source": [
    "这个Outlier point是Influence Point吗?, 需要继续分析, 增加删除该异常值是否对response Y和coefficient, 统计检验由影响."
   ]
  },
  {
   "cell_type": "code",
   "execution_count": 5,
   "metadata": {},
   "outputs": [
    {
     "data": {
      "image/png": "[encoded data removed]",
      "text/plain": [
       "<Figure size 432x288 with 1 Axes>"
      ]
     },
     "execution_count": 5,
     "metadata": {},
     "output_type": "execute_result"
    }
   ],
   "source": [
    "fitted_result_included_outlier = smf.ols(formula=\"y ~ x\", data=influence_df[0:n+1]).fit()\n",
    "fitted_result_excluded_outlier = smf.ols(formula=\"y ~ x\", data=influence_df[0:n]).fit()\n",
    "\n",
    "intercept, coef_x = fitted_result_included_outlier.params\n",
    "\n",
    "sm.graphics.abline_plot(\n",
    "    model_results=fitted_result_included_outlier,\n",
    "    ax=ax, color='b',\n",
    "    label='$y = %.2f + %.2fx$' % (intercept, coef_x))\n",
    "\n",
    "intercept, coef_x = fitted_result_excluded_outlier.params\n",
    "\n",
    "sm.graphics.abline_plot(\n",
    "    model_results=fitted_result_excluded_outlier,\n",
    "    ax=ax, linestyle='dashed',\n",
    "    label='$y = %.2f + %.2fx$' % (intercept, coef_x))\n",
    "\n",
    "ax.scatter([4], [40], c='r', linewidths=3, marker='o')\n",
    "ax.legend()\n",
    "fig"
   ]
  },
  {
   "cell_type": "code",
   "execution_count": 6,
   "metadata": {},
   "outputs": [
    {
     "name": "stdout",
     "output_type": "stream",
     "text": [
      "                            OLS Regression Results                            \n",
      "==============================================================================\n",
      "Dep. Variable:                      y   R-squared:                       0.910\n",
      "Model:                            OLS   Adj. R-squared:                  0.905\n",
      "Method:                 Least Squares   F-statistic:                     192.2\n",
      "Date:                Thu, 20 Dec 2018   Prob (F-statistic):           2.18e-11\n",
      "Time:                        20:34:58   Log-Likelihood:                -61.294\n",
      "No. Observations:                  21   AIC:                             126.6\n",
      "Df Residuals:                      19   BIC:                             128.7\n",
      "Df Model:                           1                                         \n",
      "Covariance Type:            nonrobust                                         \n",
      "==============================================================================\n",
      "                 coef    std err          t      P>|t|      [0.025      0.975]\n",
      "------------------------------------------------------------------------------\n",
      "Intercept      2.9576      2.009      1.472      0.157      -1.247       7.163\n",
      "x              5.0373      0.363     13.865      0.000       4.277       5.798\n",
      "==============================================================================\n",
      "Omnibus:                       30.102   Durbin-Watson:                   1.564\n",
      "Prob(Omnibus):                  0.000   Jarque-Bera (JB):               61.821\n",
      "Skew:                           2.424   Prob(JB):                     3.76e-14\n",
      "Kurtosis:                       9.866   Cond. No.                         11.1\n",
      "==============================================================================\n",
      "\n",
      "Warnings:\n",
      "[1] Standard Errors assume that the covariance matrix of the errors is correctly specified.\n",
      "\n",
      "\n",
      "\n",
      "                            OLS Regression Results                            \n",
      "==============================================================================\n",
      "Dep. Variable:                      y   R-squared:                       0.973\n",
      "Model:                            OLS   Adj. R-squared:                  0.972\n",
      "Method:                 Least Squares   F-statistic:                     652.8\n",
      "Date:                Thu, 20 Dec 2018   Prob (F-statistic):           1.35e-15\n",
      "Time:                        20:34:58   Log-Likelihood:                -46.374\n",
      "No. Observations:                  20   AIC:                             96.75\n",
      "Df Residuals:                      18   BIC:                             98.74\n",
      "Df Model:                           1                                         \n",
      "Covariance Type:            nonrobust                                         \n",
      "==============================================================================\n",
      "                 coef    std err          t      P>|t|      [0.025      0.975]\n",
      "------------------------------------------------------------------------------\n",
      "Intercept      1.7322      1.121      1.546      0.140      -0.622       4.086\n",
      "x              5.1169      0.200     25.551      0.000       4.696       5.538\n",
      "==============================================================================\n",
      "Omnibus:                        0.394   Durbin-Watson:                   2.066\n",
      "Prob(Omnibus):                  0.821   Jarque-Bera (JB):                0.287\n",
      "Skew:                           0.259   Prob(JB):                        0.866\n",
      "Kurtosis:                       2.723   Cond. No.                         11.1\n",
      "==============================================================================\n",
      "\n",
      "Warnings:\n",
      "[1] Standard Errors assume that the covariance matrix of the errors is correctly specified.\n"
     ]
    }
   ],
   "source": [
    "print(fitted_result_included_outlier.summary())\n",
    "print(\"\\n\\n\")\n",
    "print(fitted_result_excluded_outlier.summary())"
   ]
  },
  {
   "cell_type": "markdown",
   "metadata": {},
   "source": [
    "从回归线和统计检验看出, 该Outlier点不是强影响点Influence.\n",
    "\n",
    "查看: R-squared, coef[x], std err[x], P"
   ]
  },
  {
   "cell_type": "markdown",
   "metadata": {},
   "source": [
    "## Leverage"
   ]
  },
  {
   "cell_type": "code",
   "execution_count": 7,
   "metadata": {},
   "outputs": [
    {
     "data": {
      "text/html": [
       "<div>\n",
       "<style scoped>\n",
       "    .dataframe tbody tr th:only-of-type {\n",
       "        vertical-align: middle;\n",
       "    }\n",
       "\n",
       "    .dataframe tbody tr th {\n",
       "        vertical-align: top;\n",
       "    }\n",
       "\n",
       "    .dataframe thead th {\n",
       "        text-align: right;\n",
       "    }\n",
       "</style>\n",
       "<table border=\"1\" class=\"dataframe\">\n",
       "  <thead>\n",
       "    <tr style=\"text-align: right;\">\n",
       "      <th></th>\n",
       "      <th>x</th>\n",
       "      <th>y</th>\n",
       "    </tr>\n",
       "  </thead>\n",
       "  <tbody>\n",
       "    <tr>\n",
       "      <th>18</th>\n",
       "      <td>8.70156</td>\n",
       "      <td>46.5475</td>\n",
       "    </tr>\n",
       "    <tr>\n",
       "      <th>19</th>\n",
       "      <td>9.16463</td>\n",
       "      <td>45.7762</td>\n",
       "    </tr>\n",
       "    <tr>\n",
       "      <th>20</th>\n",
       "      <td>14.00000</td>\n",
       "      <td>68.0000</td>\n",
       "    </tr>\n",
       "  </tbody>\n",
       "</table>\n",
       "</div>"
      ],
      "text/plain": [
       "           x        y\n",
       "18   8.70156  46.5475\n",
       "19   9.16463  45.7762\n",
       "20  14.00000  68.0000"
      ]
     },
     "execution_count": 7,
     "metadata": {},
     "output_type": "execute_result"
    }
   ],
   "source": [
    "# Mod Leverage point(14, 68)\n",
    "leverage_point = np.array([14, 68])\n",
    "influence_df.loc[n] = leverage_point\n",
    "influence_df[-3:]"
   ]
  },
  {
   "cell_type": "code",
   "execution_count": 8,
   "metadata": {},
   "outputs": [
    {
     "data": {
      "text/plain": [
       "<matplotlib.legend.Legend at 0x7f892e7bc278>"
      ]
     },
     "execution_count": 8,
     "metadata": {},
     "output_type": "execute_result"
    },
    {
     "data": {
      "image/png": "[encoded data removed]",
      "text/plain": [
       "<Figure size 432x288 with 1 Axes>"
      ]
     },
     "metadata": {},
     "output_type": "display_data"
    }
   ],
   "source": [
    "fig, ax = plt.subplots()\n",
    "influence_df.plot.scatter('x', 'y', ax=ax)\n",
    "ax.set_title(\"ScatterPlot of y vs x\")\n",
    "\n",
    "fitted_result_included_leverage = smf.ols(formula=\"y ~ x\", data=influence_df[0:n+1]).fit()\n",
    "fitted_result_excluded_leverage = smf.ols(formula=\"y ~ x\", data=influence_df[0:n]).fit()\n",
    "\n",
    "intercept, coef_x = fitted_result_included_leverage.params\n",
    "\n",
    "sm.graphics.abline_plot(\n",
    "    model_results=fitted_result_included_leverage, ax=ax, color='b',\n",
    "    label='$y = %.2f + %.2fx$' % (intercept, coef_x))\n",
    "\n",
    "intercept, coef_x = fitted_result_excluded_leverage.params\n",
    "\n",
    "sm.graphics.abline_plot(\n",
    "    model_results=fitted_result_excluded_leverage,\n",
    "    ax=ax, linestyle='dashed',\n",
    "    label='$y = %.2f + %.2fx$' % (intercept, coef_x))\n",
    "\n",
    "ax.scatter([14], [68], c='r', linewidths=3, marker='o')\n",
    "ax.legend()"
   ]
  },
  {
   "cell_type": "code",
   "execution_count": 9,
   "metadata": {},
   "outputs": [
    {
     "name": "stdout",
     "output_type": "stream",
     "text": [
      "                            OLS Regression Results                            \n",
      "==============================================================================\n",
      "Dep. Variable:                      y   R-squared:                       0.977\n",
      "Model:                            OLS   Adj. R-squared:                  0.976\n",
      "Method:                 Least Squares   F-statistic:                     821.4\n",
      "Date:                Thu, 20 Dec 2018   Prob (F-statistic):           4.23e-17\n",
      "Time:                        20:34:59   Log-Likelihood:                -49.676\n",
      "No. Observations:                  21   AIC:                             103.4\n",
      "Df Residuals:                      19   BIC:                             105.4\n",
      "Df Model:                           1                                         \n",
      "Covariance Type:            nonrobust                                         \n",
      "==============================================================================\n",
      "                 coef    std err          t      P>|t|      [0.025      0.975]\n",
      "------------------------------------------------------------------------------\n",
      "Intercept      2.4679      1.076      2.294      0.033       0.216       4.719\n",
      "x              4.9272      0.172     28.661      0.000       4.567       5.287\n",
      "==============================================================================\n",
      "Omnibus:                        1.266   Durbin-Watson:                   1.807\n",
      "Prob(Omnibus):                  0.531   Jarque-Bera (JB):                1.018\n",
      "Skew:                           0.310   Prob(JB):                        0.601\n",
      "Kurtosis:                       2.117   Cond. No.                         11.6\n",
      "==============================================================================\n",
      "\n",
      "Warnings:\n",
      "[1] Standard Errors assume that the covariance matrix of the errors is correctly specified.\n",
      "\n",
      "\n",
      "\n",
      "                            OLS Regression Results                            \n",
      "==============================================================================\n",
      "Dep. Variable:                      y   R-squared:                       0.973\n",
      "Model:                            OLS   Adj. R-squared:                  0.972\n",
      "Method:                 Least Squares   F-statistic:                     652.8\n",
      "Date:                Thu, 20 Dec 2018   Prob (F-statistic):           1.35e-15\n",
      "Time:                        20:34:59   Log-Likelihood:                -46.374\n",
      "No. Observations:                  20   AIC:                             96.75\n",
      "Df Residuals:                      18   BIC:                             98.74\n",
      "Df Model:                           1                                         \n",
      "Covariance Type:            nonrobust                                         \n",
      "==============================================================================\n",
      "                 coef    std err          t      P>|t|      [0.025      0.975]\n",
      "------------------------------------------------------------------------------\n",
      "Intercept      1.7322      1.121      1.546      0.140      -0.622       4.086\n",
      "x              5.1169      0.200     25.551      0.000       4.696       5.538\n",
      "==============================================================================\n",
      "Omnibus:                        0.394   Durbin-Watson:                   2.066\n",
      "Prob(Omnibus):                  0.821   Jarque-Bera (JB):                0.287\n",
      "Skew:                           0.259   Prob(JB):                        0.866\n",
      "Kurtosis:                       2.723   Cond. No.                         11.1\n",
      "==============================================================================\n",
      "\n",
      "Warnings:\n",
      "[1] Standard Errors assume that the covariance matrix of the errors is correctly specified.\n"
     ]
    }
   ],
   "source": [
    "print(fitted_result_included_leverage.summary())\n",
    "print(\"\\n\\n\")\n",
    "print(fitted_result_excluded_leverage.summary())"
   ]
  },
  {
   "cell_type": "markdown",
   "metadata": {},
   "source": [
    "通过回归图和统计检验数据, 判断该Leverage Point也不是Influence Point."
   ]
  },
  {
   "cell_type": "markdown",
   "metadata": {},
   "source": [
    "## Outlier and Leverage"
   ]
  },
  {
   "cell_type": "code",
   "execution_count": 10,
   "metadata": {},
   "outputs": [
    {
     "data": {
      "text/html": [
       "<div>\n",
       "<style scoped>\n",
       "    .dataframe tbody tr th:only-of-type {\n",
       "        vertical-align: middle;\n",
       "    }\n",
       "\n",
       "    .dataframe tbody tr th {\n",
       "        vertical-align: top;\n",
       "    }\n",
       "\n",
       "    .dataframe thead th {\n",
       "        text-align: right;\n",
       "    }\n",
       "</style>\n",
       "<table border=\"1\" class=\"dataframe\">\n",
       "  <thead>\n",
       "    <tr style=\"text-align: right;\">\n",
       "      <th></th>\n",
       "      <th>x</th>\n",
       "      <th>y</th>\n",
       "    </tr>\n",
       "  </thead>\n",
       "  <tbody>\n",
       "    <tr>\n",
       "      <th>18</th>\n",
       "      <td>8.70156</td>\n",
       "      <td>46.5475</td>\n",
       "    </tr>\n",
       "    <tr>\n",
       "      <th>19</th>\n",
       "      <td>9.16463</td>\n",
       "      <td>45.7762</td>\n",
       "    </tr>\n",
       "    <tr>\n",
       "      <th>20</th>\n",
       "      <td>13.00000</td>\n",
       "      <td>15.0000</td>\n",
       "    </tr>\n",
       "  </tbody>\n",
       "</table>\n",
       "</div>"
      ],
      "text/plain": [
       "           x        y\n",
       "18   8.70156  46.5475\n",
       "19   9.16463  45.7762\n",
       "20  13.00000  15.0000"
      ]
     },
     "execution_count": 10,
     "metadata": {},
     "output_type": "execute_result"
    }
   ],
   "source": [
    "# Mod Leverage point(13, 15)\n",
    "outlier_leverage_point = np.array([13, 15])\n",
    "influence_df.loc[n] = outlier_leverage_point \n",
    "influence_df[-3:]"
   ]
  },
  {
   "cell_type": "code",
   "execution_count": 11,
   "metadata": {},
   "outputs": [
    {
     "data": {
      "text/plain": [
       "<matplotlib.legend.Legend at 0x7f892e702630>"
      ]
     },
     "execution_count": 11,
     "metadata": {},
     "output_type": "execute_result"
    },
    {
     "data": {
      "image/png": "[encoded data removed]",
      "text/plain": [
       "<Figure size 432x288 with 1 Axes>"
      ]
     },
     "metadata": {},
     "output_type": "display_data"
    }
   ],
   "source": [
    "fig, ax = plt.subplots()\n",
    "influence_df.plot.scatter('x', 'y', ax=ax)\n",
    "ax.set_title(\"ScatterPlot of y vs x\")\n",
    "\n",
    "fitted_result_included_outlier_leverage = smf.ols(formula=\"y ~ x\", data=influence_df[0:n+1]).fit()\n",
    "fitted_result_excluded_outlier_leverage = smf.ols(formula=\"y ~ x\", data=influence_df[0:n]).fit()\n",
    "\n",
    "intercept, coef_x = fitted_result_included_outlier_leverage.params\n",
    "\n",
    "sm.graphics.abline_plot(\n",
    "    model_results=fitted_result_included_outlier_leverage,\n",
    "    ax=ax, color='b',\n",
    "    label='$y = %.2f + %.2fx$' % (intercept, coef_x))\n",
    "\n",
    "intercept, coef_x = fitted_result_excluded_outlier_leverage.params\n",
    "\n",
    "sm.graphics.abline_plot(\n",
    "    model_results=fitted_result_excluded_outlier_leverage,\n",
    "    ax=ax, linestyle='dashed',\n",
    "    label='$y = %.2f + %.2fx$' % (intercept, coef_x))\n",
    "\n",
    "ax.scatter([13], [15], c='r', linewidths=3, marker='o')\n",
    "ax.legend()"
   ]
  },
  {
   "cell_type": "code",
   "execution_count": 12,
   "metadata": {},
   "outputs": [
    {
     "name": "stdout",
     "output_type": "stream",
     "text": [
      "                            OLS Regression Results                            \n",
      "==============================================================================\n",
      "Dep. Variable:                      y   R-squared:                       0.552\n",
      "Model:                            OLS   Adj. R-squared:                  0.528\n",
      "Method:                 Least Squares   F-statistic:                     23.41\n",
      "Date:                Thu, 20 Dec 2018   Prob (F-statistic):           0.000114\n",
      "Time:                        20:34:59   Log-Likelihood:                -78.017\n",
      "No. Observations:                  21   AIC:                             160.0\n",
      "Df Residuals:                      19   BIC:                             162.1\n",
      "Df Model:                           1                                         \n",
      "Covariance Type:            nonrobust                                         \n",
      "==============================================================================\n",
      "                 coef    std err          t      P>|t|      [0.025      0.975]\n",
      "------------------------------------------------------------------------------\n",
      "Intercept      8.5046      4.222      2.014      0.058      -0.333      17.342\n",
      "x              3.3198      0.686      4.838      0.000       1.884       4.756\n",
      "==============================================================================\n",
      "Omnibus:                       27.066   Durbin-Watson:                   1.042\n",
      "Prob(Omnibus):                  0.000   Jarque-Bera (JB):               49.826\n",
      "Skew:                          -2.197   Prob(JB):                     1.52e-11\n",
      "Kurtosis:                       9.136   Cond. No.                         11.6\n",
      "==============================================================================\n",
      "\n",
      "Warnings:\n",
      "[1] Standard Errors assume that the covariance matrix of the errors is correctly specified.\n",
      "\n",
      "\n",
      "\n",
      "                            OLS Regression Results                            \n",
      "==============================================================================\n",
      "Dep. Variable:                      y   R-squared:                       0.973\n",
      "Model:                            OLS   Adj. R-squared:                  0.972\n",
      "Method:                 Least Squares   F-statistic:                     652.8\n",
      "Date:                Thu, 20 Dec 2018   Prob (F-statistic):           1.35e-15\n",
      "Time:                        20:34:59   Log-Likelihood:                -46.374\n",
      "No. Observations:                  20   AIC:                             96.75\n",
      "Df Residuals:                      18   BIC:                             98.74\n",
      "Df Model:                           1                                         \n",
      "Covariance Type:            nonrobust                                         \n",
      "==============================================================================\n",
      "                 coef    std err          t      P>|t|      [0.025      0.975]\n",
      "------------------------------------------------------------------------------\n",
      "Intercept      1.7322      1.121      1.546      0.140      -0.622       4.086\n",
      "x              5.1169      0.200     25.551      0.000       4.696       5.538\n",
      "==============================================================================\n",
      "Omnibus:                        0.394   Durbin-Watson:                   2.066\n",
      "Prob(Omnibus):                  0.821   Jarque-Bera (JB):                0.287\n",
      "Skew:                           0.259   Prob(JB):                        0.866\n",
      "Kurtosis:                       2.723   Cond. No.                         11.1\n",
      "==============================================================================\n",
      "\n",
      "Warnings:\n",
      "[1] Standard Errors assume that the covariance matrix of the errors is correctly specified.\n"
     ]
    }
   ],
   "source": [
    "print(fitted_result_included_outlier_leverage.summary())\n",
    "print(\"\\n\\n\")\n",
    "print(fitted_result_excluded_outlier_leverage.summary())"
   ]
  },
  {
   "cell_type": "markdown",
   "metadata": {},
   "source": [
    "这个观测值对回归分析影响很大是Influence Point, 可以剔除."
   ]
  }
 ],
 "metadata": {
  "kernelspec": {
   "display_name": "Python 3",
   "language": "python",
   "name": "python3"
  },
  "language_info": {
   "codemirror_mode": {
    "name": "ipython",
    "version": 3
   },
   "file_extension": ".py",
   "mimetype": "text/x-python",
   "name": "python",
   "nbconvert_exporter": "python",
   "pygments_lexer": "ipython3",
   "version": "3.4.3"
  }
 },
 "nbformat": 4,
 "nbformat_minor": 2
}
