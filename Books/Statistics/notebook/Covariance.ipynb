{
 "cells": [
  {
   "cell_type": "markdown",
   "metadata": {},
   "source": [
    "# <div align='center'> 协方差矩阵 </div>"
   ]
  },
  {
   "cell_type": "code",
   "execution_count": 1,
   "metadata": {},
   "outputs": [],
   "source": [
    "import numpy as np\n",
    "import pandas as pd\n",
    "\n",
    "import matplotlib.pylab as plt\n",
    "\n",
    "import seaborn as sns\n",
    "import statsmodels.api as sm\n",
    "\n",
    "import warnings\n",
    "\n",
    "warnings.filterwarnings('ignore')\n",
    "\n",
    "%matplotlib inline\n",
    "\n",
    "plt.style.use('ggplot')\n",
    "plt.rcParams['figure.figsize'] = (8, 6)"
   ]
  },
  {
   "cell_type": "markdown",
   "metadata": {},
   "source": [
    "# 基础"
   ]
  },
  {
   "cell_type": "markdown",
   "metadata": {},
   "source": [
    "## np.cov\n",
    "\n",
    "def cov(m, y=None, rowvar=True, bias=False, ddof=None, fweights=None,aweights=None)\n",
    "\n",
    "- m: 默认每一列代表一个观测点, 行代表属性特征, 由rowvar控制\n",
    "\n",
    "- rowvar: 默认True, 表示行是变量(属性特征)\n",
    "\n",
    "- bias: 默认Flase, N - 1. 这就是为啥np.var()的值和np.var对角线上的值不同的元凶.\n",
    "\n",
    "\n",
    "协方差矩阵计算的是不同维度之间的协方差，而不是不同样本之间的\n",
    "\n",
    "拿到一个样本矩阵，首先要明确的就是行代表什么，列代表什么"
   ]
  },
  {
   "cell_type": "markdown",
   "metadata": {},
   "source": [
    "## np.cov(X) 和 np.cov(X, Y)区别"
   ]
  },
  {
   "cell_type": "code",
   "execution_count": 2,
   "metadata": {},
   "outputs": [
    {
     "data": {
      "text/plain": [
       "array([[1, 5, 6],\n",
       "       [4, 3, 9],\n",
       "       [4, 2, 9],\n",
       "       [4, 7, 2]])"
      ]
     },
     "execution_count": 2,
     "metadata": {},
     "output_type": "execute_result"
    }
   ],
   "source": [
    "X = np.array([[1 ,5 ,6] ,[4 ,3 ,9 ],[ 4 ,2 ,9],[ 4 ,7 ,2]])\n",
    "X\n",
    "# 默认: 行是特征值, 列是观测值"
   ]
  },
  {
   "cell_type": "code",
   "execution_count": 3,
   "metadata": {},
   "outputs": [],
   "source": [
    "x = X[0:2]\n",
    "y = X[2:4]"
   ]
  },
  {
   "cell_type": "code",
   "execution_count": 4,
   "metadata": {},
   "outputs": [
    {
     "data": {
      "text/plain": [
       "array([[ 7.        ,  4.5       ,  4.        , -0.5       ],\n",
       "       [ 4.5       , 10.33333333, 11.5       , -7.16666667],\n",
       "       [ 4.        , 11.5       , 13.        , -8.5       ],\n",
       "       [-0.5       , -7.16666667, -8.5       ,  6.33333333]])"
      ]
     },
     "execution_count": 4,
     "metadata": {},
     "output_type": "execute_result"
    }
   ],
   "source": [
    "np.cov(x, y)"
   ]
  },
  {
   "cell_type": "code",
   "execution_count": 5,
   "metadata": {},
   "outputs": [
    {
     "data": {
      "text/plain": [
       "array([[ 7.        ,  4.5       ,  4.        , -0.5       ],\n",
       "       [ 4.5       , 10.33333333, 11.5       , -7.16666667],\n",
       "       [ 4.        , 11.5       , 13.        , -8.5       ],\n",
       "       [-0.5       , -7.16666667, -8.5       ,  6.33333333]])"
      ]
     },
     "execution_count": 5,
     "metadata": {},
     "output_type": "execute_result"
    }
   ],
   "source": [
    "np.cov(np.vstack((x, y)))"
   ]
  },
  {
   "cell_type": "code",
   "execution_count": 6,
   "metadata": {},
   "outputs": [
    {
     "data": {
      "text/plain": [
       "array([[ 7.        ,  4.5       ,  4.        , -0.5       ],\n",
       "       [ 4.5       , 10.33333333, 11.5       , -7.16666667],\n",
       "       [ 4.        , 11.5       , 13.        , -8.5       ],\n",
       "       [-0.5       , -7.16666667, -8.5       ,  6.33333333]])"
      ]
     },
     "execution_count": 6,
     "metadata": {},
     "output_type": "execute_result"
    }
   ],
   "source": [
    "# X = np.vstack((x,y))\n",
    "np.cov(X)"
   ]
  },
  {
   "cell_type": "code",
   "execution_count": 7,
   "metadata": {},
   "outputs": [
    {
     "data": {
      "text/plain": [
       "array([-3.,  1.,  2.])"
      ]
     },
     "execution_count": 7,
     "metadata": {},
     "output_type": "execute_result"
    }
   ],
   "source": [
    "np.sum(np.power(X[0] - np.mean(X[0]), 2)) / (3 - 1)\n",
    "\n",
    "(X[0] - np.mean(X[0])).T"
   ]
  },
  {
   "cell_type": "markdown",
   "metadata": {},
   "source": [
    "## 实现"
   ]
  },
  {
   "cell_type": "code",
   "execution_count": 8,
   "metadata": {},
   "outputs": [],
   "source": [
    "def cov_matrix(X, bias=False):\n",
    "    # R是属性特征, C是观测点\n",
    "    R, C = X.shape\n",
    "    if bias:\n",
    "        dof = C\n",
    "    else:\n",
    "        dof = C - 1\n",
    "    cov_matrix_result = np.zeros(R*C).reshape(R, C)\n",
    "    for r in range(0, R):\n",
    "        for c in range(0, C):\n",
    "            cov_matrix_result[r][c] = np.sum((X[r] - np.average(X[r])) * (X[c] - np.average(X[c]))) / dof\n",
    "    return cov_matrix_result "
   ]
  },
  {
   "cell_type": "code",
   "execution_count": 9,
   "metadata": {},
   "outputs": [
    {
     "data": {
      "text/plain": [
       "array([[ 7.        ,  4.5       ,  4.        ],\n",
       "       [ 4.5       , 10.33333333, 11.5       ],\n",
       "       [ 4.        , 11.5       , 13.        ],\n",
       "       [-0.5       , -7.16666667, -8.5       ]])"
      ]
     },
     "execution_count": 9,
     "metadata": {},
     "output_type": "execute_result"
    }
   ],
   "source": [
    "cov_matrix(X)"
   ]
  },
  {
   "cell_type": "markdown",
   "metadata": {},
   "source": [
    "# 残差协方差矩阵"
   ]
  },
  {
   "cell_type": "code",
   "execution_count": 10,
   "metadata": {},
   "outputs": [],
   "source": [
    "# 模拟数据, x[1,3,5,7,9] 5个值的150观测点, 一个X下10个样本点\n",
    "\n",
    "# np.random.seed(520)\n",
    "# x = np.random.uniform(0, 10, 30)\n",
    "\n",
    "x = np.zeros(5 * 10)\n",
    "x[0:10] = 1\n",
    "x[10:20] = 3\n",
    "x[20:30] = 5\n",
    "x[30:40] = 7\n",
    "x[40:50] = 9\n",
    "\n",
    "e1 = np.random.randn(50)\n",
    "y1 = 2*x + e1\n",
    "\n",
    "e2 = e1*(x + 5)\n",
    "y2 = 2*x + e2"
   ]
  },
  {
   "cell_type": "code",
   "execution_count": 11,
   "metadata": {},
   "outputs": [
    {
     "data": {
      "text/plain": [
       "<matplotlib.collections.PathCollection at 0x7f66f2ae6320>"
      ]
     },
     "execution_count": 11,
     "metadata": {},
     "output_type": "execute_result"
    },
    {
     "data": {
      "image/png": "[encoded data removed]",
      "text/plain": [
       "<Figure size 432x288 with 1 Axes>"
      ]
     },
     "metadata": {},
     "output_type": "display_data"
    }
   ],
   "source": [
    "# sns.regplot(x, y1, color='b')\n",
    "# sns.regplot(x, y2, color='r')\n",
    "\n",
    "plt.scatter(x, y1, color='b', alpha=0.6)\n",
    "plt.scatter(x, y2, color='r', alpha=0.2)"
   ]
  },
  {
   "cell_type": "code",
   "execution_count": 12,
   "metadata": {},
   "outputs": [],
   "source": [
    "homo_fitted_result = sm.OLS(endog=y1, exog=x).fit()\n",
    "hetero_fitted_result = sm.OLS(endog=y2, exog=x).fit()"
   ]
  },
  {
   "cell_type": "code",
   "execution_count": 13,
   "metadata": {},
   "outputs": [
    {
     "data": {
      "text/plain": [
       "Text(0.5,1,'Residuals vs. Fits Plot')"
      ]
     },
     "execution_count": 13,
     "metadata": {},
     "output_type": "execute_result"
    },
    {
     "data": {
      "image/png": "[encoded data removed]",
      "text/plain": [
       "<Figure size 864x432 with 2 Axes>"
      ]
     },
     "metadata": {},
     "output_type": "display_data"
    }
   ],
   "source": [
    "# 估计值\n",
    "homo_x = homo_fitted_result.fittedvalues \n",
    "hetero_x = hetero_fitted_result.fittedvalues \n",
    "\n",
    "# 残差值\n",
    "homo_e = homo_fitted_result.resid\n",
    "hetero_e = hetero_fitted_result.resid\n",
    "\n",
    "fig, axes = plt.subplots(1, 2, figsize=(12, 6))\n",
    "fig.tight_layout(pad=5)\n",
    "\n",
    "axes[0].scatter(homo_x, homo_e, color='b')\n",
    "axes[0].set_xlabel(\"Fitted values\")\n",
    "axes[0].set_ylabel(\"Residual\")\n",
    "axes[0].set_title(\"Residuals vs. Fits Plot\")\n",
    "\n",
    "axes[1].scatter(hetero_x, hetero_e, color='r')\n",
    "axes[1].set_xlabel(\"Fitted values\")\n",
    "axes[1].set_ylabel(\"Residual\")\n",
    "axes[1].set_title(\"Residuals vs. Fits Plot\")\n"
   ]
  },
  {
   "cell_type": "code",
   "execution_count": 14,
   "metadata": {
    "scrolled": true
   },
   "outputs": [
    {
     "name": "stdout",
     "output_type": "stream",
     "text": [
      "表1\n"
     ]
    },
    {
     "data": {
      "text/html": [
       "<div>\n",
       "<style scoped>\n",
       "    .dataframe tbody tr th:only-of-type {\n",
       "        vertical-align: middle;\n",
       "    }\n",
       "\n",
       "    .dataframe tbody tr th {\n",
       "        vertical-align: top;\n",
       "    }\n",
       "\n",
       "    .dataframe thead th {\n",
       "        text-align: right;\n",
       "    }\n",
       "</style>\n",
       "<table border=\"1\" class=\"dataframe\">\n",
       "  <thead>\n",
       "    <tr style=\"text-align: right;\">\n",
       "      <th></th>\n",
       "      <th>均值(homo)</th>\n",
       "      <th>方差(homo)</th>\n",
       "      <th>均值(hetero)</th>\n",
       "      <th>方差(hetero)</th>\n",
       "    </tr>\n",
       "  </thead>\n",
       "  <tbody>\n",
       "    <tr>\n",
       "      <th>x=1</th>\n",
       "      <td>0.234120</td>\n",
       "      <td>0.795501</td>\n",
       "      <td>1.481288</td>\n",
       "      <td>28.638050</td>\n",
       "    </tr>\n",
       "    <tr>\n",
       "      <th>x=3</th>\n",
       "      <td>0.562194</td>\n",
       "      <td>1.467287</td>\n",
       "      <td>4.780266</td>\n",
       "      <td>93.906343</td>\n",
       "    </tr>\n",
       "    <tr>\n",
       "      <th>x=5</th>\n",
       "      <td>0.381242</td>\n",
       "      <td>0.531841</td>\n",
       "      <td>4.371954</td>\n",
       "      <td>53.184129</td>\n",
       "    </tr>\n",
       "    <tr>\n",
       "      <th>x=7</th>\n",
       "      <td>0.170099</td>\n",
       "      <td>0.637128</td>\n",
       "      <td>2.948230</td>\n",
       "      <td>91.746470</td>\n",
       "    </tr>\n",
       "    <tr>\n",
       "      <th>x=9</th>\n",
       "      <td>-0.557512</td>\n",
       "      <td>0.810359</td>\n",
       "      <td>-6.479940</td>\n",
       "      <td>158.830340</td>\n",
       "    </tr>\n",
       "  </tbody>\n",
       "</table>\n",
       "</div>"
      ],
      "text/plain": [
       "     均值(homo)  方差(homo)  均值(hetero)  方差(hetero)\n",
       "x=1  0.234120  0.795501    1.481288   28.638050\n",
       "x=3  0.562194  1.467287    4.780266   93.906343\n",
       "x=5  0.381242  0.531841    4.371954   53.184129\n",
       "x=7  0.170099  0.637128    2.948230   91.746470\n",
       "x=9 -0.557512  0.810359   -6.479940  158.830340"
      ]
     },
     "execution_count": 14,
     "metadata": {},
     "output_type": "execute_result"
    }
   ],
   "source": [
    "homo_nd = homo_e.reshape(5, 10)\n",
    "homo_df = pd.DataFrame(homo_nd) \n",
    "homo_mean = homo_df.apply(np.mean, axis=1)\n",
    "homo_var = homo_df.apply(np.var, axis=1)\n",
    "\n",
    "hetero_nd = hetero_e.reshape(5, 10)\n",
    "hetero_df = pd.DataFrame(hetero_nd) \n",
    "hetero_mean = hetero_df.apply(np.mean, axis=1)\n",
    "hetero_var = hetero_df.apply(np.var, axis=1)\n",
    "\n",
    "print(\"表1\")\n",
    "pd.DataFrame(\n",
    "    data=np.vstack((homo_mean, homo_var, hetero_mean, hetero_var)).T,\n",
    "    index=[\"x=1\", \"x=3\", \"x=5\", \"x=7\", \"x=9\"],\n",
    "    columns=[\"均值(homo)\", \"方差(homo)\", \"均值(hetero)\", \"方差(hetero)\"])"
   ]
  },
  {
   "cell_type": "markdown",
   "metadata": {},
   "source": [
    "如果拟合模型接近总体模型, 残差的均值应该为0, 方差相同.\n",
    "\n",
    "因为模拟数据中, 将误差故意随着X的变化, 拟合后均值接近0, 但是方差明显递增, 那么这种情况是不直接使用OLS."
   ]
  },
  {
   "cell_type": "code",
   "execution_count": 15,
   "metadata": {},
   "outputs": [
    {
     "name": "stdout",
     "output_type": "stream",
     "text": [
      "表2\n"
     ]
    },
    {
     "data": {
      "text/html": [
       "<div>\n",
       "<style scoped>\n",
       "    .dataframe tbody tr th:only-of-type {\n",
       "        vertical-align: middle;\n",
       "    }\n",
       "\n",
       "    .dataframe tbody tr th {\n",
       "        vertical-align: top;\n",
       "    }\n",
       "\n",
       "    .dataframe thead th {\n",
       "        text-align: right;\n",
       "    }\n",
       "</style>\n",
       "<table border=\"1\" class=\"dataframe\">\n",
       "  <thead>\n",
       "    <tr style=\"text-align: right;\">\n",
       "      <th></th>\n",
       "      <th>x=1</th>\n",
       "      <th>x=3</th>\n",
       "      <th>x=5</th>\n",
       "      <th>x=7</th>\n",
       "      <th>x=9</th>\n",
       "    </tr>\n",
       "  </thead>\n",
       "  <tbody>\n",
       "    <tr>\n",
       "      <th>x=1</th>\n",
       "      <td>0.795501</td>\n",
       "      <td>0.030915</td>\n",
       "      <td>0.226428</td>\n",
       "      <td>-0.447775</td>\n",
       "      <td>0.059800</td>\n",
       "    </tr>\n",
       "    <tr>\n",
       "      <th>x=3</th>\n",
       "      <td>0.030915</td>\n",
       "      <td>1.467287</td>\n",
       "      <td>0.654936</td>\n",
       "      <td>0.107649</td>\n",
       "      <td>0.399611</td>\n",
       "    </tr>\n",
       "    <tr>\n",
       "      <th>x=5</th>\n",
       "      <td>0.226428</td>\n",
       "      <td>0.654936</td>\n",
       "      <td>0.531841</td>\n",
       "      <td>-0.119510</td>\n",
       "      <td>0.099588</td>\n",
       "    </tr>\n",
       "    <tr>\n",
       "      <th>x=7</th>\n",
       "      <td>-0.447775</td>\n",
       "      <td>0.107649</td>\n",
       "      <td>-0.119510</td>\n",
       "      <td>0.637128</td>\n",
       "      <td>0.068148</td>\n",
       "    </tr>\n",
       "    <tr>\n",
       "      <th>x=9</th>\n",
       "      <td>0.059800</td>\n",
       "      <td>0.399611</td>\n",
       "      <td>0.099588</td>\n",
       "      <td>0.068148</td>\n",
       "      <td>0.810359</td>\n",
       "    </tr>\n",
       "  </tbody>\n",
       "</table>\n",
       "</div>"
      ],
      "text/plain": [
       "          x=1       x=3       x=5       x=7       x=9\n",
       "x=1  0.795501  0.030915  0.226428 -0.447775  0.059800\n",
       "x=3  0.030915  1.467287  0.654936  0.107649  0.399611\n",
       "x=5  0.226428  0.654936  0.531841 -0.119510  0.099588\n",
       "x=7 -0.447775  0.107649 -0.119510  0.637128  0.068148\n",
       "x=9  0.059800  0.399611  0.099588  0.068148  0.810359"
      ]
     },
     "execution_count": 15,
     "metadata": {},
     "output_type": "execute_result"
    }
   ],
   "source": [
    "# 同方差情景: 协方差\n",
    "print(\"表2\")\n",
    "pd.DataFrame(np.cov(homo_nd, rowvar=True, bias=True),\n",
    "            index=[\"x=1\", \"x=3\", \"x=5\", \"x=7\", \"x=9\"],\n",
    "            columns=[\"x=1\", \"x=3\", \"x=5\", \"x=7\", \"x=9\"])"
   ]
  },
  {
   "cell_type": "code",
   "execution_count": 16,
   "metadata": {},
   "outputs": [
    {
     "name": "stdout",
     "output_type": "stream",
     "text": [
      "表3\n"
     ]
    },
    {
     "data": {
      "text/html": [
       "<div>\n",
       "<style scoped>\n",
       "    .dataframe tbody tr th:only-of-type {\n",
       "        vertical-align: middle;\n",
       "    }\n",
       "\n",
       "    .dataframe tbody tr th {\n",
       "        vertical-align: top;\n",
       "    }\n",
       "\n",
       "    .dataframe thead th {\n",
       "        text-align: right;\n",
       "    }\n",
       "</style>\n",
       "<table border=\"1\" class=\"dataframe\">\n",
       "  <thead>\n",
       "    <tr style=\"text-align: right;\">\n",
       "      <th></th>\n",
       "      <th>x=1</th>\n",
       "      <th>x=3</th>\n",
       "      <th>x=5</th>\n",
       "      <th>x=7</th>\n",
       "      <th>x=9</th>\n",
       "    </tr>\n",
       "  </thead>\n",
       "  <tbody>\n",
       "    <tr>\n",
       "      <th>x=1</th>\n",
       "      <td>1.000000</td>\n",
       "      <td>0.028615</td>\n",
       "      <td>0.348112</td>\n",
       "      <td>-0.628964</td>\n",
       "      <td>0.074481</td>\n",
       "    </tr>\n",
       "    <tr>\n",
       "      <th>x=3</th>\n",
       "      <td>0.028615</td>\n",
       "      <td>1.000000</td>\n",
       "      <td>0.741396</td>\n",
       "      <td>0.111336</td>\n",
       "      <td>0.366472</td>\n",
       "    </tr>\n",
       "    <tr>\n",
       "      <th>x=5</th>\n",
       "      <td>0.348112</td>\n",
       "      <td>0.741396</td>\n",
       "      <td>1.000000</td>\n",
       "      <td>-0.205306</td>\n",
       "      <td>0.151697</td>\n",
       "    </tr>\n",
       "    <tr>\n",
       "      <th>x=7</th>\n",
       "      <td>-0.628964</td>\n",
       "      <td>0.111336</td>\n",
       "      <td>-0.205306</td>\n",
       "      <td>1.000000</td>\n",
       "      <td>0.094842</td>\n",
       "    </tr>\n",
       "    <tr>\n",
       "      <th>x=9</th>\n",
       "      <td>0.074481</td>\n",
       "      <td>0.366472</td>\n",
       "      <td>0.151697</td>\n",
       "      <td>0.094842</td>\n",
       "      <td>1.000000</td>\n",
       "    </tr>\n",
       "  </tbody>\n",
       "</table>\n",
       "</div>"
      ],
      "text/plain": [
       "          x=1       x=3       x=5       x=7       x=9\n",
       "x=1  1.000000  0.028615  0.348112 -0.628964  0.074481\n",
       "x=3  0.028615  1.000000  0.741396  0.111336  0.366472\n",
       "x=5  0.348112  0.741396  1.000000 -0.205306  0.151697\n",
       "x=7 -0.628964  0.111336 -0.205306  1.000000  0.094842\n",
       "x=9  0.074481  0.366472  0.151697  0.094842  1.000000"
      ]
     },
     "execution_count": 16,
     "metadata": {},
     "output_type": "execute_result"
    }
   ],
   "source": [
    "# 同方差情景: 相关系数\n",
    "print(\"表3\")\n",
    "pd.DataFrame(np.corrcoef(homo_nd, rowvar=True, bias=True),\n",
    "            index=[\"x=1\", \"x=3\", \"x=5\", \"x=7\", \"x=9\"],\n",
    "            columns=[\"x=1\", \"x=3\", \"x=5\", \"x=7\", \"x=9\"])"
   ]
  },
  {
   "cell_type": "code",
   "execution_count": 17,
   "metadata": {},
   "outputs": [
    {
     "name": "stdout",
     "output_type": "stream",
     "text": [
      "表4\n"
     ]
    },
    {
     "data": {
      "text/html": [
       "<div>\n",
       "<style scoped>\n",
       "    .dataframe tbody tr th:only-of-type {\n",
       "        vertical-align: middle;\n",
       "    }\n",
       "\n",
       "    .dataframe tbody tr th {\n",
       "        vertical-align: top;\n",
       "    }\n",
       "\n",
       "    .dataframe thead th {\n",
       "        text-align: right;\n",
       "    }\n",
       "</style>\n",
       "<table border=\"1\" class=\"dataframe\">\n",
       "  <thead>\n",
       "    <tr style=\"text-align: right;\">\n",
       "      <th></th>\n",
       "      <th>x=1</th>\n",
       "      <th>x=3</th>\n",
       "      <th>x=5</th>\n",
       "      <th>x=7</th>\n",
       "      <th>x=9</th>\n",
       "    </tr>\n",
       "  </thead>\n",
       "  <tbody>\n",
       "    <tr>\n",
       "      <th>x=1</th>\n",
       "      <td>28.638050</td>\n",
       "      <td>1.483913</td>\n",
       "      <td>13.585688</td>\n",
       "      <td>-32.239803</td>\n",
       "      <td>5.023214</td>\n",
       "    </tr>\n",
       "    <tr>\n",
       "      <th>x=3</th>\n",
       "      <td>1.483913</td>\n",
       "      <td>93.906343</td>\n",
       "      <td>52.394847</td>\n",
       "      <td>10.334264</td>\n",
       "      <td>44.756439</td>\n",
       "    </tr>\n",
       "    <tr>\n",
       "      <th>x=5</th>\n",
       "      <td>13.585688</td>\n",
       "      <td>52.394847</td>\n",
       "      <td>53.184129</td>\n",
       "      <td>-14.341250</td>\n",
       "      <td>13.942340</td>\n",
       "    </tr>\n",
       "    <tr>\n",
       "      <th>x=7</th>\n",
       "      <td>-32.239803</td>\n",
       "      <td>10.334264</td>\n",
       "      <td>-14.341250</td>\n",
       "      <td>91.746470</td>\n",
       "      <td>11.448874</td>\n",
       "    </tr>\n",
       "    <tr>\n",
       "      <th>x=9</th>\n",
       "      <td>5.023214</td>\n",
       "      <td>44.756439</td>\n",
       "      <td>13.942340</td>\n",
       "      <td>11.448874</td>\n",
       "      <td>158.830340</td>\n",
       "    </tr>\n",
       "  </tbody>\n",
       "</table>\n",
       "</div>"
      ],
      "text/plain": [
       "           x=1        x=3        x=5        x=7         x=9\n",
       "x=1  28.638050   1.483913  13.585688 -32.239803    5.023214\n",
       "x=3   1.483913  93.906343  52.394847  10.334264   44.756439\n",
       "x=5  13.585688  52.394847  53.184129 -14.341250   13.942340\n",
       "x=7 -32.239803  10.334264 -14.341250  91.746470   11.448874\n",
       "x=9   5.023214  44.756439  13.942340  11.448874  158.830340"
      ]
     },
     "execution_count": 17,
     "metadata": {},
     "output_type": "execute_result"
    }
   ],
   "source": [
    "# 异方差情景: 协方差\n",
    "print(\"表4\")\n",
    "pd.DataFrame(np.cov(hetero_nd, rowvar=True, bias=True),\n",
    "            index=[\"x=1\", \"x=3\", \"x=5\", \"x=7\", \"x=9\"],\n",
    "            columns=[\"x=1\", \"x=3\", \"x=5\", \"x=7\", \"x=9\"])"
   ]
  },
  {
   "cell_type": "code",
   "execution_count": 18,
   "metadata": {},
   "outputs": [
    {
     "name": "stdout",
     "output_type": "stream",
     "text": [
      "表5\n"
     ]
    },
    {
     "data": {
      "text/html": [
       "<div>\n",
       "<style scoped>\n",
       "    .dataframe tbody tr th:only-of-type {\n",
       "        vertical-align: middle;\n",
       "    }\n",
       "\n",
       "    .dataframe tbody tr th {\n",
       "        vertical-align: top;\n",
       "    }\n",
       "\n",
       "    .dataframe thead th {\n",
       "        text-align: right;\n",
       "    }\n",
       "</style>\n",
       "<table border=\"1\" class=\"dataframe\">\n",
       "  <thead>\n",
       "    <tr style=\"text-align: right;\">\n",
       "      <th></th>\n",
       "      <th>x=1</th>\n",
       "      <th>x=3</th>\n",
       "      <th>x=5</th>\n",
       "      <th>x=7</th>\n",
       "      <th>x=9</th>\n",
       "    </tr>\n",
       "  </thead>\n",
       "  <tbody>\n",
       "    <tr>\n",
       "      <th>x=1</th>\n",
       "      <td>1.000000</td>\n",
       "      <td>0.028615</td>\n",
       "      <td>0.348112</td>\n",
       "      <td>-0.628964</td>\n",
       "      <td>0.074481</td>\n",
       "    </tr>\n",
       "    <tr>\n",
       "      <th>x=3</th>\n",
       "      <td>0.028615</td>\n",
       "      <td>1.000000</td>\n",
       "      <td>0.741396</td>\n",
       "      <td>0.111336</td>\n",
       "      <td>0.366472</td>\n",
       "    </tr>\n",
       "    <tr>\n",
       "      <th>x=5</th>\n",
       "      <td>0.348112</td>\n",
       "      <td>0.741396</td>\n",
       "      <td>1.000000</td>\n",
       "      <td>-0.205306</td>\n",
       "      <td>0.151697</td>\n",
       "    </tr>\n",
       "    <tr>\n",
       "      <th>x=7</th>\n",
       "      <td>-0.628964</td>\n",
       "      <td>0.111336</td>\n",
       "      <td>-0.205306</td>\n",
       "      <td>1.000000</td>\n",
       "      <td>0.094842</td>\n",
       "    </tr>\n",
       "    <tr>\n",
       "      <th>x=9</th>\n",
       "      <td>0.074481</td>\n",
       "      <td>0.366472</td>\n",
       "      <td>0.151697</td>\n",
       "      <td>0.094842</td>\n",
       "      <td>1.000000</td>\n",
       "    </tr>\n",
       "  </tbody>\n",
       "</table>\n",
       "</div>"
      ],
      "text/plain": [
       "          x=1       x=3       x=5       x=7       x=9\n",
       "x=1  1.000000  0.028615  0.348112 -0.628964  0.074481\n",
       "x=3  0.028615  1.000000  0.741396  0.111336  0.366472\n",
       "x=5  0.348112  0.741396  1.000000 -0.205306  0.151697\n",
       "x=7 -0.628964  0.111336 -0.205306  1.000000  0.094842\n",
       "x=9  0.074481  0.366472  0.151697  0.094842  1.000000"
      ]
     },
     "execution_count": 18,
     "metadata": {},
     "output_type": "execute_result"
    }
   ],
   "source": [
    "# 异方差情景: 相关系数\n",
    "print(\"表5\")\n",
    "pd.DataFrame(np.corrcoef(hetero_nd, rowvar=True, bias=True),\n",
    "            index=[\"x=1\", \"x=3\", \"x=5\", \"x=7\", \"x=9\"],\n",
    "            columns=[\"x=1\", \"x=3\", \"x=5\", \"x=7\", \"x=9\"])"
   ]
  },
  {
   "cell_type": "markdown",
   "metadata": {},
   "source": [
    "由上面的表可以看到, 对角线上的数据就是X在个点的样本残差的方差.\n",
    "\n",
    "除主对角线, 其他值基本都在0附近.\n",
    "\n",
    "对比同方差和异方差两种场景, 得到如下结论:\n",
    "\n",
    "1. 表2, 主对角线数值基本相等; 表4, 主对角线递增; 两个表的主对角线均和表1里面的数值有对应关系\n",
    "\n",
    "2. 表3,表5是相关系数表, 可以看出5组样本采集的数据是非线性相关.\n",
    "\n",
    "3. 表2和表4也是特殊的残差的协方差矩, 特殊在我X取5个点, 设定X后, 再抽出10个样本, 真实场景X的值不是如此设定的."
   ]
  },
  {
   "cell_type": "markdown",
   "metadata": {},
   "source": [
    "## 显示统计信息"
   ]
  },
  {
   "cell_type": "code",
   "execution_count": 19,
   "metadata": {},
   "outputs": [
    {
     "name": "stdout",
     "output_type": "stream",
     "text": [
      "                            OLS Regression Results                            \n",
      "==============================================================================\n",
      "Dep. Variable:                      y   R-squared:                       0.992\n",
      "Model:                            OLS   Adj. R-squared:                  0.992\n",
      "Method:                 Least Squares   F-statistic:                     6400.\n",
      "Date:                Sat, 29 Dec 2018   Prob (F-statistic):           1.36e-53\n",
      "Time:                        18:16:58   Log-Likelihood:                -71.433\n",
      "No. Observations:                  50   AIC:                             144.9\n",
      "Df Residuals:                      49   BIC:                             146.8\n",
      "Df Model:                           1                                         \n",
      "Covariance Type:            nonrobust                                         \n",
      "==============================================================================\n",
      "                 coef    std err          t      P>|t|      [0.025      0.975]\n",
      "------------------------------------------------------------------------------\n",
      "x1             2.0088      0.025     79.998      0.000       1.958       2.059\n",
      "==============================================================================\n",
      "Omnibus:                        3.737   Durbin-Watson:                   1.772\n",
      "Prob(Omnibus):                  0.154   Jarque-Bera (JB):                1.920\n",
      "Skew:                          -0.171   Prob(JB):                        0.383\n",
      "Kurtosis:                       2.103   Cond. No.                         1.00\n",
      "==============================================================================\n",
      "\n",
      "Warnings:\n",
      "[1] Standard Errors assume that the covariance matrix of the errors is correctly specified.\n"
     ]
    }
   ],
   "source": [
    "print(homo_fitted_result.summary())"
   ]
  },
  {
   "cell_type": "markdown",
   "metadata": {},
   "source": [
    "------"
   ]
  },
  {
   "cell_type": "code",
   "execution_count": 20,
   "metadata": {},
   "outputs": [
    {
     "name": "stdout",
     "output_type": "stream",
     "text": [
      "                            OLS Regression Results                            \n",
      "==============================================================================\n",
      "Dep. Variable:                      y   R-squared:                       0.553\n",
      "Model:                            OLS   Adj. R-squared:                  0.544\n",
      "Method:                 Least Squares   F-statistic:                     60.60\n",
      "Date:                Sat, 29 Dec 2018   Prob (F-statistic):           4.08e-10\n",
      "Time:                        18:16:58   Log-Likelihood:                -187.11\n",
      "No. Observations:                  50   AIC:                             376.2\n",
      "Df Residuals:                      49   BIC:                             378.1\n",
      "Df Model:                           1                                         \n",
      "Covariance Type:            nonrobust                                         \n",
      "==============================================================================\n",
      "                 coef    std err          t      P>|t|      [0.025      0.975]\n",
      "------------------------------------------------------------------------------\n",
      "x1             1.9764      0.254      7.785      0.000       1.466       2.487\n",
      "==============================================================================\n",
      "Omnibus:                        1.333   Durbin-Watson:                   1.726\n",
      "Prob(Omnibus):                  0.514   Jarque-Bera (JB):                1.243\n",
      "Skew:                          -0.366   Prob(JB):                        0.537\n",
      "Kurtosis:                       2.756   Cond. No.                         1.00\n",
      "==============================================================================\n",
      "\n",
      "Warnings:\n",
      "[1] Standard Errors assume that the covariance matrix of the errors is correctly specified.\n"
     ]
    }
   ],
   "source": [
    "print(hetero_fitted_result.summary())"
   ]
  },
  {
   "cell_type": "markdown",
   "metadata": {},
   "source": [
    " ---------------\n",
    " \n",
    " 异方差的$R^2$远小于同方差的$R^2$"
   ]
  },
  {
   "cell_type": "code",
   "execution_count": 21,
   "metadata": {},
   "outputs": [],
   "source": [
    "homo_fitted_result = sm.WLS(endog=y1, exog=x).fit()\n",
    "hetero_fitted_result = sm.WLS(endog=y2, exog=x).fit()"
   ]
  },
  {
   "cell_type": "code",
   "execution_count": 22,
   "metadata": {},
   "outputs": [
    {
     "data": {
      "text/plain": [
       "Text(0.5,1,'Residuals vs. Fits Plot')"
      ]
     },
     "execution_count": 22,
     "metadata": {},
     "output_type": "execute_result"
    },
    {
     "data": {
      "image/png": "[encoded data removed]",
      "text/plain": [
       "<Figure size 864x432 with 2 Axes>"
      ]
     },
     "metadata": {},
     "output_type": "display_data"
    }
   ],
   "source": [
    "# 估计值\n",
    "homo_x = homo_fitted_result.fittedvalues \n",
    "hetero_x = hetero_fitted_result.fittedvalues \n",
    "\n",
    "# 残差值\n",
    "homo_e = homo_fitted_result.resid\n",
    "hetero_e = hetero_fitted_result.resid\n",
    "\n",
    "fig, axes = plt.subplots(1, 2, figsize=(12, 6))\n",
    "fig.tight_layout(pad=5)\n",
    "\n",
    "axes[0].scatter(homo_x, homo_e, color='b')\n",
    "axes[0].set_xlabel(\"Fitted values\")\n",
    "axes[0].set_ylabel(\"Residual\")\n",
    "axes[0].set_title(\"Residuals vs. Fits Plot\")\n",
    "\n",
    "axes[1].scatter(hetero_x, hetero_e, color='r')\n",
    "axes[1].set_xlabel(\"Fitted values\")\n",
    "axes[1].set_ylabel(\"Residual\")\n",
    "axes[1].set_title(\"Residuals vs. Fits Plot\")\n"
   ]
  },
  {
   "cell_type": "code",
   "execution_count": 23,
   "metadata": {},
   "outputs": [
    {
     "name": "stdout",
     "output_type": "stream",
     "text": [
      "表1\n"
     ]
    },
    {
     "data": {
      "text/html": [
       "<div>\n",
       "<style scoped>\n",
       "    .dataframe tbody tr th:only-of-type {\n",
       "        vertical-align: middle;\n",
       "    }\n",
       "\n",
       "    .dataframe tbody tr th {\n",
       "        vertical-align: top;\n",
       "    }\n",
       "\n",
       "    .dataframe thead th {\n",
       "        text-align: right;\n",
       "    }\n",
       "</style>\n",
       "<table border=\"1\" class=\"dataframe\">\n",
       "  <thead>\n",
       "    <tr style=\"text-align: right;\">\n",
       "      <th></th>\n",
       "      <th>均值(homo)</th>\n",
       "      <th>方差(homo)</th>\n",
       "      <th>均值(hetero)</th>\n",
       "      <th>方差(hetero)</th>\n",
       "    </tr>\n",
       "  </thead>\n",
       "  <tbody>\n",
       "    <tr>\n",
       "      <th>x=1</th>\n",
       "      <td>0.234120</td>\n",
       "      <td>0.795501</td>\n",
       "      <td>1.481288</td>\n",
       "      <td>28.638050</td>\n",
       "    </tr>\n",
       "    <tr>\n",
       "      <th>x=3</th>\n",
       "      <td>0.562194</td>\n",
       "      <td>1.467287</td>\n",
       "      <td>4.780266</td>\n",
       "      <td>93.906343</td>\n",
       "    </tr>\n",
       "    <tr>\n",
       "      <th>x=5</th>\n",
       "      <td>0.381242</td>\n",
       "      <td>0.531841</td>\n",
       "      <td>4.371954</td>\n",
       "      <td>53.184129</td>\n",
       "    </tr>\n",
       "    <tr>\n",
       "      <th>x=7</th>\n",
       "      <td>0.170099</td>\n",
       "      <td>0.637128</td>\n",
       "      <td>2.948230</td>\n",
       "      <td>91.746470</td>\n",
       "    </tr>\n",
       "    <tr>\n",
       "      <th>x=9</th>\n",
       "      <td>-0.557512</td>\n",
       "      <td>0.810359</td>\n",
       "      <td>-6.479940</td>\n",
       "      <td>158.830340</td>\n",
       "    </tr>\n",
       "  </tbody>\n",
       "</table>\n",
       "</div>"
      ],
      "text/plain": [
       "     均值(homo)  方差(homo)  均值(hetero)  方差(hetero)\n",
       "x=1  0.234120  0.795501    1.481288   28.638050\n",
       "x=3  0.562194  1.467287    4.780266   93.906343\n",
       "x=5  0.381242  0.531841    4.371954   53.184129\n",
       "x=7  0.170099  0.637128    2.948230   91.746470\n",
       "x=9 -0.557512  0.810359   -6.479940  158.830340"
      ]
     },
     "execution_count": 23,
     "metadata": {},
     "output_type": "execute_result"
    }
   ],
   "source": [
    "homo_nd = homo_e.reshape(5, 10)\n",
    "homo_df = pd.DataFrame(homo_nd) \n",
    "homo_mean = homo_df.apply(np.mean, axis=1)\n",
    "homo_var = homo_df.apply(np.var, axis=1)\n",
    "\n",
    "hetero_nd = hetero_e.reshape(5, 10)\n",
    "hetero_df = pd.DataFrame(hetero_nd) \n",
    "hetero_mean = hetero_df.apply(np.mean, axis=1)\n",
    "hetero_var = hetero_df.apply(np.var, axis=1)\n",
    "\n",
    "print(\"表1\")\n",
    "pd.DataFrame(\n",
    "    data=np.column_stack((homo_mean, homo_var, hetero_mean, hetero_var)),\n",
    "    index=[\"x=1\", \"x=3\", \"x=5\", \"x=7\", \"x=9\"],\n",
    "    columns=[\"均值(homo)\", \"方差(homo)\", \"均值(hetero)\", \"方差(hetero)\"])"
   ]
  }
 ],
 "metadata": {
  "kernelspec": {
   "display_name": "Python 3",
   "language": "python",
   "name": "python3"
  },
  "language_info": {
   "codemirror_mode": {
    "name": "ipython",
    "version": 3
   },
   "file_extension": ".py",
   "mimetype": "text/x-python",
   "name": "python",
   "nbconvert_exporter": "python",
   "pygments_lexer": "ipython3",
   "version": "3.4.3"
  }
 },
 "nbformat": 4,
 "nbformat_minor": 2
}
