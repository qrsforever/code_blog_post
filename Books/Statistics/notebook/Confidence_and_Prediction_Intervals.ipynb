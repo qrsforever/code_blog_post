{
 "cells": [
  {
   "cell_type": "markdown",
   "metadata": {},
   "source": [
    "# <div align=\"center\"> 置信区间和预测区间 </div>"
   ]
  },
  {
   "cell_type": "code",
   "execution_count": 1,
   "metadata": {},
   "outputs": [],
   "source": [
    "import os\n",
    "import pandas as pd\n",
    "import numpy as np\n",
    "import matplotlib.pyplot as plt\n",
    "import statsmodels.api as sm\n",
    "from statsmodels.sandbox.regression.predstd import wls_prediction_std\n",
    "from statsmodels.stats.outliers_influence import summary_table\n",
    "\n",
    "import warnings\n",
    "\n",
    "warnings.filterwarnings('ignore')\n",
    "    \n",
    "%matplotlib inline\n",
    "\n",
    "plt.style.use('ggplot')"
   ]
  },
  {
   "cell_type": "code",
   "execution_count": 2,
   "metadata": {},
   "outputs": [
    {
     "data": {
      "text/html": [
       "<div>\n",
       "<style scoped>\n",
       "    .dataframe tbody tr th:only-of-type {\n",
       "        vertical-align: middle;\n",
       "    }\n",
       "\n",
       "    .dataframe tbody tr th {\n",
       "        vertical-align: top;\n",
       "    }\n",
       "\n",
       "    .dataframe thead th {\n",
       "        text-align: right;\n",
       "    }\n",
       "</style>\n",
       "<table border=\"1\" class=\"dataframe\">\n",
       "  <thead>\n",
       "    <tr style=\"text-align: right;\">\n",
       "      <th></th>\n",
       "      <th>不良贷款\n",
       "(亿元）</th>\n",
       "      <th>各项贷款余额\n",
       "(亿元)</th>\n",
       "      <th>本年累计应收贷款\n",
       "(亿元)</th>\n",
       "      <th>贷款项目个数\n",
       "(个)</th>\n",
       "      <th>本年固定资产投资额\n",
       "(亿元)</th>\n",
       "    </tr>\n",
       "  </thead>\n",
       "  <tbody>\n",
       "    <tr>\n",
       "      <th>0</th>\n",
       "      <td>0.9</td>\n",
       "      <td>67.3</td>\n",
       "      <td>6.8</td>\n",
       "      <td>5</td>\n",
       "      <td>51.9</td>\n",
       "    </tr>\n",
       "    <tr>\n",
       "      <th>1</th>\n",
       "      <td>1.1</td>\n",
       "      <td>111.3</td>\n",
       "      <td>19.8</td>\n",
       "      <td>16</td>\n",
       "      <td>90.9</td>\n",
       "    </tr>\n",
       "    <tr>\n",
       "      <th>2</th>\n",
       "      <td>4.8</td>\n",
       "      <td>173.0</td>\n",
       "      <td>7.7</td>\n",
       "      <td>17</td>\n",
       "      <td>73.7</td>\n",
       "    </tr>\n",
       "  </tbody>\n",
       "</table>\n",
       "</div>"
      ],
      "text/plain": [
       "   不良贷款\\n(亿元）  各项贷款余额\\n(亿元)  本年累计应收贷款\\n(亿元)  贷款项目个数\\n(个)  本年固定资产投资额\\n(亿元)\n",
       "0         0.9          67.3             6.8            5             51.9\n",
       "1         1.1         111.3            19.8           16             90.9\n",
       "2         4.8         173.0             7.7           17             73.7"
      ]
     },
     "execution_count": 2,
     "metadata": {},
     "output_type": "execute_result"
    }
   ],
   "source": [
    "## Dataset: 不良贷款 (亿元） ~ 各项贷款余额 \n",
    "\n",
    "db = '/home/lidong/Datasets/'\n",
    "bad_loans_df = pd.read_excel(os.path.join(db, \"Statistics/bad-loans.xls\"), usecols=\"B:F\")\n",
    "bad_loans_df[0:3]"
   ]
  },
  {
   "cell_type": "code",
   "execution_count": 3,
   "metadata": {},
   "outputs": [
    {
     "data": {
      "text/html": [
       "<div>\n",
       "<style scoped>\n",
       "    .dataframe tbody tr th:only-of-type {\n",
       "        vertical-align: middle;\n",
       "    }\n",
       "\n",
       "    .dataframe tbody tr th {\n",
       "        vertical-align: top;\n",
       "    }\n",
       "\n",
       "    .dataframe thead th {\n",
       "        text-align: right;\n",
       "    }\n",
       "</style>\n",
       "<table border=\"1\" class=\"dataframe\">\n",
       "  <thead>\n",
       "    <tr style=\"text-align: right;\">\n",
       "      <th></th>\n",
       "      <th>const</th>\n",
       "      <th>各项贷款余额\n",
       "(亿元)</th>\n",
       "    </tr>\n",
       "  </thead>\n",
       "  <tbody>\n",
       "    <tr>\n",
       "      <th>22</th>\n",
       "      <td>1.0</td>\n",
       "      <td>109.6</td>\n",
       "    </tr>\n",
       "    <tr>\n",
       "      <th>23</th>\n",
       "      <td>1.0</td>\n",
       "      <td>196.2</td>\n",
       "    </tr>\n",
       "    <tr>\n",
       "      <th>24</th>\n",
       "      <td>1.0</td>\n",
       "      <td>102.2</td>\n",
       "    </tr>\n",
       "  </tbody>\n",
       "</table>\n",
       "</div>"
      ],
      "text/plain": [
       "    const  各项贷款余额\\n(亿元)\n",
       "22    1.0         109.6\n",
       "23    1.0         196.2\n",
       "24    1.0         102.2"
      ]
     },
     "execution_count": 3,
     "metadata": {},
     "output_type": "execute_result"
    }
   ],
   "source": [
    "## Regress \n",
    "ys_loans_bad = bad_loans_df.iloc[:, 0]\n",
    "xs_loans_balance = bad_loans_df.iloc[:, 1]\n",
    "\n",
    "xs_loans_balance_with_intercept = sm.add_constant(xs_loans_balance)\n",
    "xs_loans_balance_with_intercept[-3:]"
   ]
  },
  {
   "cell_type": "code",
   "execution_count": 4,
   "metadata": {},
   "outputs": [
    {
     "name": "stdout",
     "output_type": "stream",
     "text": [
      "                            OLS Regression Results                            \n",
      "==============================================================================\n",
      "Dep. Variable:              不良贷款\n",
      "(亿元）   R-squared:                       0.712\n",
      "Model:                            OLS   Adj. R-squared:                  0.699\n",
      "Method:                 Least Squares   F-statistic:                     56.75\n",
      "Date:                Thu, 20 Dec 2018   Prob (F-statistic):           1.18e-07\n",
      "Time:                        22:12:10   Log-Likelihood:                -51.508\n",
      "No. Observations:                  25   AIC:                             107.0\n",
      "Df Residuals:                      23   BIC:                             109.5\n",
      "Df Model:                           1                                         \n",
      "Covariance Type:            nonrobust                                         \n",
      "===============================================================================\n",
      "                  coef    std err          t      P>|t|      [0.025      0.975]\n",
      "-------------------------------------------------------------------------------\n",
      "const          -0.8295      0.723     -1.147      0.263      -2.325       0.666\n",
      "各项贷款余额\n",
      "(亿元)     0.0379      0.005      7.534      0.000       0.027       0.048\n",
      "==============================================================================\n",
      "Omnibus:                       14.277   Durbin-Watson:                   2.464\n",
      "Prob(Omnibus):                  0.001   Jarque-Bera (JB):               14.611\n",
      "Skew:                           1.382   Prob(JB):                     0.000672\n",
      "Kurtosis:                       5.527   Cond. No.                         262.\n",
      "==============================================================================\n",
      "\n",
      "Warnings:\n",
      "[1] Standard Errors assume that the covariance matrix of the errors is correctly specified.\n"
     ]
    }
   ],
   "source": [
    "fitted_result = sm.OLS(endog=ys_loans_bad, exog=xs_loans_balance_with_intercept).fit()\n",
    "print(fitted_result.summary())"
   ]
  },
  {
   "cell_type": "code",
   "execution_count": 5,
   "metadata": {},
   "outputs": [
    {
     "data": {
      "text/html": [
       "<div>\n",
       "<style scoped>\n",
       "    .dataframe tbody tr th:only-of-type {\n",
       "        vertical-align: middle;\n",
       "    }\n",
       "\n",
       "    .dataframe tbody tr th {\n",
       "        vertical-align: top;\n",
       "    }\n",
       "\n",
       "    .dataframe thead th {\n",
       "        text-align: right;\n",
       "    }\n",
       "</style>\n",
       "<table border=\"1\" class=\"dataframe\">\n",
       "  <thead>\n",
       "    <tr style=\"text-align: right;\">\n",
       "      <th></th>\n",
       "      <th>Obs</th>\n",
       "      <th>Dep Var\n",
       "Population</th>\n",
       "      <th>Predicted\n",
       "Value</th>\n",
       "      <th>Std Error\n",
       "Mean Predict</th>\n",
       "      <th>Mean ci\n",
       "95% low</th>\n",
       "      <th>Mean ci\n",
       "95% upp</th>\n",
       "      <th>Predict ci\n",
       "95% low</th>\n",
       "      <th>Predict ci\n",
       "95% upp</th>\n",
       "      <th>Residual</th>\n",
       "      <th>Std Error\n",
       "Residual</th>\n",
       "      <th>Student\n",
       "Residual</th>\n",
       "      <th>Cook's\n",
       "D</th>\n",
       "    </tr>\n",
       "  </thead>\n",
       "  <tbody>\n",
       "    <tr>\n",
       "      <th>22</th>\n",
       "      <td>23.0</td>\n",
       "      <td>1.2</td>\n",
       "      <td>3.323739</td>\n",
       "      <td>0.399609</td>\n",
       "      <td>2.497085</td>\n",
       "      <td>4.150393</td>\n",
       "      <td>-0.854683</td>\n",
       "      <td>7.502161</td>\n",
       "      <td>-2.123739</td>\n",
       "      <td>1.939202</td>\n",
       "      <td>-1.095161</td>\n",
       "      <td>0.025465</td>\n",
       "    </tr>\n",
       "    <tr>\n",
       "      <th>23</th>\n",
       "      <td>24.0</td>\n",
       "      <td>7.2</td>\n",
       "      <td>6.605421</td>\n",
       "      <td>0.550175</td>\n",
       "      <td>5.467296</td>\n",
       "      <td>7.743545</td>\n",
       "      <td>2.354400</td>\n",
       "      <td>10.856442</td>\n",
       "      <td>0.594579</td>\n",
       "      <td>1.901972</td>\n",
       "      <td>0.312612</td>\n",
       "      <td>0.004089</td>\n",
       "    </tr>\n",
       "    <tr>\n",
       "      <th>24</th>\n",
       "      <td>25.0</td>\n",
       "      <td>3.2</td>\n",
       "      <td>3.043318</td>\n",
       "      <td>0.406285</td>\n",
       "      <td>2.202853</td>\n",
       "      <td>3.883784</td>\n",
       "      <td>-1.137858</td>\n",
       "      <td>7.224495</td>\n",
       "      <td>0.156682</td>\n",
       "      <td>1.937814</td>\n",
       "      <td>0.080855</td>\n",
       "      <td>0.000144</td>\n",
       "    </tr>\n",
       "  </tbody>\n",
       "</table>\n",
       "</div>"
      ],
      "text/plain": [
       "     Obs  Dep Var\\nPopulation  Predicted\\nValue  Std Error\\nMean Predict  \\\n",
       "22  23.0                  1.2          3.323739                 0.399609   \n",
       "23  24.0                  7.2          6.605421                 0.550175   \n",
       "24  25.0                  3.2          3.043318                 0.406285   \n",
       "\n",
       "    Mean ci\\n95% low  Mean ci\\n95% upp  Predict ci\\n95% low  \\\n",
       "22          2.497085          4.150393            -0.854683   \n",
       "23          5.467296          7.743545             2.354400   \n",
       "24          2.202853          3.883784            -1.137858   \n",
       "\n",
       "    Predict ci\\n95% upp  Residual  Std Error\\nResidual  Student\\nResidual  \\\n",
       "22             7.502161 -2.123739             1.939202          -1.095161   \n",
       "23            10.856442  0.594579             1.901972           0.312612   \n",
       "24             7.224495  0.156682             1.937814           0.080855   \n",
       "\n",
       "    Cook's\\nD  \n",
       "22   0.025465  \n",
       "23   0.004089  \n",
       "24   0.000144  "
      ]
     },
     "execution_count": 5,
     "metadata": {},
     "output_type": "execute_result"
    }
   ],
   "source": [
    "simple_table, data_nd, ss2_list = summary_table(fitted_result, alpha=0.05)\n",
    "data_df = pd.DataFrame(data_nd, columns=ss2_list)\n",
    "data_df[-3:]"
   ]
  },
  {
   "cell_type": "code",
   "execution_count": 6,
   "metadata": {},
   "outputs": [
    {
     "data": {
      "text/html": [
       "<div>\n",
       "<style scoped>\n",
       "    .dataframe tbody tr th:only-of-type {\n",
       "        vertical-align: middle;\n",
       "    }\n",
       "\n",
       "    .dataframe tbody tr th {\n",
       "        vertical-align: top;\n",
       "    }\n",
       "\n",
       "    .dataframe thead th {\n",
       "        text-align: right;\n",
       "    }\n",
       "</style>\n",
       "<table border=\"1\" class=\"dataframe\">\n",
       "  <thead>\n",
       "    <tr style=\"text-align: right;\">\n",
       "      <th></th>\n",
       "      <th>Predicted\n",
       "Value</th>\n",
       "      <th>Std Error\n",
       "Mean Predict</th>\n",
       "      <th>Mean ci\n",
       "95% low</th>\n",
       "      <th>Mean ci\n",
       "95% upp</th>\n",
       "      <th>Predict ci\n",
       "95% low</th>\n",
       "      <th>Predict ci\n",
       "95% upp</th>\n",
       "    </tr>\n",
       "  </thead>\n",
       "  <tbody>\n",
       "    <tr>\n",
       "      <th>22</th>\n",
       "      <td>3.323739</td>\n",
       "      <td>0.399609</td>\n",
       "      <td>2.497085</td>\n",
       "      <td>4.150393</td>\n",
       "      <td>-0.854683</td>\n",
       "      <td>7.502161</td>\n",
       "    </tr>\n",
       "    <tr>\n",
       "      <th>23</th>\n",
       "      <td>6.605421</td>\n",
       "      <td>0.550175</td>\n",
       "      <td>5.467296</td>\n",
       "      <td>7.743545</td>\n",
       "      <td>2.354400</td>\n",
       "      <td>10.856442</td>\n",
       "    </tr>\n",
       "    <tr>\n",
       "      <th>24</th>\n",
       "      <td>3.043318</td>\n",
       "      <td>0.406285</td>\n",
       "      <td>2.202853</td>\n",
       "      <td>3.883784</td>\n",
       "      <td>-1.137858</td>\n",
       "      <td>7.224495</td>\n",
       "    </tr>\n",
       "  </tbody>\n",
       "</table>\n",
       "</div>"
      ],
      "text/plain": [
       "    Predicted\\nValue  Std Error\\nMean Predict  Mean ci\\n95% low  \\\n",
       "22          3.323739                 0.399609          2.497085   \n",
       "23          6.605421                 0.550175          5.467296   \n",
       "24          3.043318                 0.406285          2.202853   \n",
       "\n",
       "    Mean ci\\n95% upp  Predict ci\\n95% low  Predict ci\\n95% upp  \n",
       "22          4.150393            -0.854683             7.502161  \n",
       "23          7.743545             2.354400            10.856442  \n",
       "24          3.883784            -1.137858             7.224495  "
      ]
     },
     "execution_count": 6,
     "metadata": {},
     "output_type": "execute_result"
    }
   ],
   "source": [
    "data_df.iloc[-3:, 2:8]"
   ]
  },
  {
   "cell_type": "code",
   "execution_count": 7,
   "metadata": {},
   "outputs": [
    {
     "data": {
      "text/html": [
       "<div>\n",
       "<style scoped>\n",
       "    .dataframe tbody tr th:only-of-type {\n",
       "        vertical-align: middle;\n",
       "    }\n",
       "\n",
       "    .dataframe tbody tr th {\n",
       "        vertical-align: top;\n",
       "    }\n",
       "\n",
       "    .dataframe thead th {\n",
       "        text-align: right;\n",
       "    }\n",
       "</style>\n",
       "<table border=\"1\" class=\"dataframe\">\n",
       "  <thead>\n",
       "    <tr style=\"text-align: right;\">\n",
       "      <th></th>\n",
       "      <th>Predict ci 95% low</th>\n",
       "      <th>Predict ci 95% upp</th>\n",
       "      <th>Predict std</th>\n",
       "    </tr>\n",
       "  </thead>\n",
       "  <tbody>\n",
       "    <tr>\n",
       "      <th>22</th>\n",
       "      <td>-0.854683</td>\n",
       "      <td>7.502161</td>\n",
       "      <td>2.019871</td>\n",
       "    </tr>\n",
       "    <tr>\n",
       "      <th>23</th>\n",
       "      <td>2.354400</td>\n",
       "      <td>10.856442</td>\n",
       "      <td>2.054966</td>\n",
       "    </tr>\n",
       "    <tr>\n",
       "      <th>24</th>\n",
       "      <td>-1.137858</td>\n",
       "      <td>7.224495</td>\n",
       "      <td>2.021203</td>\n",
       "    </tr>\n",
       "  </tbody>\n",
       "</table>\n",
       "</div>"
      ],
      "text/plain": [
       "    Predict ci 95% low  Predict ci 95% upp  Predict std\n",
       "22           -0.854683            7.502161     2.019871\n",
       "23            2.354400           10.856442     2.054966\n",
       "24           -1.137858            7.224495     2.021203"
      ]
     },
     "execution_count": 7,
     "metadata": {},
     "output_type": "execute_result"
    }
   ],
   "source": [
    "# Prediction interval is the confidence interval for an observation and includes the estimate of the error.\n",
    "prstd, lower95, upper95 = wls_prediction_std(fitted_result, alpha=0.05)\n",
    "pd.DataFrame({'Predict std': prstd, 'Predict ci 95% low':lower95, 'Predict ci 95% upp':upper95})[-3:]"
   ]
  },
  {
   "cell_type": "code",
   "execution_count": 8,
   "metadata": {},
   "outputs": [],
   "source": [
    "predicted_values = data_nd[:, 2]\n",
    "predict_mean_std = data_nd[:, 3]\n",
    "predict_mean_ci_low95, predict_mean_ci_upp95 = data_nd[:, 4:6].T\n",
    "predict_ci_low95, predict_ci_upp95 = data_nd[:, 6:8].T"
   ]
  },
  {
   "cell_type": "code",
   "execution_count": 9,
   "metadata": {},
   "outputs": [
    {
     "data": {
      "text/plain": [
       "[<matplotlib.lines.Line2D at 0x7f481fb97c18>]"
      ]
     },
     "execution_count": 9,
     "metadata": {},
     "output_type": "execute_result"
    },
    {
     "data": {
      "image/png": "[encoded data removed]",
      "text/plain": [
       "<Figure size 576x576 with 1 Axes>"
      ]
     },
     "metadata": {},
     "output_type": "display_data"
    }
   ],
   "source": [
    "plt.figure(figsize=(8,8))\n",
    "plt.plot(xs_loans_balance, ys_loans_bad, 'o')\n",
    "plt.plot(xs_loans_balance, predicted_values, '-', lw=2)\n",
    "plt.plot(xs_loans_balance, predict_ci_low95, 'r--', lw=2)\n",
    "plt.plot(xs_loans_balance, predict_ci_upp95, 'r--', lw=2)\n",
    "plt.plot(xs_loans_balance, predict_mean_ci_low95, 'b--', lw=2)\n",
    "plt.plot(xs_loans_balance, predict_mean_ci_upp95, 'b--', lw=2)"
   ]
  }
 ],
 "metadata": {
  "kernelspec": {
   "display_name": "Python 3",
   "language": "python",
   "name": "python3"
  },
  "language_info": {
   "codemirror_mode": {
    "name": "ipython",
    "version": 3
   },
   "file_extension": ".py",
   "mimetype": "text/x-python",
   "name": "python",
   "nbconvert_exporter": "python",
   "pygments_lexer": "ipython3",
   "version": "3.4.3"
  }
 },
 "nbformat": 4,
 "nbformat_minor": 2
}
