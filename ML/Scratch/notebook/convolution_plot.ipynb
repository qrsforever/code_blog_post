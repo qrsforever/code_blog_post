{
 "cells": [
  {
   "cell_type": "code",
   "execution_count": 1,
   "metadata": {},
   "outputs": [],
   "source": [
    "%matplotlib inline"
   ]
  },
  {
   "cell_type": "code",
   "execution_count": 2,
   "metadata": {},
   "outputs": [],
   "source": [
    "import numpy as np\n",
    "import matplotlib.pyplot as plt"
   ]
  },
  {
   "cell_type": "code",
   "execution_count": 3,
   "metadata": {},
   "outputs": [],
   "source": [
    "# 全局配置plot参数\n",
    "plt.rcParams['font.sans-serif'] = 'SimHei'\n",
    "plt.rcParams['axes.unicode_minus'] = False\n",
    "plt.rcParams['figure.figsize'] = (12.0, 12.0)\n",
    "plt.rcParams['text.usetex'] = True\n",
    "plt.rcParams['text.latex.preamble'] = [r'\\usepackage{amsmath}']\n",
    "plt.rcParams['animation.html'] = 'jshtml'\n",
    "plt.rcParams['axes.labelsize'] = 16"
   ]
  },
  {
   "cell_type": "markdown",
   "metadata": {},
   "source": [
    "为了更好理解, 这里举一个例子: 向湖水里扔石头, 每扔一次湖水就会激起水波, 假设这个水波慢慢\n",
    "振幅减小且3秒后变为0.如果我每3秒中扔一个石头, 看到现象就是水波周期性(波的高度慢慢变小)振动,\n",
    "如果1秒中扔一个石头, 看到的现象是(线性)叠加后的效果."
   ]
  },
  {
   "cell_type": "markdown",
   "metadata": {},
   "source": [
    "卷积公式: $y(t)=\\int_{-\\infty}^{+\\infty}{h(t-\\lambda)\\cdot f(\\lambda)\\cdot d\\lambda}$"
   ]
  },
  {
   "cell_type": "code",
   "execution_count": 4,
   "metadata": {},
   "outputs": [],
   "source": [
    "ts = np.linspace(-1, 9, 50)\n",
    "\n",
    "def f_impulse(lam):\n",
    "    if (lam < 0):\n",
    "        return 0 \n",
    "    return 1\n",
    "\n",
    "def h_response(lam):\n",
    "    if (lam < 0 or lam > 3):\n",
    "        return 0\n",
    "    return round(-1*lam/3+1, 3)\n",
    "\n",
    "def line_sum(fs, hses):\n",
    "    return sum(fs * hses)"
   ]
  },
  {
   "cell_type": "code",
   "execution_count": 5,
   "metadata": {},
   "outputs": [],
   "source": [
    "fs = np.array([f_impulse(i) for i in ts])\n",
    "hs = np.array([h_response(i) for i in ts])"
   ]
  },
  {
   "cell_type": "code",
   "execution_count": 6,
   "metadata": {},
   "outputs": [
    {
     "data": {
      "text/plain": [
       "Text(-30, -50, '$h(\\\\lambda)$')"
      ]
     },
     "execution_count": 6,
     "metadata": {},
     "output_type": "execute_result"
    },
    {
     "data": {
      "image/png": "[encoded data removed]",
      "text/plain": [
       "<Figure size 864x288 with 2 Axes>"
      ]
     },
     "metadata": {
      "needs_background": "light"
     },
     "output_type": "display_data"
    }
   ],
   "source": [
    "fig, axes = plt.subplots(1, 2, figsize=(12, 4))\n",
    "axes[0].set_xlabel('t')\n",
    "axes[0].set_ylabel('f(t),h(t)')\n",
    "axes[0].set_xlim([-1, 10])\n",
    "axes[0].set_ylim([-1, 4])\n",
    "axes[0].set_xticks(np.linspace(-1, 9, 11, dtype=np.int))\n",
    "axes[0].set_yticks(np.linspace(-1, 4, 6, dtype=np.int))\n",
    "axes[0].grid(True)\n",
    "\n",
    "axes[1].set_xlabel('t')\n",
    "axes[1].set_ylabel(r'$\\sum$')\n",
    "axes[1].set_xlim([-1, 10])\n",
    "axes[1].set_ylim([-1, 4])\n",
    "axes[1].set_xticks(np.linspace(-1, 9, 11, dtype=np.int))\n",
    "axes[1].set_yticks(np.linspace(-1, 4, 6, dtype=np.int))\n",
    "axes[1].grid(True)\n",
    "\n",
    "mask = fs > 0\n",
    "axes[0].scatter(ts[mask], fs[mask], s=10)\n",
    "mask = hs > 0\n",
    "axes[0].scatter(ts[mask], hs[mask], s=10)\n",
    "\n",
    "axes[0].annotate(r'$f(\\lambda)$', xy = (8, 1), xycoords = 'data',\n",
    "             xytext = (30, 30), textcoords = 'offset points',\n",
    "             fontsize = 16, arrowprops = dict(arrowstyle = '->', connectionstyle = 'arc3, rad = .2'))\n",
    "\n",
    "axes[0].annotate(r'$h(\\lambda)$', xy = (1.5, 0.5), xycoords = 'data',\n",
    "             xytext = (-30, -50), textcoords = 'offset points',\n",
    "             fontsize = 16, arrowprops = dict(arrowstyle = '->', connectionstyle = 'arc3, rad = .2'))"
   ]
  },
  {
   "cell_type": "markdown",
   "metadata": {},
   "source": [
    "## 叠加效应"
   ]
  },
  {
   "cell_type": "markdown",
   "metadata": {},
   "source": [
    "移动$h(\\lambda)$, 分别在第3,6秒, 投放相同大小的石头$f(\\lambda) = 1$, 石头大小为1, 从下图看并没有叠加效应"
   ]
  },
  {
   "cell_type": "code",
   "execution_count": 7,
   "metadata": {},
   "outputs": [
    {
     "data": {
      "image/png": "[encoded data removed]",
      "text/plain": [
       "<Figure size 864x288 with 2 Axes>"
      ]
     },
     "execution_count": 7,
     "metadata": {},
     "output_type": "execute_result"
    }
   ],
   "source": [
    "hses = [np.array([h_response(i-j) for i in ts]) for j in (0, 3, 6)]\n",
    "scaes = []\n",
    "for hs in hses:\n",
    "    mask = hs > 0\n",
    "    scaes.append(axes[0].scatter(ts[mask], hs[mask], s=4, color='blue', alpha=0.5))\n",
    "    \n",
    "ys = line_sum(fs, hses)\n",
    "mask = ys > 0\n",
    "axes[1].scatter(ts[mask], ys[mask], s=4, color=\"red\")\n",
    "fig"
   ]
  },
  {
   "cell_type": "markdown",
   "metadata": {},
   "source": [
    "在第0秒投放一个石头, 在未来第3秒和第6秒均不在有效应, 并且第1,2秒没有投放石头\n",
    "\n",
    "1.未来的第3秒y(3)\n",
    "\n",
    "t = 0投放的时候3秒后(未来第3秒)为0  \n",
    "t = 1没有投放, 未来第3秒为0  \n",
    "t = 2没有投放, 未来第3秒为0  \n",
    "\n",
    "所以 t = 3时投放的效应为f(3)h(0) = 1\n",
    " \n",
    "2.未来的第6秒y(6)\n",
    "\n",
    "同上"
   ]
  },
  {
   "cell_type": "code",
   "execution_count": 8,
   "metadata": {},
   "outputs": [],
   "source": [
    "# 删除axes[1]图里的数据\n",
    "for item in axes[1].collections :\n",
    "    item.remove()\n",
    "del axes[1].collections[:]\n",
    "\n",
    "# 隐藏axes[0]里面散点图的数据\n",
    "for sca in scaes:\n",
    "    sca.set_visible(False)"
   ]
  },
  {
   "cell_type": "markdown",
   "metadata": {},
   "source": [
    "移动$h(\\lambda)$, 分别在第1,2,3,4,5秒, 投放相同大小的石头$f(\\lambda) = 1$, 石头大小为1, 从下图看当水波振幅下降过程中(1秒), 又扔了一块同等大小的石头, 前一个石头的效应还没有结束, 效果叠加."
   ]
  },
  {
   "cell_type": "code",
   "execution_count": 9,
   "metadata": {},
   "outputs": [
    {
     "data": {
      "image/png": "[encoded data removed]",
      "text/plain": [
       "<Figure size 864x288 with 2 Axes>"
      ]
     },
     "execution_count": 9,
     "metadata": {},
     "output_type": "execute_result"
    }
   ],
   "source": [
    "hses = [np.array([h_response(i-j) for i in ts]) for j in range(0, 7)]\n",
    "for hs in hses:\n",
    "    mask = hs > 0\n",
    "    axes[0].scatter(ts[mask], hs[mask], s=4, color='green')\n",
    "    \n",
    "ys = line_sum(fs, hses)\n",
    "mask = ys > 0\n",
    "axes[1].scatter(ts[mask], ys[mask], s=4, color=\"red\")\n",
    "fig"
   ]
  },
  {
   "cell_type": "markdown",
   "metadata": {},
   "source": [
    "如果扔石头的更频繁, 从下图可以看出, 最终的y(t)效果趋于稳定在一个值上."
   ]
  },
  {
   "cell_type": "markdown",
   "metadata": {},
   "source": [
    "分析未来第4秒的情况(其他类似):\n",
    "    \n",
    "t=0点对未来第4秒: f(0)*h(4-0) = f(0)*h(4) = 0   \n",
    "t=1点对未来第4秒: f(1)*h(4-1) = f(2)*h(3) = 0  \n",
    "t=2点对未来第4秒: f(2)*h(4-2) = f(2)*h(2) = 1/3  \n",
    "t=3点对未来第4秒: f(3)*h(4-3) = f(3)*h(1) = 2/3  \n",
    "t=4点对未来第4秒: f(4)*h(4-4) = f(4)*h(0) = 1 (就是当前)  \n",
    "\n",
    "所有总效应:\n",
    "\n",
    "\n",
    "$\n",
    "\\begin{align*}\n",
    "y(4) &= f(4)*h(4-4) + f(3)*h(4-3) + f(2)*h(4-2) + f(1)*h(4-1) + f(0)h(4-0) \\\\\n",
    "     &= 1 + 2/3 + 1/3 + 0 + 0 \\\\\n",
    "     &= 2\n",
    "\\end{align*}\n",
    "$\n",
    "\n",
    "\n",
    "**从上面的计算推导, 可以隐约看到180翻转的来由**.\n",
    "\n",
    "-----------------------------------------------------------------------"
   ]
  },
  {
   "cell_type": "code",
   "execution_count": 10,
   "metadata": {},
   "outputs": [
    {
     "data": {
      "text/plain": [
       "<matplotlib.collections.PathCollection at 0x7f14bdad4b00>"
      ]
     },
     "execution_count": 10,
     "metadata": {},
     "output_type": "execute_result"
    },
    {
     "data": {
      "image/png": "[encoded data removed]",
      "text/plain": [
       "<Figure size 864x576 with 1 Axes>"
      ]
     },
     "metadata": {
      "needs_background": "light"
     },
     "output_type": "display_data"
    }
   ],
   "source": [
    "fig, ax = plt.subplots(1, 1, figsize=(12, 8))\n",
    "ax.set_xlabel('t')\n",
    "ax.set_ylabel('y(t)')\n",
    "ax.grid(True)\n",
    "\n",
    "hses = [np.array([h_response(i-j) for i in ts]) for j in np.linspace(0, 8, 100)]\n",
    "ys = line_sum(fs, hses)\n",
    "mask = ys > 0\n",
    "ax.scatter(ts[mask], ys[mask], s=4, color=\"red\")"
   ]
  },
  {
   "cell_type": "markdown",
   "metadata": {},
   "source": [
    "## 数学积分\n",
    "\n",
    "当扔石头非常非常密集的时候, 就需要积分计算"
   ]
  },
  {
   "cell_type": "markdown",
   "metadata": {},
   "source": [
    "$f(\\lambda)$表示扔石头(刺激), $h(\\lambda)$表示水波振幅(响应)"
   ]
  },
  {
   "cell_type": "markdown",
   "metadata": {},
   "source": [
    "$\n",
    "f(\\lambda) = 1\n",
    "$\n",
    "\n",
    "\n",
    "$\n",
    "h(\\lambda) = \\left\\{\\begin{matrix}\n",
    "0 &, & \\lambda < 0\\\\ \n",
    "-\\dfrac{1}{3}\\lambda +1 &, & 0 \\leq \\lambda \\leq 3\\\\ \n",
    "0 &, & \\lambda > 3\n",
    "\\end{matrix}\\right.\n",
    "$\n",
    "\n",
    "-----------------------------------------------------\n",
    "\n",
    "$y(t)=\\int_{-\\infty}^{+\\infty}{h(t-\\lambda)\\cdot f(\\lambda)\\cdot d\\lambda}$"
   ]
  },
  {
   "cell_type": "markdown",
   "metadata": {},
   "source": [
    "当t < 0:\n",
    "\n",
    "$y(t) = \\int\\limits_{-\\infty}^{0}f(\\lambda)h(t-\\lambda)d\\lambda = \\int\\limits_{-\\infty}^{0}0d\\lambda = 0$"
   ]
  },
  {
   "cell_type": "markdown",
   "metadata": {},
   "source": [
    "当0 < t < 3:\n",
    "\n",
    "$ \\begin{align*}\n",
    "y(t) &= \\int\\limits_{0}^{t}f(\\lambda)h(t-\\lambda)d\\lambda \\\\ \n",
    " &= \\int\\limits_{0}^{t}\\left(1-\\dfrac{1}{3}(t-\\lambda)\\right)d\\lambda \\\\ \n",
    " &= \\left( {\\lambda - \\dfrac{1}{3}(t\\lambda - \\dfrac{\\lambda^2}{2}}\\right)\\bigg|_{0}^{t}\\\\\n",
    " &= t - \\dfrac{1}{6}t^2\n",
    "\\end{align*}\n",
    "$"
   ]
  },
  {
   "cell_type": "markdown",
   "metadata": {},
   "source": [
    "当t > 3:\n",
    "\n",
    "$y(t) = \\int\\limits_{3}^{+\\infty}f(\\lambda)h(t-\\lambda)d\\lambda = \\int\\limits_{-\\infty}^{0}0d\\lambda = 0$"
   ]
  },
  {
   "cell_type": "markdown",
   "metadata": {},
   "source": [
    "综上:\n",
    "\n",
    "$ \n",
    "\\begin{align*}\n",
    "y(t) &= \\int\\limits_{-\\infty}^{+\\infty}f(\\lambda)h(t-\\lambda)d\\lambda \\\\ \n",
    " &= \\int\\limits_{-\\infty}^{0}f(\\lambda)h(t-\\lambda)d\\lambda + \\int\\limits_{0}^{3}f(\\lambda)h(t-\\lambda)d\\lambda + \\int\\limits_{3}^{+\\infty}f(\\lambda)h(t-\\lambda)d\\lambda \\\\ \n",
    "\\end{align*}\n",
    "$"
   ]
  },
  {
   "cell_type": "markdown",
   "metadata": {},
   "source": [
    "$\n",
    "y(t) = \\left\\{\\begin{matrix}\n",
    "0 &, & t < 0\\\\ \n",
    "t - \\dfrac{1}{6}t^2 &, & 0 \\leq t \\leq 3\\\\ \n",
    "3 - \\dfrac{1}{6}3^2 &, & t > 3\n",
    "\\end{matrix}\\right.\n",
    "$\n",
    "\n",
    "---------------------------------------------------"
   ]
  },
  {
   "cell_type": "markdown",
   "metadata": {},
   "source": [
    "## 继续用离散数据和图形描述"
   ]
  },
  {
   "cell_type": "markdown",
   "metadata": {},
   "source": [
    "$y(t) = \\sum\\limits_{i = 0}^\\infty {\\left( {f\\left( {i \\cdot \\Delta T} \\right) \\cdot \\Delta T} \\right)}\n",
    "          \\cdot h\\left( {t - i \\cdot \\Delta T} \\right)$"
   ]
  },
  {
   "cell_type": "markdown",
   "metadata": {},
   "source": [
    "(未完, 待补充)"
   ]
  },
  {
   "cell_type": "code",
   "execution_count": null,
   "metadata": {},
   "outputs": [],
   "source": []
  }
 ],
 "metadata": {
  "kernelspec": {
   "display_name": "Python 3",
   "language": "python",
   "name": "python3"
  },
  "language_info": {
   "codemirror_mode": {
    "name": "ipython",
    "version": 3
   },
   "file_extension": ".py",
   "mimetype": "text/x-python",
   "name": "python",
   "nbconvert_exporter": "python",
   "pygments_lexer": "ipython3",
   "version": "3.6.8"
  }
 },
 "nbformat": 4,
 "nbformat_minor": 2
}
