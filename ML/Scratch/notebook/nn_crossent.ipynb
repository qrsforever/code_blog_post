{
 "cells": [
  {
   "cell_type": "code",
   "execution_count": 1,
   "metadata": {},
   "outputs": [],
   "source": [
    "%matplotlib inline"
   ]
  },
  {
   "cell_type": "code",
   "execution_count": 2,
   "metadata": {},
   "outputs": [],
   "source": [
    "import matplotlib.pyplot as plt\n",
    "import numpy as np\n",
    "import random\n",
    "import math\n",
    "import os"
   ]
  },
  {
   "cell_type": "code",
   "execution_count": 3,
   "metadata": {},
   "outputs": [],
   "source": [
    "# 全局配置plot参数\n",
    "plt.rcParams['font.sans-serif'] = 'SimHei'\n",
    "plt.rcParams['axes.unicode_minus'] = False\n",
    "plt.rcParams['figure.figsize'] = (4.0, 4.0)\n",
    "plt.rcParams['text.usetex'] = True\n",
    "plt.rcParams['text.latex.preamble'] = [r'\\usepackage{amsmath}']\n",
    "plt.rcParams['animation.html'] = 'jshtml'\n",
    "plt.rcParams['axes.labelsize'] = 16\n",
    "\n",
    "dataset_dir = '/home/lidong/Datasets/'"
   ]
  },
  {
   "cell_type": "markdown",
   "metadata": {},
   "source": [
    "[Dataset](https://pan.baidu.com/s/1axooVu-QAV6uc-sl44AEwg) 提取码: vqk8"
   ]
  },
  {
   "cell_type": "code",
   "execution_count": 4,
   "metadata": {},
   "outputs": [],
   "source": [
    "def load_data_from_file(file):\n",
    "    result = []\n",
    "    with open(file) as fp:\n",
    "        for line in fp:\n",
    "            item = line.rstrip('\\n').split(',')\n",
    "            result.append(list(map(np.float32, item)))\n",
    "    return result \n",
    "\n",
    "def gen_random_value(rnd):\n",
    "    lo = -0.01\n",
    "    hi = 0.01\n",
    "    return (hi - lo) * rnd.random() + lo"
   ]
  },
  {
   "cell_type": "code",
   "execution_count": 5,
   "metadata": {},
   "outputs": [
    {
     "data": {
      "text/plain": [
       "[5.1, 3.5, 1.4, 0.2, 1.0, 0.0, 0.0]"
      ]
     },
     "execution_count": 5,
     "metadata": {},
     "output_type": "execute_result"
    }
   ],
   "source": [
    "train_data = load_data_from_file(os.path.join(dataset_dir, 'ML/irisTrainData.txt'))\n",
    "test_data = load_data_from_file(os.path.join(dataset_dir, 'ML/irisTestData.txt'))\n",
    "train_data[0]"
   ]
  },
  {
   "cell_type": "code",
   "execution_count": 6,
   "metadata": {},
   "outputs": [],
   "source": [
    "class NeuralNetwork(object):\n",
    "    @staticmethod\n",
    "    def tanh(hs):\n",
    "        if hs < -20.0:\n",
    "            return -1.0\n",
    "        elif hs > 20.0:\n",
    "            return 1.0\n",
    "        else:\n",
    "            return math.tanh(hs)\n",
    "\n",
    "    @staticmethod\n",
    "    def softmax(os):\n",
    "        result = np.zeros(shape=[len(os)], dtype=np.float32)\n",
    "        m = max(os)\n",
    "        divisor = 0.0\n",
    "        for k in range(len(os)):\n",
    "          divisor += math.exp(os[k] - m)\n",
    "        for k in range(len(result)):\n",
    "          result[k] =  math.exp(os[k] - m) / divisor\n",
    "        return result\n",
    "    \n",
    "    def __init__(self, ni, nh, no):\n",
    "        self.ni = ni\n",
    "        self.nh = nh\n",
    "        self.no = no\n",
    "        \n",
    "        self.i_nodes = np.zeros(shape=[self.ni], dtype=np.float32)\n",
    "        self.h_nodes = np.zeros(shape=[self.nh], dtype=np.float32)\n",
    "        self.o_nodes = np.zeros(shape=[self.no], dtype=np.float32)\n",
    "        \n",
    "        self.ih_weigths = np.zeros(shape=[self.ni, self.nh], dtype=np.float32) # ni * nh\n",
    "        self.ho_weigths = np.zeros(shape=[self.nh, self.no], dtype=np.float32) # nh * no\n",
    "        \n",
    "        self.h_biases = np.zeros(shape=[self.nh], dtype=np.float32) # nh\n",
    "        self.o_biases = np.zeros(shape=[self.no], dtype=np.float32) # no\n",
    "        \n",
    "        # init weight value\n",
    "        self.rnd = random.Random(0)\n",
    "        for i in range(self.ni):\n",
    "            for j in range(self.nh):\n",
    "                self.ih_weigths[i, j] = gen_random_value(self.rnd)\n",
    "        \n",
    "        for j in range(self.nh):\n",
    "            for k in range(self.no):\n",
    "                self.ho_weigths[j, k] = gen_random_value(self.rnd)\n",
    "                \n",
    "        for j in range(self.nh):\n",
    "            self.h_biases[j] = gen_random_value(self.rnd)\n",
    "            \n",
    "        for k in range(self.no):\n",
    "            self.o_biases[k] = gen_random_value(self.rnd)\n",
    "            \n",
    "    def calculate_nodes_result(self, xs):\n",
    "        # input nodes\n",
    "        for i in range(self.ni):\n",
    "            self.i_nodes[i] = xs[i]\n",
    "            \n",
    "        # hiden nodes\n",
    "        for j in range(self.nh):\n",
    "            hsums = 0.0\n",
    "            for i in range(self.ni):\n",
    "                hsums += self.i_nodes[i] * self.ih_weigths[i, j]\n",
    "            hsums += self.h_biases[j]\n",
    "            self.h_nodes[j] = self.tanh(hsums)\n",
    "            \n",
    "        # output nodes\n",
    "        osums = np.zeros(shape=[self.no], dtype=np.float32)\n",
    "        for k in range(self.no):\n",
    "            for j in range(self.nh):\n",
    "                osums[k] += self.h_nodes[j] * self.ho_weigths[j, k]\n",
    "            osums[k] += self.o_biases[k]\n",
    "        self.o_nodes = self.softmax(osums)\n",
    "        return self.o_nodes\n",
    "    \n",
    "    def parse_input_target_values(self, data):\n",
    "        xvalues = np.zeros(shape=[self.ni], dtype=np.float32)\n",
    "        tvalues = np.zeros(shape=[self.no], dtype=np.float32)\n",
    "        for i in range(self.ni):\n",
    "            xvalues[i] = data[i]\n",
    "        for k in range(self.no):\n",
    "            tvalues[k] = data[self.ni + k]\n",
    "        return xvalues, tvalues\n",
    "\n",
    "    def train(self, data, lrate, epochs, loss_method='mcee'):\n",
    "        # init hiden layer gradient weigths and bias\n",
    "        ih_grads = np.zeros(shape=[self.ni, self.nh], dtype=np.float32)\n",
    "        hb_grads = np.zeros(shape=[self.nh], dtype=np.float32)\n",
    "        \n",
    "        # init output layer gradient of weigths  and biases\n",
    "        ho_grads = np.zeros(shape=[self.nh, self.no], dtype=np.float32)\n",
    "        ob_grads = np.zeros(shape=[self.no], dtype=np.float32)\n",
    "        \n",
    "        # init hiden and ouput layer middle calculate signals\n",
    "        h_signals = np.zeros(shape=[self.nh], dtype=np.float32)\n",
    "        o_signals = np.zeros(shape=[self.no], dtype=np.float32)\n",
    "        \n",
    "        # init input values and target values\n",
    "        # xvalues = np.zeros(shape=[self.ni], dtype=np.float32)\n",
    "        # tvalues = np.zeros(shape=[self.no], dtype=np.float32)\n",
    "        \n",
    "        errs = []\n",
    "        length = len(data)\n",
    "        indices = np.arange(length)\n",
    "        for epoch in range(1, epochs+1):\n",
    "            # self.rnd.shuffle(indices)\n",
    "            for ri in range(length):\n",
    "                idx = indices[ri]\n",
    "                \n",
    "                # eval xvalues and tvalues\n",
    "                xvalues, tvalues = self.parse_input_target_values(data[idx])\n",
    "                \n",
    "                # calculate the input, hiden, output nodes\n",
    "                self.calculate_nodes_result(xvalues)\n",
    "                \n",
    "                # 1. compute the o_signals\n",
    "                if loss_method == 'mse':\n",
    "                    for k in range(self.no):\n",
    "                        o_signals[k] = (tvalues[k] - self.o_nodes[k]) * (1 - self.o_nodes[k]) * self.o_nodes[k]\n",
    "                else:\n",
    "                    for k in range(self.no):\n",
    "                        o_signals[k] = (tvalues[k] - self.o_nodes[k]) * 1.0\n",
    "                \n",
    "                # 2. compute the ho_grads and ob_grads\n",
    "                for k in range(self.no):\n",
    "                    for j in range(self.nh):\n",
    "                        ho_grads[j, k] = o_signals[k] * self.h_nodes[j]\n",
    "                    ob_grads[k] = o_signals[k] * 1.0\n",
    "                \n",
    "                # 3. compute the h_signals\n",
    "                for j in range(self.nh):\n",
    "                    sum = 0.0\n",
    "                    for k in range(self.no):\n",
    "                        sum += o_signals[k] * self.ho_weigths[j, k]\n",
    "                    h_signals[j] = (1 - self.h_nodes[j]) * (1 + self.h_nodes[j]) * sum\n",
    "                    \n",
    "                # 4. compute the ih_grads and hb_grads\n",
    "                for j in range(self.nh):\n",
    "                    for i in range(self.ni):\n",
    "                        ih_grads[i, j] = h_signals[j] * self.i_nodes[i]\n",
    "                    hb_grads[j] = h_signals[j] * 1.0\n",
    "                    \n",
    "                # 5. update ih_weigths and h_biases\n",
    "                for j in range(self.nh):\n",
    "                    for i in range(self.ni):\n",
    "                        self.ih_weigths[i, j] += lrate * ih_grads[i, j]\n",
    "                    self.h_biases[j] += lrate * hb_grads[j]\n",
    "                    \n",
    "                # 6. update ho_weigths and o_biases\n",
    "                for k in range(self.no):\n",
    "                    for j in range(self.nh):\n",
    "                        self.ho_weigths[j, k] += lrate * ho_grads[j, k]\n",
    "                    self.o_biases[k] += lrate * ob_grads[k]\n",
    "            # end sample       \n",
    "            if loss_method == 'mse':\n",
    "                err = self.mse(data)\n",
    "            else:\n",
    "                err = self.mcee(data)\n",
    "            if epoch % 10 == 0:\n",
    "                print('epoch[%d]\\t%s err[%0.4f]' % (epoch, loss_method, err))\n",
    "            errs.append(err)\n",
    "        # end epoch\n",
    "        return errs \n",
    "                    \n",
    "    def mse(self, data):\n",
    "        # mean squared error\n",
    "        length = len(data)\n",
    "        sum_err = 0.0\n",
    "        for i in range(length):\n",
    "            xvalues, tvalues = self.parse_input_target_values(data[i])\n",
    "            yvalues = self.calculate_nodes_result(xvalues)\n",
    "            for k in range(self.no):\n",
    "                err = tvalues[k] - yvalues[k]\n",
    "                sum_err += err * err\n",
    "        return sum_err / length\n",
    "            \n",
    "    \n",
    "    def mcee(self, data):\n",
    "        # mean cross entropy error\n",
    "        length = len(data)\n",
    "        sum_err = 0.0\n",
    "        for i in range(length):\n",
    "            xvalues, tvalues = self.parse_input_target_values(data[i])\n",
    "            yvalues = self.calculate_nodes_result(xvalues)\n",
    "            # 1.0: tvalues is one-hot\n",
    "            sum_err += math.log(yvalues[np.argmax(tvalues)])\n",
    "        return -1.0 * sum_err / length\n",
    "                    \n",
    "    def accuracy(self, data):\n",
    "        num_wrong = 0; num_correct = 0\n",
    "        length = len(data)\n",
    "        for i in range(length):\n",
    "            xvalues, tvalues = self.parse_input_target_values(data[i])\n",
    "            yvalues = self.calculate_nodes_result(xvalues)\n",
    "            tval = tvalues[np.argmax(yvalues)]\n",
    "            if abs(tval - 1.0) < 0.0001:\n",
    "                num_correct += 1\n",
    "            else:\n",
    "                num_wrong += 1\n",
    "        return (num_correct * 1.0) / length"
   ]
  },
  {
   "cell_type": "code",
   "execution_count": 7,
   "metadata": {},
   "outputs": [
    {
     "name": "stdout",
     "output_type": "stream",
     "text": [
      "epoch[10]\tmcee err[1.1016]\n",
      "epoch[20]\tmcee err[1.1917]\n",
      "epoch[30]\tmcee err[0.8595]\n",
      "epoch[40]\tmcee err[0.6127]\n",
      "epoch[50]\tmcee err[0.5086]\n",
      "epoch[60]\tmcee err[0.4309]\n",
      "epoch[70]\tmcee err[0.3752]\n",
      "epoch[80]\tmcee err[0.3363]\n",
      "epoch[90]\tmcee err[0.3090]\n",
      "epoch[100]\tmcee err[0.2894]\n",
      "train data accuracy: 0.883\n",
      "test  data accuracy: 0.900\n"
     ]
    }
   ],
   "source": [
    "nn = NeuralNetwork(4, 5, 3)\n",
    "mcess_data = nn.train(train_data, 0.005, 100, 'mcee')\n",
    "print('train data accuracy: %.3f' % nn.accuracy(train_data))\n",
    "print('test  data accuracy: %.3f' % nn.accuracy(test_data))"
   ]
  },
  {
   "cell_type": "code",
   "execution_count": 8,
   "metadata": {},
   "outputs": [
    {
     "name": "stdout",
     "output_type": "stream",
     "text": [
      "epoch[10]\tmse err[0.6651]\n",
      "epoch[20]\tmse err[0.6516]\n",
      "epoch[30]\tmse err[0.5892]\n",
      "epoch[40]\tmse err[0.4527]\n",
      "epoch[50]\tmse err[0.3656]\n",
      "epoch[60]\tmse err[0.3274]\n",
      "epoch[70]\tmse err[0.3041]\n",
      "epoch[80]\tmse err[0.2854]\n",
      "epoch[90]\tmse err[0.2689]\n",
      "epoch[100]\tmse err[0.2542]\n",
      "train data accuracy: 0.808\n",
      "test  data accuracy: 0.867\n"
     ]
    }
   ],
   "source": [
    "nn = NeuralNetwork(4, 5, 3)\n",
    "mse_data = nn.train(train_data, 0.005, 100, 'mse')\n",
    "print('train data accuracy: %.3f' % nn.accuracy(train_data))\n",
    "print('test  data accuracy: %.3f' % nn.accuracy(test_data))"
   ]
  },
  {
   "cell_type": "code",
   "execution_count": 9,
   "metadata": {},
   "outputs": [
    {
     "data": {
      "text/plain": [
       "<matplotlib.collections.PathCollection at 0x7f5f8e9dbf98>"
      ]
     },
     "execution_count": 9,
     "metadata": {},
     "output_type": "execute_result"
    },
    {
     "data": {
      "image/png": "[encoded data removed]",
      "text/plain": [
       "<Figure size 288x288 with 1 Axes>"
      ]
     },
     "metadata": {
      "needs_background": "light"
     },
     "output_type": "display_data"
    }
   ],
   "source": [
    "xs = [i for i in range(len(mcess_data))]\n",
    "plt.scatter(xs, mcess_data)\n",
    "plt.scatter(xs, mse_data)"
   ]
  }
 ],
 "metadata": {
  "kernelspec": {
   "display_name": "Python 3",
   "language": "python",
   "name": "python3"
  },
  "language_info": {
   "codemirror_mode": {
    "name": "ipython",
    "version": 3
   },
   "file_extension": ".py",
   "mimetype": "text/x-python",
   "name": "python",
   "nbconvert_exporter": "python",
   "pygments_lexer": "ipython3",
   "version": "3.6.8"
  }
 },
 "nbformat": 4,
 "nbformat_minor": 2
}
