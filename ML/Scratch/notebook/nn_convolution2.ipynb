{
 "cells": [
  {
   "cell_type": "markdown",
   "metadata": {},
   "source": [
    "# <div align=\"center\"> A CNN in Python WITHOUT frameworks </div>"
   ]
  },
  {
   "cell_type": "code",
   "execution_count": 2,
   "metadata": {},
   "outputs": [],
   "source": [
    "import numpy as np\n",
    "import skimage.data\n",
    "import matplotlib.pyplot as plt\n",
    "from mlxtend.data import loadlocal_mnist\n",
    "%matplotlib inline"
   ]
  },
  {
   "cell_type": "code",
   "execution_count": 3,
   "metadata": {},
   "outputs": [],
   "source": [
    "# 全局配置plot参数\n",
    "plt.rcParams['font.sans-serif'] = 'SimHei'\n",
    "plt.rcParams['axes.unicode_minus'] = False\n",
    "plt.rcParams['figure.figsize'] = (12.0, 12.0)\n",
    "plt.rcParams['text.usetex'] = True\n",
    "plt.rcParams['text.latex.preamble'] = [r'\\usepackage{amsmath}']\n",
    "plt.rcParams['animation.html'] = 'jshtml'\n",
    "plt.rcParams['axes.labelsize'] = 16\n",
    "plt.rcParams['image.interpolation'] = 'nearest'\n",
    "plt.rcParams['image.cmap'] = 'gray'"
   ]
  },
  {
   "cell_type": "markdown",
   "metadata": {},
   "source": [
    "## zero padding"
   ]
  },
  {
   "cell_type": "code",
   "execution_count": 4,
   "metadata": {},
   "outputs": [],
   "source": [
    "def zero_pad(X, pad):\n",
    "    \"\"\"\n",
    "    Argument:\n",
    "        X: numpy array, shape(num_of_images, size_of_height, size_of_width, num_of_channels)\n",
    "        pad: integer, amount of zero padding\n",
    "    Return:\n",
    "        X_pad: numpy_array, shape(num_of_images, size_of_height + 2*pad,\n",
    "                size_of_width + 2*pad, num_of_channels)\n",
    "    \"\"\"\n",
    "    return np.pad(X, ((0, 0), (pad, pad), (pad, pad), (0, 0)), 'constant', constant_values=(0,0)) "
   ]
  },
  {
   "cell_type": "code",
   "execution_count": 16,
   "metadata": {},
   "outputs": [
    {
     "data": {
      "text/plain": [
       "<matplotlib.image.AxesImage at 0x7f13938cd940>"
      ]
     },
     "execution_count": 16,
     "metadata": {},
     "output_type": "execute_result"
    },
    {
     "data": {
      "image/png": "[encoded data removed]",
      "text/plain": [
       "<Figure size 576x864 with 2 Axes>"
      ]
     },
     "metadata": {
      "needs_background": "light"
     },
     "output_type": "display_data"
    }
   ],
   "source": [
    "# test zero_pad\n",
    "TX = np.random.randn(4, 3, 3, 2)\n",
    "TX_pad = zero_pad(TX, 3-1)\n",
    "TX.shape, TX_pad.shape\n",
    "fig, axes = plt.subplots(1, 2, figsize=(8,12))\n",
    "axes[0].imshow(TX[0,:,:,0])\n",
    "axes[1].imshow(TX_pad[0,:,:,0])"
   ]
  },
  {
   "cell_type": "markdown",
   "metadata": {},
   "source": [
    "## convolute one slice matrix"
   ]
  },
  {
   "cell_type": "code",
   "execution_count": 44,
   "metadata": {},
   "outputs": [],
   "source": [
    "def conv_single_step(slice_matrix, W, b):\n",
    "    \"\"\"\n",
    "    Argument:\n",
    "        slice_matrix: numpy array, the slice matrix by moving filter(kernel) selected. (h, w, c)\n",
    "        W: numpy array, filter weights parameters containded in a window - matrix of shape(h, w, c)\n",
    "        b: filter bias parameters in a window\n",
    "    Return:\n",
    "        Z: result of convoluting by sliding the window (W, b) on a slice matrix slice_matrix.\n",
    "    \"\"\"\n",
    "    return np.sum(np.multiply(slice_matrix, W)) + b # element-wise multiply, then sum + b"
   ]
  },
  {
   "cell_type": "code",
   "execution_count": 45,
   "metadata": {},
   "outputs": [
    {
     "data": {
      "text/plain": [
       "array([[[0.38552636]]])"
      ]
     },
     "execution_count": 45,
     "metadata": {},
     "output_type": "execute_result"
    }
   ],
   "source": [
    "# test conv_single_step\n",
    "slice_matrix = np.random.randn(4, 4, 3)\n",
    "TW = np.random.randn(4, 4, 3)\n",
    "Tb = np.random.randn(1, 1, 1)\n",
    "conv_single_step(slice_matrix, TW, Tb)"
   ]
  },
  {
   "cell_type": "markdown",
   "metadata": {},
   "source": [
    "## feed forward"
   ]
  },
  {
   "cell_type": "code",
   "execution_count": 46,
   "metadata": {},
   "outputs": [
    {
     "ename": "SyntaxError",
     "evalue": "invalid syntax (<ipython-input-46-5519bdd2e3a1>, line 1)",
     "output_type": "error",
     "traceback": [
      "\u001b[0;36m  File \u001b[0;32m\"<ipython-input-46-5519bdd2e3a1>\"\u001b[0;36m, line \u001b[0;32m1\u001b[0m\n\u001b[0;31m    def conv_feedforward()\u001b[0m\n\u001b[0m                          ^\u001b[0m\n\u001b[0;31mSyntaxError\u001b[0m\u001b[0;31m:\u001b[0m invalid syntax\n"
     ]
    }
   ],
   "source": [
    "def conv_forward_propagation():\n",
    "    pass"
   ]
  },
  {
   "cell_type": "code",
   "execution_count": null,
   "metadata": {},
   "outputs": [],
   "source": [
    "# gunzip t*-ubytez\n",
    "dataset_dir = '/home/lidong/Datasets/ML/handwritten_digits' \n",
    "X, Y = loadlocal_mnist(\n",
    "        images_path = dataset_dir + '/train-images-idx3-ubyte', \n",
    "        labels_path = dataset_dir + '/train-labels-idx1-ubyte')"
   ]
  },
  {
   "cell_type": "code",
   "execution_count": null,
   "metadata": {},
   "outputs": [],
   "source": [
    "type(X), X.shape, type(X[0]), X[0].shape, type(Y), Y.shape"
   ]
  },
  {
   "cell_type": "code",
   "execution_count": null,
   "metadata": {},
   "outputs": [],
   "source": []
  },
  {
   "cell_type": "code",
   "execution_count": null,
   "metadata": {},
   "outputs": [],
   "source": [
    "def target_to_onehot(y):\n",
    "    t = np.zeros((10, 1))\n",
    "    t[int(y)] = 1.0\n",
    "    return t"
   ]
  },
  {
   "cell_type": "code",
   "execution_count": null,
   "metadata": {},
   "outputs": [],
   "source": [
    "data = [(x.reshape(-1,), target_to_onehot(y)) for x, y in zip(X, Y)]"
   ]
  },
  {
   "cell_type": "code",
   "execution_count": null,
   "metadata": {},
   "outputs": [],
   "source": [
    "# a = np.random.randn(3,3,3)\n",
    "a = np.zeros((3,3,3))\n",
    "a"
   ]
  },
  {
   "cell_type": "code",
   "execution_count": null,
   "metadata": {},
   "outputs": [],
   "source": [
    "b = a + np.array([[1],[2],[3]])"
   ]
  }
 ],
 "metadata": {
  "kernelspec": {
   "display_name": "Python 3",
   "language": "python",
   "name": "python3"
  },
  "language_info": {
   "codemirror_mode": {
    "name": "ipython",
    "version": 3
   },
   "file_extension": ".py",
   "mimetype": "text/x-python",
   "name": "python",
   "nbconvert_exporter": "python",
   "pygments_lexer": "ipython3",
   "version": "3.6.8"
  }
 },
 "nbformat": 4,
 "nbformat_minor": 2
}
