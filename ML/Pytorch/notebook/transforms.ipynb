{
 "cells": [
  {
   "cell_type": "code",
   "execution_count": 1,
   "metadata": {},
   "outputs": [],
   "source": [
    "import os, sys\n",
    "import torchvision"
   ]
  },
  {
   "cell_type": "markdown",
   "metadata": {},
   "source": [
    "# normalize\n",
    "\n",
    "[疑问](https://blog.csdn.net/xys430381_1/article/details/85724668)\n",
    "\n",
    "[均值和标准差由数据集提供方给出, 由样本估计得来](https://blog.csdn.net/u014453898/article/details/90700904)\n",
    "\n",
    "## 归一化\n",
    "\n",
    "$x^*=\\dfrac{x - max}{max - min}$\n",
    "\n",
    "使不同量刚具有可比性, 易受极值的影响\n",
    "\n",
    "## 标准化\n",
    "\n",
    "$x^*=\\dfrac{x - \\mu}{\\sigma}$"
   ]
  },
  {
   "cell_type": "code",
   "execution_count": null,
   "metadata": {},
   "outputs": [],
   "source": []
  }
 ],
 "metadata": {
  "kernelspec": {
   "display_name": "Python 3",
   "language": "python",
   "name": "python3"
  },
  "language_info": {
   "codemirror_mode": {
    "name": "ipython",
    "version": 3
   },
   "file_extension": ".py",
   "mimetype": "text/x-python",
   "name": "python",
   "nbconvert_exporter": "python",
   "pygments_lexer": "ipython3",
   "version": "3.7.3"
  }
 },
 "nbformat": 4,
 "nbformat_minor": 2
}
