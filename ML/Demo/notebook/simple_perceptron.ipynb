{
 "cells": [
  {
   "cell_type": "markdown",
   "metadata": {},
   "source": [
    "# <div align='center'>初探:感知机</div>"
   ]
  },
  {
   "cell_type": "code",
   "execution_count": 1,
   "metadata": {},
   "outputs": [],
   "source": [
    "%matplotlib inline\n",
    "\n",
    "import matplotlib.pylab as plt\n",
    "import numpy as np"
   ]
  },
  {
   "cell_type": "code",
   "execution_count": 2,
   "metadata": {},
   "outputs": [],
   "source": [
    "plt.rcParams['font.sans-serif'] = 'SimHei'\n",
    "plt.rcParams['axes.unicode_minus'] = False\n",
    "plt.rcParams['figure.figsize'] = (16.0, 8.0)\n",
    "plt.rcParams[\"axes.grid\"] = True\n",
    "plt.rcParams[\"grid.linestyle\"] = (5,9)\n",
    "plt.rcParams['text.usetex'] = True\n",
    "plt.rcParams['text.latex.preamble'] = [r'\\usepackage{amsmath}']"
   ]
  },
  {
   "cell_type": "markdown",
   "metadata": {},
   "source": [
    "感知机灵感"
   ]
  },
  {
   "cell_type": "markdown",
   "metadata": {},
   "source": [
    "```\n",
    "#####################################################################################\n",
    "# <codecell>\n",
    "#####################################################################################\n",
    "#                      ╱\n",
    "#                    ╲╱\n",
    "#                     ╲ ╱                                神经末梢\n",
    "#          │           ╳                             ╲ /\n",
    "#         ─┘╲         ╱                               ╳\n",
    "#      ╳  ╱  ╲       ╱                                 ╲\n",
    "#     ╱ ╲╱    ╲     ╱                                   ╳\n",
    "#       ╱        *******                               ╱     ╳\n",
    "#             ***       ***  轴突:转出信号到其他神经元╱     ╱ ╲\n",
    "#             *   细胞核  * ══════════════════════════╲  ╳ ╱\n",
    "#          ╳  ***       ***                            ╲╱ ╳\n",
    "#         ╱ ╲  ╱ *******                                ╲     ╱\n",
    "#     ╲  ╱   ╲╱                                          ╲   ╳\n",
    "#      ╲╱    ╱                                            ╲ ╱ ╲\n",
    "#      ╱    ╳                                              ╳   ╲\n",
    "#          ╱ ╲\n",
    "#             ╲ 树突: 接收信号\n",
    "#                                            生物神经元\n",
    "#\n",
    "#######################################################################################\n",
    "#\n",
    "#\n",
    "#                                    单层感知机\n",
    "#                     x1  ╲\n",
    "#                          ╲\n",
    "#                           ╲\n",
    "#                         w1 ╲       *********\n",
    "#                             ╲    **         **\n",
    "#                              v **             **\n",
    "#                      w2       *                 *   f(z) = sign(z)\n",
    "#               x2 ──────────> *  sum(w_i*x_i +b) *  ────────────────> y\n",
    "#           树突                *                 *   轴突, 激活函数\n",
    "#                              ^ **     z       **\n",
    "#                             ╱    **         **\n",
    "#                         w3 ╱       *********   b: 细胞本身自带的信号, bias偏置值\n",
    "#                           ╱                    w: 输入信号有选择的接收\n",
    "#                          ╱                        如果所有w=1, 输入信号全部进入\n",
    "#                     x3  ╱                         如果所有w=0, 输入信号全部屏蔽\n",
    "#                                                   如果w=?, 对信号有不同程度的作用\n",
    "#\n",
    "#######################################################################################\n",
    "```"
   ]
  },
  {
   "cell_type": "code",
   "execution_count": 3,
   "metadata": {},
   "outputs": [
    {
     "name": "stdout",
     "output_type": "stream",
     "text": [
      "0: [[-5]\n",
      " [ 0]\n",
      " [ 1]]\n",
      "1: [[-3]\n",
      " [ 0]\n",
      " [-1]]\n",
      "2: [[-1]\n",
      " [ 0]\n",
      " [-3]]\n",
      "finished\n"
     ]
    }
   ],
   "source": [
    "#####################################################################################\n",
    "# <codecell> 单样本量\n",
    "#####################################################################################\n",
    "\n",
    "X = np.array([[1, 0, -1]]) # shape: (1, 3)\n",
    "W = np.array([[-5], [0], [1]])  # shape: (3, 1)\n",
    "\n",
    "# W最后一个值是bias(偏置)\n",
    "\n",
    "lr = 1 # 学习率\n",
    "target = 1 # 真实值\n",
    "\n",
    "for i in range(150):\n",
    "    print('%d:' % i, W)\n",
    "    y = np.sign(np.dot(X, W)) # 激活函数\n",
    "    if y != target:\n",
    "        # 更新W值\n",
    "        W = W + lr * (target - y) * X.T\n",
    "    else:\n",
    "        print('finished')\n",
    "        break"
   ]
  },
  {
   "cell_type": "code",
   "execution_count": 4,
   "metadata": {},
   "outputs": [
    {
     "name": "stdout",
     "output_type": "stream",
     "text": [
      "[1. 1. 1. 1. 1. 1.]\n"
     ]
    }
   ],
   "source": [
    "#####################################################################################\n",
    "# <codecell> 多个样本量\n",
    "#####################################################################################\n",
    "\n",
    "X = np.array([\n",
    "    [1, 1, 1],\n",
    "    [1, 1, 3],\n",
    "    [1, 2, 1],\n",
    "    [1, 2, 4],\n",
    "    [1, 3, 2],\n",
    "    [1, 1.5, 5]])\n",
    "\n",
    "print(X[:, 0]) # this is bias\n",
    "\n",
    "W = np.array([[3], [0], [1]]) # start values, the first elem is bias\n",
    "\n",
    "Y = np.array([[1], [1], [1], [-1], [-1], [-1]])\n",
    "\n",
    "def calculate_params(X, Y, W):\n",
    "    m = len(X)\n",
    "    lr = 0.05\n",
    "\n",
    "    for i in range(1000):\n",
    "        if i % 10 == 0:\n",
    "            print('%d\\n' % i, W)\n",
    "        y = np.sign(np.dot(X, W))\n",
    "        if (y != Y).any(): # 如果模型计算的y和已知标签Y的值不一致,更新参数\n",
    "            W = W - lr * np.matmul(X.T, (y-Y)) / m # 矩阵计算, m是样本量\n",
    "        else:\n",
    "            print('finished')\n",
    "            break\n",
    "\n",
    "    # 模拟数据, 在平面中显示这条切线\n",
    "    xs = np.random.uniform(0, 4, 100)\n",
    "    ys = (-W[0] - xs*W[1]) / W[2]\n",
    "    return xs, ys"
   ]
  },
  {
   "cell_type": "code",
   "execution_count": 5,
   "metadata": {},
   "outputs": [
    {
     "name": "stdout",
     "output_type": "stream",
     "text": [
      "0\n",
      " [[3]\n",
      " [0]\n",
      " [1]]\n",
      "finished\n"
     ]
    },
    {
     "data": {
      "text/plain": [
       "<matplotlib.collections.PathCollection at 0x7f52076155c0>"
      ]
     },
     "execution_count": 5,
     "metadata": {},
     "output_type": "execute_result"
    },
    {
     "data": {
      "image/png": "[encoded data removed]",
      "text/plain": [
       "<Figure size 864x432 with 1 Axes>"
      ]
     },
     "metadata": {
      "needs_background": "light"
     },
     "output_type": "display_data"
    }
   ],
   "source": [
    "#####################################################################################\n",
    "# <codecell> plot\n",
    "#####################################################################################\n",
    "\n",
    "xs, ys = calculate_params(X, Y, W)\n",
    "\n",
    "fig, ax = plt.subplots(1, 1, figsize=(12,6))\n",
    "ax.plot(xs, ys)\n",
    "\n",
    "# xs = X[:, 1]\n",
    "# ys = X[:, 2]\n",
    "\n",
    "xs1 = []\n",
    "ys1 = []\n",
    "\n",
    "xs2 = []\n",
    "ys2 = []\n",
    "\n",
    "for i, v in enumerate(Y.reshape((len(Y), ))):\n",
    "    if v > 0:\n",
    "        xs1.append(X[i][1])\n",
    "        ys1.append(X[i][2])\n",
    "    else:\n",
    "        xs2.append(X[i][1])\n",
    "        ys2.append(X[i][2])\n",
    "\n",
    "\n",
    "ax.scatter(xs1, ys1, s=100, lw=2, marker='+')\n",
    "ax.scatter(xs2, ys2, s=100, lw=2, marker='o')"
   ]
  },
  {
   "cell_type": "code",
   "execution_count": 6,
   "metadata": {},
   "outputs": [
    {
     "name": "stdout",
     "output_type": "stream",
     "text": [
      "0\n",
      " [[3]\n",
      " [0]\n",
      " [1]]\n",
      "10\n",
      " [[ 2.64285714]\n",
      " [-0.75714286]\n",
      " [-0.36      ]]\n",
      "finished\n"
     ]
    },
    {
     "data": {
      "text/plain": [
       "<matplotlib.collections.PathCollection at 0x7f52075585c0>"
      ]
     },
     "execution_count": 6,
     "metadata": {},
     "output_type": "execute_result"
    },
    {
     "data": {
      "image/png": "[encoded data removed]",
      "text/plain": [
       "<Figure size 864x432 with 1 Axes>"
      ]
     },
     "metadata": {
      "needs_background": "light"
     },
     "output_type": "display_data"
    }
   ],
   "source": [
    "#####################################################################################\n",
    "# <codecell> add one point\n",
    "#####################################################################################\n",
    "\n",
    "fig, ax = plt.subplots(1, 1, figsize=(12,6))\n",
    "\n",
    "ax.plot(xs, ys)\n",
    "ax.scatter(xs1, ys1, s=100, lw=2, marker='+')\n",
    "ax.scatter(xs2, ys2, s=100, lw=2, marker='o')\n",
    "\n",
    "# 添加一个样本\n",
    "X = np.vstack((X, [[1, 2.5, 1.8]]))\n",
    "Y = np.vstack((Y, [[1]]))\n",
    "\n",
    "xs, ys = calculate_params(X, Y, W)\n",
    "ax.plot(xs, ys, color='red')\n",
    "ax.scatter(X[-1][1], X[-1][2], s=60, lw=2, marker='^', color='blue')"
   ]
  }
 ],
 "metadata": {
  "kernelspec": {
   "display_name": "Python 3",
   "language": "python",
   "name": "python3"
  },
  "language_info": {
   "codemirror_mode": {
    "name": "ipython",
    "version": 3
   },
   "file_extension": ".py",
   "mimetype": "text/x-python",
   "name": "python",
   "nbconvert_exporter": "python",
   "pygments_lexer": "ipython3",
   "version": "3.6.7"
  }
 },
 "nbformat": 4,
 "nbformat_minor": 2
}
