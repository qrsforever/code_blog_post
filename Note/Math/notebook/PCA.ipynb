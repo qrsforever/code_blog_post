{
 "cells": [
  {
   "cell_type": "code",
   "execution_count": 35,
   "metadata": {},
   "outputs": [],
   "source": [
    "import numpy as np\n",
    "import matplotlib.pylab as plt\n",
    "np.random.seed(1)"
   ]
  },
  {
   "cell_type": "code",
   "execution_count": 36,
   "metadata": {},
   "outputs": [],
   "source": [
    "%matplotlib inline"
   ]
  },
  {
   "cell_type": "code",
   "execution_count": null,
   "metadata": {},
   "outputs": [],
   "source": []
  },
  {
   "cell_type": "markdown",
   "metadata": {},
   "source": [
    "Lets begin by generating random data with 3 dimensions with 40 samples . We will have two class with 20 samples per class."
   ]
  },
  {
   "cell_type": "code",
   "execution_count": 5,
   "metadata": {},
   "outputs": [],
   "source": [
    "vec1 = np.array([0, 0, 0])\n",
    "mat1 = np.eye(3)\n",
    "sample_for_class1 = np.random.multivariate_normal(vec1, mat1, 20).T\n",
    "\n",
    "assert sample_for_class1.shape == (3, 20), \"The dimension of the sample_for_class1 matrix is not 3x20\"\n",
    "\n",
    "vec2 = np.array([1, 1, 1])\n",
    "mat2 = np.eye(3)\n",
    "sample_for_class2 = np.random.multivariate_normal(vec2, mat2, 20).T\n",
    "\n",
    "assert sample_for_class2.shape == (3, 20), \"The dimension of the sample_for_class2 matrix is not 3x20\"\n",
    "\n",
    "all_data = np.concatenate((sample_for_class1, sample_for_class2), axis=1)\n",
    "\n",
    "assert all_data.shape == (3, 40), \"The dimension of the all_data matrix is not 3x20\""
   ]
  },
  {
   "cell_type": "code",
   "execution_count": 14,
   "metadata": {},
   "outputs": [
    {
     "name": "stdout",
     "output_type": "stream",
     "text": [
      "[0.41667492 0.69848315 0.49242335] \n",
      " [[0.41667492]\n",
      " [0.69848315]\n",
      " [0.49242335]]\n"
     ]
    }
   ],
   "source": [
    "mean_dim1 = np.mean(all_data[0, :])\n",
    "mean_dim2 = np.mean(all_data[1, :])\n",
    "mean_dim3 = np.mean(all_data[2, :])\n",
    "\n",
    "mean_vector = np.array([[mean_dim1], [mean_dim2], [mean_dim3]])\n",
    "\n",
    "print(mean_vector.reshape(-1), '\\n', mean_vector)"
   ]
  },
  {
   "cell_type": "code",
   "execution_count": 17,
   "metadata": {},
   "outputs": [
    {
     "data": {
      "text/plain": [
       "array([[ 1.62434536],\n",
       "       [-0.61175641],\n",
       "       [-0.52817175]])"
      ]
     },
     "execution_count": 17,
     "metadata": {},
     "output_type": "execute_result"
    }
   ],
   "source": [
    "all_data[:, 0].reshape(3, 1)"
   ]
  },
  {
   "cell_type": "code",
   "execution_count": 21,
   "metadata": {},
   "outputs": [
    {
     "name": "stdout",
     "output_type": "stream",
     "text": [
      "The Scatter Matrix is :\n",
      " [[38.4878051  10.50787213 11.13746016]\n",
      " [10.50787213 36.23651274 11.96598642]\n",
      " [11.13746016 11.96598642 49.73596619]]\n"
     ]
    }
   ],
   "source": [
    "scatter_matrix = np.zeros((3,3))\n",
    "for i in range(all_data.shape[1]):\n",
    "    scatter_matrix += (all_data[:, i].reshape(3, 1) - mean_vector).dot(\n",
    "        (all_data[:, i].reshape(3, 1) - mean_vector).T)\n",
    "print('The Scatter Matrix is :\\n', scatter_matrix)"
   ]
  },
  {
   "cell_type": "markdown",
   "metadata": {},
   "source": [
    "## Eigenvalues and Eigenvectors\n",
    "\n",
    "$$\n",
    "Ax = \\lambda x\n",
    "$$\n",
    "\n",
    "Where A denotes the matrix , x denotes the eigenvector and $\\lambda$ denotes the eigenvalues.\n",
    "\n",
    "\n",
    "A Eigenvector of a matrix (which can be seen as a linear transformation of matrix) is the condensed vector which summarizes one axes of the matrix.\n",
    "\n",
    "A matrix can have more than one eigenvector , and at max d eigenvectors if matrix is of dimention d X d.\n",
    "\n",
    "n x n matrix could have n eigenvectors, each one representing its line of action in one dimension\n",
    "\n",
    "\n",
    "The eigenvectors and eigenvalues of a covariance (or correlation) matrix represent the \"core\" of a PCA: The eigenvectors (principal components) determine the directions of the new feature space, and the eigenvalues determine their magnitude. In other words, the eigenvalues explain the variance of the data along the new feature axes."
   ]
  },
  {
   "cell_type": "code",
   "execution_count": 23,
   "metadata": {},
   "outputs": [
    {
     "data": {
      "text/plain": [
       "(array([65.16936779, 32.69471296, 26.59620328]),\n",
       " array([[-0.49210223, -0.64670286,  0.58276136],\n",
       "        [-0.47927902, -0.35756937, -0.8015209 ],\n",
       "        [-0.72672348,  0.67373552,  0.13399043]]))"
      ]
     },
     "execution_count": 23,
     "metadata": {},
     "output_type": "execute_result"
    }
   ],
   "source": [
    "eig_val, eig_vec = np.linalg.eig(scatter_matrix)\n",
    "eig_val, eig_vec"
   ]
  },
  {
   "cell_type": "code",
   "execution_count": 26,
   "metadata": {},
   "outputs": [
    {
     "name": "stdout",
     "output_type": "stream",
     "text": [
      "[-0.49210223 -0.64670286  0.58276136]\n",
      "1.0000000000000013\n",
      "[-0.47927902 -0.35756937 -0.8015209 ]\n",
      "0.9999999999999992\n",
      "[-0.72672348  0.67373552  0.13399043]\n",
      "0.9999999999999997\n"
     ]
    }
   ],
   "source": [
    "for ev in eig_vec:\n",
    "    print(ev)\n",
    "    print(ev[0]**2 + ev[1]**2 + ev[2]**2)\n",
    "    np.testing.assert_array_almost_equal(1.0, np.linalg.norm(ev))"
   ]
  },
  {
   "cell_type": "code",
   "execution_count": 28,
   "metadata": {},
   "outputs": [
    {
     "name": "stdout",
     "output_type": "stream",
     "text": [
      "[(65.16936779078195, array([-0.49210223, -0.47927902, -0.72672348])), (32.69471296321799, array([-0.64670286, -0.35756937,  0.67373552])), (26.596203282097097, array([ 0.58276136, -0.8015209 ,  0.13399043]))]\n",
      "(65.16936779078195, array([-0.49210223, -0.47927902, -0.72672348]))\n",
      "(32.69471296321799, array([-0.64670286, -0.35756937,  0.67373552]))\n",
      "(26.596203282097097, array([ 0.58276136, -0.8015209 ,  0.13399043]))\n"
     ]
    }
   ],
   "source": [
    "eig_pairs = [(np.abs(eig_val[i]), eig_vec[:,i]) for i in range(len(eig_val))]\n",
    "print(eig_pairs)\n",
    "\n",
    "# We then Sort list of tuples by the eigenvalue\n",
    "eig_pairs.sort(key=lambda x: x[0], reverse=True)\n",
    "\n",
    "# verify that the list is correctly sorted by decreasing eigenvalues\n",
    "for i in eig_pairs:\n",
    "    print(i)"
   ]
  },
  {
   "cell_type": "code",
   "execution_count": 29,
   "metadata": {},
   "outputs": [
    {
     "name": "stdout",
     "output_type": "stream",
     "text": [
      "Matrix W:\n",
      " [[-0.49210223 -0.64670286]\n",
      " [-0.47927902 -0.35756937]\n",
      " [-0.72672348  0.67373552]]\n"
     ]
    }
   ],
   "source": [
    "matrix_w = np.hstack((eig_pairs[0][1].reshape(3,1), eig_pairs[1][1].reshape(3,1)))\n",
    "print('Matrix W:\\n', matrix_w)"
   ]
  },
  {
   "cell_type": "code",
   "execution_count": 32,
   "metadata": {},
   "outputs": [
    {
     "data": {
      "text/plain": [
       "array([[-0.12230714,  1.78582073, -0.72564846,  0.91911067, -0.48120545,\n",
       "         1.26186049,  0.49974121, -1.36060904, -0.02630959,  0.20346559,\n",
       "         1.02990798,  0.74684543, -0.76873682,  0.37184198, -0.48040292,\n",
       "        -1.30433953, -0.57308381,  0.9748035 , -0.78806782, -1.23832629,\n",
       "        -2.30009539, -1.73062935, -4.57170736,  0.04785487, -2.42616804,\n",
       "        -1.15792646, -2.01497976, -1.98672036, -1.36534078, -2.76311357,\n",
       "        -2.1041081 , -1.64296088, -1.09921946, -2.71718701, -1.38545546,\n",
       "        -1.44331476, -0.58485289, -1.63411201, -1.21353834, -1.73760916],\n",
       "       [-1.18757151, -1.16617976, -0.64124251, -1.74952646,  1.10969495,\n",
       "         0.18151348, -0.97722286, -0.72412904, -0.42090149,  1.05827266,\n",
       "         0.12619324,  0.77808138,  1.75701561, -1.00931473, -0.08774954,\n",
       "         1.75869787, -0.09616466,  0.4009659 ,  0.49058694, -0.10791262,\n",
       "         0.05492635, -0.3633537 , -0.13330484,  0.74907576, -0.53466984,\n",
       "         1.6445517 , -0.90160187,  0.00885182, -0.95318056,  0.14270558,\n",
       "        -1.4249294 , -0.01678979, -0.54147105,  0.20291779, -1.54140242,\n",
       "        -1.3474191 , -1.09515232, -1.41599875, -0.11407398,  0.58889408]])"
      ]
     },
     "execution_count": 32,
     "metadata": {},
     "output_type": "execute_result"
    }
   ],
   "source": [
    "transformed = matrix_w.T.dot(all_data)\n",
    "transformed "
   ]
  },
  {
   "cell_type": "code",
   "execution_count": 33,
   "metadata": {},
   "outputs": [],
   "source": [
    "assert transformed.shape == (2,40), \"The matrix is not 2x40 dimensional.\""
   ]
  },
  {
   "cell_type": "code",
   "execution_count": 42,
   "metadata": {},
   "outputs": [
    {
     "data": {
      "text/plain": [
       "<matplotlib.legend.Legend at 0x7f3dae4b4f28>"
      ]
     },
     "execution_count": 42,
     "metadata": {},
     "output_type": "execute_result"
    },
    {
     "data": {
      "image/png": "[encoded data removed]",
      "text/plain": [
       "<Figure size 576x576 with 1 Axes>"
      ]
     },
     "metadata": {
      "needs_background": "light"
     },
     "output_type": "display_data"
    }
   ],
   "source": [
    "fig = plt.figure(figsize = (8,8))\n",
    "ax = fig.add_subplot(1,1,1) \n",
    "ax.set_xlabel('Principal Component 1', fontsize = 15)\n",
    "ax.set_ylabel('Principal Component 2', fontsize = 15)\n",
    "ax.set_title('2 component PCA', fontsize = 20)\n",
    "\n",
    "targets = ['class-1', 'class-2']\n",
    "colors = ['r', 'b']\n",
    "ax.scatter(transformed[0, 0:20], transformed[1, 0:20], c=colors[0], label=targets[0])\n",
    "ax.scatter(transformed[0, 20:], transformed[1, 20:], c=colors[1], label=targets[1])\n",
    "ax.legend(targets)"
   ]
  },
  {
   "cell_type": "markdown",
   "metadata": {},
   "source": [
    "# References\n",
    "\n",
    "[CSDN-1](https://blog.csdn.net/weixin_38314865/article/details/84190175)\n",
    "\n",
    "[Plt](https://plotly.com/python/v3/ipython-notebooks/principal-component-analysis/)\n",
    "\n",
    "[PCA](https://medium.com/@raghavan99o/principal-component-analysis-pca-explained-and-implemented-eeab7cb73b72)\n",
    "\n",
    "[eigenvector](https://pathmind.com/wiki/eigenvector)"
   ]
  },
  {
   "cell_type": "markdown",
   "metadata": {},
   "source": [
    "![2D to 1D](https://raw.githubusercontent.com/qrsforever/assets_blog_post/master/Note/Math/pca-1.png)"
   ]
  },
  {
   "cell_type": "code",
   "execution_count": null,
   "metadata": {},
   "outputs": [],
   "source": []
  }
 ],
 "metadata": {
  "kernelspec": {
   "display_name": "Python 3",
   "language": "python",
   "name": "python3"
  },
  "language_info": {
   "codemirror_mode": {
    "name": "ipython",
    "version": 3
   },
   "file_extension": ".py",
   "mimetype": "text/x-python",
   "name": "python",
   "nbconvert_exporter": "python",
   "pygments_lexer": "ipython3",
   "version": "3.7.5"
  }
 },
 "nbformat": 4,
 "nbformat_minor": 2
}
