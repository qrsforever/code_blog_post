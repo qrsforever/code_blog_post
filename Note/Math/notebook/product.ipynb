{
 "cells": [
  {
   "cell_type": "markdown",
   "metadata": {},
   "source": [
    "# <div align='center'> Latex of Product </div>"
   ]
  },
  {
   "cell_type": "code",
   "execution_count": 3,
   "metadata": {},
   "outputs": [],
   "source": [
    "import numpy as np "
   ]
  },
  {
   "cell_type": "code",
   "execution_count": 20,
   "metadata": {},
   "outputs": [],
   "source": [
    "def print_matrix(M):\n",
    "    for row in M:\n",
    "        for val in row:\n",
    "            print('{:4}'.format(val), end=' ')\n",
    "        print('')"
   ]
  },
  {
   "cell_type": "code",
   "execution_count": 21,
   "metadata": {},
   "outputs": [],
   "source": [
    "a = np.array([[1,2],\n",
    "              [3,4]])\n",
    "b = np.array([[5,6],\n",
    "              [7,8]])"
   ]
  },
  {
   "cell_type": "code",
   "execution_count": 34,
   "metadata": {},
   "outputs": [
    {
     "name": "stdout",
     "output_type": "stream",
     "text": [
      "   1    2 \n",
      "   3    4 \n",
      "\n",
      "   5    6 \n",
      "   7    8 \n"
     ]
    }
   ],
   "source": [
    "print_matrix(a)\n",
    "print('')\n",
    "print_matrix(b)"
   ]
  },
  {
   "cell_type": "markdown",
   "metadata": {},
   "source": [
    "## 向量"
   ]
  },
  {
   "cell_type": "markdown",
   "metadata": {},
   "source": [
    "### 叉乘\n",
    "\n",
    "cross prodcut, latex: $\\times$\n",
    "\n",
    "向量积、矢积、叉乘、外积 \n",
    "\n",
    "求法线"
   ]
  },
  {
   "cell_type": "code",
   "execution_count": 30,
   "metadata": {},
   "outputs": [
    {
     "data": {
      "text/plain": [
       "array([-3,  6, -3])"
      ]
     },
     "execution_count": 30,
     "metadata": {},
     "output_type": "execute_result"
    }
   ],
   "source": [
    "np.cross([1, 2, 3], [4, 5, 6])\n",
    "# 1i + 2j + 3k\n",
    "# 4i + 5j + 6k\n",
    "# [2*6 - 3*5, 3*4 - 1*6, 1*5 - 2*4]"
   ]
  },
  {
   "cell_type": "code",
   "execution_count": 31,
   "metadata": {},
   "outputs": [
    {
     "data": {
      "text/plain": [
       "array([-4, -4])"
      ]
     },
     "execution_count": 31,
     "metadata": {},
     "output_type": "execute_result"
    }
   ],
   "source": [
    "np.cross(a, b)\n",
    "# TODO\n",
    "# (1, 2)(7, 8) - (5, 6)(3, 4)\n",
    "# (7, 16) - (15, 24)\n",
    "# (7-15, 16-24) ???"
   ]
  },
  {
   "cell_type": "markdown",
   "metadata": {},
   "source": [
    "### 点乘\n",
    "\n",
    "dot product, scalar product, latex: $\\bullet$\n",
    "\n",
    "向量点积"
   ]
  },
  {
   "cell_type": "code",
   "execution_count": 32,
   "metadata": {},
   "outputs": [
    {
     "data": {
      "text/plain": [
       "32"
      ]
     },
     "execution_count": 32,
     "metadata": {},
     "output_type": "execute_result"
    }
   ],
   "source": [
    "np.dot([1, 2, 3], [4, 5, 6])\n",
    "# 1*4 + 2*5 + 3*6 = 32"
   ]
  },
  {
   "cell_type": "code",
   "execution_count": 36,
   "metadata": {},
   "outputs": [
    {
     "data": {
      "text/plain": [
       "array([[19, 22],\n",
       "       [43, 50]])"
      ]
     },
     "execution_count": 36,
     "metadata": {},
     "output_type": "execute_result"
    }
   ],
   "source": [
    "np.dot(a, b)\n",
    "# [[(1,2)(5,7), (1,2)(6,8)], [(3,4)(5,7), (3,4)(6,8)]]\n",
    "# [[19, 22], [43, 50]]"
   ]
  },
  {
   "cell_type": "markdown",
   "metadata": {},
   "source": [
    "## 矩阵"
   ]
  },
  {
   "cell_type": "markdown",
   "metadata": {},
   "source": [
    "## 克罗内克积\n",
    "\n",
    "latex: $\\bigotimes$"
   ]
  },
  {
   "cell_type": "code",
   "execution_count": 38,
   "metadata": {},
   "outputs": [
    {
     "name": "stdout",
     "output_type": "stream",
     "text": [
      "   1    2 \n",
      "   3    4 \n",
      "   5    6 \n",
      "   7    8 \n"
     ]
    },
    {
     "data": {
      "text/plain": [
       "array([[ 5,  6, 10, 12],\n",
       "       [ 7,  8, 14, 16],\n",
       "       [15, 18, 20, 24],\n",
       "       [21, 24, 28, 32]])"
      ]
     },
     "execution_count": 38,
     "metadata": {},
     "output_type": "execute_result"
    }
   ],
   "source": [
    "print_matrix(a)\n",
    "print_matrix(b)\n",
    "np.kron(a, b)"
   ]
  },
  {
   "cell_type": "markdown",
   "metadata": {},
   "source": [
    "## 哈达玛积\n",
    "\n",
    "Hadamard product, latex:$\\circ$ \n",
    "\n",
    "基本积, element-wise multiply\n",
    "\n",
    "$A*B , A \\circ B$\n",
    "\n",
    "当矩阵是numpy.ndarray时\n"
   ]
  },
  {
   "cell_type": "code",
   "execution_count": 53,
   "metadata": {},
   "outputs": [
    {
     "name": "stdout",
     "output_type": "stream",
     "text": [
      "<class 'numpy.ndarray'> <class 'numpy.ndarray'>\n",
      "   1    2 \n",
      "   3    4 \n",
      "   5    6 \n",
      "   7    8 \n"
     ]
    },
    {
     "data": {
      "text/plain": [
       "array([[ 5, 12],\n",
       "       [21, 32]])"
      ]
     },
     "execution_count": 53,
     "metadata": {},
     "output_type": "execute_result"
    }
   ],
   "source": [
    "print(type(a), type(b))\n",
    "a*b"
   ]
  },
  {
   "cell_type": "markdown",
   "metadata": {},
   "source": [
    "### 矩阵乘积\n",
    "\n",
    "matmul product\n",
    "\n",
    "$AB$\n",
    "\n",
    "当矩阵是numpy.matrix时, 都是**\\***号,但结果不同"
   ]
  },
  {
   "cell_type": "code",
   "execution_count": 48,
   "metadata": {},
   "outputs": [
    {
     "name": "stdout",
     "output_type": "stream",
     "text": [
      "<class 'numpy.matrix'> <class 'numpy.matrix'>\n"
     ]
    },
    {
     "data": {
      "text/plain": [
       "(matrix([[19, 22],\n",
       "         [43, 50]]), matrix([[19, 22],\n",
       "         [43, 50]]), matrix([[19, 22],\n",
       "         [43, 50]]), array([[19, 22],\n",
       "        [43, 50]]), array([[19, 22],\n",
       "        [43, 50]]), array([[ 5, 12],\n",
       "        [21, 32]]))"
      ]
     },
     "execution_count": 48,
     "metadata": {},
     "output_type": "execute_result"
    }
   ],
   "source": [
    "c = np.matrix(a)\n",
    "d = np.matrix(b)\n",
    "print(type(c), type(d))\n",
    "c*d, np.dot(c, d), np.matmul(c, d), np.dot(a, b), np.matmul(a, b), a*b"
   ]
  }
 ],
 "metadata": {
  "kernelspec": {
   "display_name": "Python 3",
   "language": "python",
   "name": "python3"
  },
  "language_info": {
   "codemirror_mode": {
    "name": "ipython",
    "version": 3
   },
   "file_extension": ".py",
   "mimetype": "text/x-python",
   "name": "python",
   "nbconvert_exporter": "python",
   "pygments_lexer": "ipython3",
   "version": "3.6.8"
  }
 },
 "nbformat": 4,
 "nbformat_minor": 2
}
