{
 "cells": [
  {
   "cell_type": "markdown",
   "metadata": {},
   "source": [
    "# 1. autoreload\n",
    "\n",
    "在notebook中如果修改了引用的库的文件, 再次执行自动加载\n",
    "\n",
    "`%load_ext autoreload`\n",
    "\n",
    "`%reload_ext autoreload`\n",
    "\n",
    "| 命令 | 描述 |\n",
    "|:----:|:----:|\n",
    "| `%autoreload` | 自动重载%aimport排除的模块之外的所有模块。\n",
    "| `%autoreload 0` | 禁用自动重载\n",
    "| `%autoreload 1` | 自动重载%aimport指定的模块。\n",
    "| `%autoreload 2` | 自动重载%aimport排除的模块之外的所有模块。\n",
    "| `%aimport` | 列出需要自动重载的模块和不需要重载的模块。\n",
    "| `%aimport foo` | 重载模块foo并将它标记为需要自动重载。\n",
    "| `%aimport -foo` | 将模块foo标记为不需要自动重载。\n",
    "\n",
    "## 常用"
   ]
  },
  {
   "cell_type": "code",
   "execution_count": 1,
   "metadata": {},
   "outputs": [],
   "source": [
    "%load_ext autoreload\n",
    "%autoreload 2"
   ]
  },
  {
   "cell_type": "markdown",
   "metadata": {},
   "source": [
    "# 2. markdown\n",
    "\n",
    "在notebook中markdown使用cell中的变量"
   ]
  },
  {
   "cell_type": "markdown",
   "metadata": {},
   "source": [
    "## 2.1 magic command"
   ]
  },
  {
   "cell_type": "code",
   "execution_count": 2,
   "metadata": {},
   "outputs": [],
   "source": [
    "url = \"http://www.baidu.com\""
   ]
  },
  {
   "cell_type": "code",
   "execution_count": 3,
   "metadata": {},
   "outputs": [
    {
     "data": {
      "text/markdown": [
       "\n",
       "## [百度]({url})\n"
      ],
      "text/plain": [
       "<IPython.core.display.Markdown object>"
      ]
     },
     "metadata": {},
     "output_type": "display_data"
    }
   ],
   "source": [
    "%%markdown\n",
    "\n",
    "## [百度]({url})"
   ]
  },
  {
   "cell_type": "markdown",
   "metadata": {},
   "source": [
    "## 2.2 Markdown function"
   ]
  },
  {
   "cell_type": "code",
   "execution_count": 5,
   "metadata": {},
   "outputs": [
    {
     "data": {
      "text/markdown": [
       "\n",
       "# Math\n",
       "## Addition\n",
       "Here is a simple addition example: 1 + 2 = 3\n"
      ],
      "text/plain": [
       "<IPython.core.display.Markdown object>"
      ]
     },
     "execution_count": 5,
     "metadata": {},
     "output_type": "execute_result"
    }
   ],
   "source": [
    "from IPython.display import Markdown\n",
    "\n",
    "one = 1\n",
    "two = 2\n",
    "three = one + two\n",
    "\n",
    "Markdown(\"# Title\")\n",
    "Markdown(\"\"\"\n",
    "# Math\n",
    "## Addition\n",
    "Here is a simple addition example: {one} + {two} = {three}\n",
    "\"\"\".format(one=one, two=two, three=three))"
   ]
  }
 ],
 "metadata": {
  "kernelspec": {
   "display_name": "Python 3",
   "language": "python",
   "name": "python3"
  },
  "language_info": {
   "codemirror_mode": {
    "name": "ipython",
    "version": 3
   },
   "file_extension": ".py",
   "mimetype": "text/x-python",
   "name": "python",
   "nbconvert_exporter": "python",
   "pygments_lexer": "ipython3",
   "version": "3.6.8"
  }
 },
 "nbformat": 4,
 "nbformat_minor": 2
}
