{
 "cells": [
  {
   "cell_type": "code",
   "execution_count": null,
   "metadata": {},
   "outputs": [],
   "source": [
    "import pandas as pd\n",
    "import sys\n",
    "from io import StringIO\n",
    "import numpy as np\n",
    "import matplotlib.pyplot as plt\n",
    "import ipywidgets as widgets\n",
    "print(widgets.__version__)"
   ]
  },
  {
   "cell_type": "code",
   "execution_count": null,
   "metadata": {},
   "outputs": [],
   "source": [
    "%matplotlib inline"
   ]
  },
  {
   "cell_type": "code",
   "execution_count": null,
   "metadata": {},
   "outputs": [],
   "source": [
    "use_date = widgets.Checkbox(\n",
    "    description='Date ',\n",
    "    value=True,\n",
    "    indent=True,\n",
    "    style={'description_width': '20%'},\n",
    "    layout={'border': '1px solid black', 'width':'100px'},\n",
    ")\n",
    "use_date"
   ]
  },
  {
   "cell_type": "code",
   "execution_count": null,
   "metadata": {},
   "outputs": [],
   "source": [
    "btn = widgets.Button(\n",
    "    description='Click me',\n",
    "    disabled=False,\n",
    "    button_style='warning', # 'success', 'info', 'warning', 'danger' or ''\n",
    "    tooltip='Click me',\n",
    "    icon='check' # (FontAwesome names without the `fa-` prefix)\n",
    ")\n",
    "btn.layout.object_position = 'right'\n",
    "btn.layout.border= '1px solid black'\n",
    "btn.layout.margin= '10px 0px 10px 100px'\n",
    "btn"
   ]
  },
  {
   "cell_type": "code",
   "execution_count": null,
   "metadata": {},
   "outputs": [],
   "source": [
    "widgets.IntSlider(\n",
    "    value=7,\n",
    "    min=0,\n",
    "    max=10,\n",
    "    step=1,\n",
    "    description='Test:',\n",
    "    disabled=False,\n",
    "    continuous_update=False,\n",
    "    orientation='horizontal',\n",
    "    readout=True,\n",
    "    readout_format='d'\n",
    ")\n",
    "\n",
    "widgets.FileUpload(\n",
    "    accept='',  # Accepted file extension e.g. '.txt', '.pdf', 'image/*', 'image/*,.pdf'\n",
    "    multiple=False  # True to accept multiple files upload else False\n",
    ")"
   ]
  },
  {
   "cell_type": "code",
   "execution_count": null,
   "metadata": {},
   "outputs": [],
   "source": [
    "tab = widgets.Tab()    \n",
    "out = widgets.Output(layout={'border': '1px solid black'})\n",
    "up = widgets.FileUpload(accept=\"\", multiple=False)"
   ]
  },
  {
   "cell_type": "code",
   "execution_count": null,
   "metadata": {},
   "outputs": [],
   "source": [
    "delim = widgets.RadioButtons(\n",
    "    options=[';', ',', ' '],\n",
    "    description='Separator: ',\n",
    "    disabled=False)\n",
    "\n",
    "eraser = widgets.SelectMultiple(\n",
    "    options=['tab','\"'],\n",
    "    value=['tab'],\n",
    "    #rows=10,\n",
    "    description='Eraser: ',\n",
    "    disabled=False)\n",
    "\n",
    "eraser"
   ]
  },
  {
   "cell_type": "code",
   "execution_count": null,
   "metadata": {},
   "outputs": [],
   "source": [
    "rows = widgets.IntSlider(\n",
    "    value=0,\n",
    "    step=1,\n",
    "    description='# of lines:',\n",
    "    disabled=False,\n",
    "    continuous_update=False,\n",
    "    orientation='horizontal',\n",
    "    readout=True,\n",
    "    readout_format='d')\n",
    "rows"
   ]
  },
  {
   "cell_type": "code",
   "execution_count": null,
   "metadata": {},
   "outputs": [],
   "source": [
    "button_upload = widgets.Button(\n",
    "    description='Upload',\n",
    "    disabled=False,\n",
    "    button_style='warning',\n",
    "    tooltip='Click to Upload',\n",
    "    icon='check')\n",
    "button_upload "
   ]
  },
  {
   "cell_type": "code",
   "execution_count": null,
   "metadata": {},
   "outputs": [],
   "source": [
    "button_preview = widgets.Button(\n",
    "    description='Preview',\n",
    "    disabled=False,\n",
    "    button_style='info',\n",
    "    tooltip='Click to Preview',\n",
    "    icon='search')\n",
    "button_preview "
   ]
  },
  {
   "cell_type": "code",
   "execution_count": null,
   "metadata": {},
   "outputs": [],
   "source": [
    "button_plot = widgets.Button(\n",
    "    description='Plot',\n",
    "    disabled=False,\n",
    "    button_style='danger',\n",
    "    tooltip='Click to Plot',\n",
    "    icon='pencil')\n",
    "button_plot"
   ]
  },
  {
   "cell_type": "code",
   "execution_count": null,
   "metadata": {},
   "outputs": [],
   "source": [
    "graph_type = widgets.Dropdown(\n",
    "    options=['Bar Chart', 'Line Chart'],\n",
    "    value='Bar Chart',\n",
    "    description='Chart Type:',\n",
    "    disabled=False)\n",
    "graph_type"
   ]
  },
  {
   "cell_type": "code",
   "execution_count": null,
   "metadata": {},
   "outputs": [],
   "source": [
    "x_axis = widgets.Dropdown(\n",
    "    options=[''],\n",
    "    value='',\n",
    "    description='X-Axis:',\n",
    "    disabled=False)\n",
    "x_axis"
   ]
  },
  {
   "cell_type": "code",
   "execution_count": null,
   "metadata": {},
   "outputs": [],
   "source": [
    "y_axis = widgets.Dropdown(\n",
    "    options=[''],\n",
    "    value='',\n",
    "    description='Y-Axis:',\n",
    "    disabled=False)\n",
    "y_axis"
   ]
  },
  {
   "cell_type": "code",
   "execution_count": null,
   "metadata": {},
   "outputs": [],
   "source": [
    "color_picker = widgets.ColorPicker(\n",
    "    concise=False,\n",
    "    description='Color Picker: ',\n",
    "    value='lightblue',\n",
    "    disabled=False)\n",
    "color_picker"
   ]
  },
  {
   "cell_type": "code",
   "execution_count": null,
   "metadata": {},
   "outputs": [],
   "source": [
    "toggle = widgets.ToggleButtons(\n",
    "    options=['Preview  ', 'Info  ', 'Stats  '],\n",
    "    description='Options',\n",
    "    disabled=False,\n",
    "    button_style='warning',\n",
    "    icons=['search', 'info', 'tachometer'])\n",
    "toggle"
   ]
  },
  {
   "cell_type": "code",
   "execution_count": null,
   "metadata": {},
   "outputs": [],
   "source": [
    "accordion = widgets.Accordion(children=[\n",
    "    widgets.HBox([\n",
    "                widgets.BoundedIntText(description='aaaaa', layout={'max_width': '290px', 'width':'600px'}),\n",
    "                widgets.BoundedIntText(description='aaaaa', layout={'max_width': '290px'}),\n",
    "                widgets.BoundedIntText(description='aaaaa', layout={'max_width': '290px'}),\n",
    "                widgets.BoundedIntText(description='aaaaa', layout={'max_width': '290px'})],\n",
    "        layout=widgets.Layout(flex_flow='row wrap')),\n",
    "    up,\n",
    "    widgets.VBox([delim, eraser]), \n",
    "    rows,\n",
    "        ],\n",
    "    layout = widgets.Layout(padding='21px', border='solid')\n",
    "    )\n",
    "accordion.set_title(0, 'Test')\n",
    "accordion.set_title(1, 'File Selection')\n",
    "accordion.set_title(2, 'Delimiter')\n",
    "accordion.set_title(3, 'Skip Rows')\n",
    "accordion"
   ]
  },
  {
   "cell_type": "code",
   "execution_count": null,
   "metadata": {},
   "outputs": [],
   "source": [
    "accordion_box = widgets.VBox([\n",
    "    accordion, \n",
    "    widgets.HBox([button_preview, button_upload]),\n",
    "    out\n",
    "])\n",
    "accordion_box"
   ]
  },
  {
   "cell_type": "code",
   "execution_count": null,
   "metadata": {},
   "outputs": [],
   "source": [
    "children = [\n",
    "    accordion_box, \n",
    "    widgets.VBox([toggle, out]),\n",
    "    widgets.VBox([\n",
    "        widgets.HBox([graph_type, color_picker]),\n",
    "        widgets.HBox([x_axis, y_axis]), \n",
    "        button_plot,\n",
    "        out\n",
    "])]\n",
    "tab.children = children\n",
    "tab.set_title(0, \"Upload\")\n",
    "tab.set_title(1, \"Describer\")\n",
    "tab.set_title(2, \"Plotter\")"
   ]
  },
  {
   "cell_type": "code",
   "execution_count": null,
   "metadata": {},
   "outputs": [],
   "source": [
    "def content_parser():\n",
    "    if up.value == {}:\n",
    "        with out:\n",
    "            print('No CSV loaded')    \n",
    "    else:\n",
    "        typ, content = \"\", \"\"\n",
    "        up_value = up.value\n",
    "        for i in up_value.keys():\n",
    "            typ = up_value[i][\"metadata\"][\"type\"]\n",
    "            if typ == \"text/csv\":\n",
    "                content = up_value[i][\"content\"]\n",
    "                content_str = str(content, 'utf-8')\n",
    "    \n",
    "            if eraser.value != {}: \n",
    "                for val in eraser.value:\n",
    "                    if val == \"tab\":\n",
    "                        content_str = content_str.replace(\"\\t\",\"\")\n",
    "                    else:\n",
    "                        content_str = content_str.replace(val,\"\")\n",
    "            if content_str != \"\":\n",
    "                str_io = StringIO(content_str) \n",
    "                return str_io\n",
    "def df_converter():\n",
    "    content = content_parser()\n",
    "    if content is not None:\n",
    "        df = pd.read_csv(content, sep=delim.value, index_col=False, skiprows=rows.value)    \n",
    "        return df\n",
    "    else:\n",
    "        return None\n",
    "def preview():\n",
    "    df = df_converter()\n",
    "    with out:\n",
    "        out.clear_output()\n",
    "        print('\\n -----Now this is how your DF looks like:----- \\n')\n",
    "        if df is not None:\n",
    "            print(df.head(10))\n",
    "        else:\n",
    "            print('Configuration is wrong/missing...')\n",
    "def upload():\n",
    "    df = df_converter()\n",
    "    with out:\n",
    "        out.clear_output()\n",
    "        print('\\n --------Your uploaded DF looks like:-------- \\n')\n",
    "        if df is not None:\n",
    "            print(df)\n",
    "            x_axis.options = df.columns\n",
    "            y_axis.options = df.columns\n",
    "        else:\n",
    "            print('Configuration is wrong/missing...')\n",
    "def desc():\n",
    "    info_level = toggle.value\n",
    "    if info_level != {}:\n",
    "        df = df_converter()\n",
    "        with out:\n",
    "            out.clear_output()\n",
    "            print('\\n ------Your {} looks like:------ \\n'.format(\n",
    "                info_level))\n",
    "            if df is not None:\n",
    "                if info_level == 'Info  ':\n",
    "                    print(df.info(verbose=True))\n",
    "                elif info_level == 'Stats  ':\n",
    "                    print(df.describe())\n",
    "                elif info_level == 'Preview  ':\n",
    "                    print(df.head(5))\n",
    "                else:\n",
    "                    print('Configuration is wrong/missing...')\n",
    "    \n",
    "    \n",
    "def plot():\n",
    "    graph = graph_type.value\n",
    "    if graph != {}:\n",
    "        df = df_converter()\n",
    "        with out:\n",
    "            out.clear_output()\n",
    "            print('\\n ------Your {} looks like:------ \\n'.format(\n",
    "                graph))\n",
    "            if (df is not None):\n",
    "                df = df.head(5)\n",
    "                height = df[y_axis.value]\n",
    "                bars = df[x_axis.value]\n",
    "                y_pos = np.arange(len(height))\n",
    "                plt.figure(figsize=(10,4))\n",
    "                if graph == 'Bar Chart':\n",
    "                    plt.bar(\n",
    "                        y_pos, \n",
    "                        height, \n",
    "                        color=color_picker.value)\n",
    "                    plt.xticks(y_pos, bars)\n",
    "                elif graph == 'Line Chart':\n",
    "                    plt.plot(\n",
    "                        bars,\n",
    "                        height, \n",
    "                        color=color_picker.value,\n",
    "                        marker='o', \n",
    "                        linestyle='solid'\n",
    "                    )\n",
    "                    plt.xticks(bars)\n",
    "                plt.show()\n",
    "                "
   ]
  },
  {
   "cell_type": "code",
   "execution_count": null,
   "metadata": {},
   "outputs": [],
   "source": [
    "def preview_clicked(b):\n",
    "    preview()\n",
    "def upload_clicked(b):\n",
    "    upload()\n",
    "def desc_clicked(b):\n",
    "    desc()\n",
    "def plotter_clicked(b):\n",
    "    plot()\n",
    "    \n",
    "button_preview.on_click(preview_clicked)\n",
    "button_upload.on_click(upload_clicked)\n",
    "toggle.observe(desc_clicked, 'value')\n",
    "button_plot.on_click(plotter_clicked)"
   ]
  },
  {
   "cell_type": "code",
   "execution_count": null,
   "metadata": {
    "scrolled": true
   },
   "outputs": [],
   "source": [
    "tab"
   ]
  },
  {
   "cell_type": "code",
   "execution_count": null,
   "metadata": {},
   "outputs": [],
   "source": [
    "# can select multiple\n",
    "toggle_buttons= {'a':widgets.ToggleButton(description='a', value=False),\n",
    "          'b':widgets.ToggleButton(description='b', value=False),\n",
    "          'c':widgets.ToggleButton(description='c', value=False),\n",
    "          'd':widgets.ToggleButton(description='d', value=False)}\n",
    "\n",
    "toggle_disp = widgets.VBox([\n",
    "                widgets.HBox([toggle_buttons['a'], toggle_buttons['b']], description='htest'),\n",
    "                widgets.HBox([toggle_buttons['c'], toggle_buttons['d']])\n",
    "                            ], description='test')\n",
    "\n",
    "def on_toggle(**toggles):\n",
    "    for name, obj in toggles.items():\n",
    "        print(name, obj)\n",
    "    # print(toggles)\n",
    "\n",
    "interact_out = widgets.interactive_output(on_toggle, toggle_buttons)\n",
    "display(toggle_disp, interact_out)"
   ]
  },
  {
   "cell_type": "code",
   "execution_count": null,
   "metadata": {},
   "outputs": [],
   "source": [
    "# intext = widgets.IntText(min=1, max=100, step=1, continuous_update=True)\n",
    "# \n",
    "# widgets.jslink((tb_fruits, 'value'), (intext, 'value'))\n",
    "# widgets.VBox([play, slider, out])"
   ]
  },
  {
   "cell_type": "code",
   "execution_count": null,
   "metadata": {},
   "outputs": [],
   "source": [
    "# only one\n",
    "fruits = ['a', 'b', 'c', 'd', 'e', 'f', 'g', 'h']\n",
    "tb_fruits = widgets.ToggleButtons(options = fruits, style={'button_width':'100px'}, layout={'width': '320px'})\n",
    "print(tb_fruits.value)\n",
    "tb_fruits "
   ]
  },
  {
   "cell_type": "code",
   "execution_count": null,
   "metadata": {},
   "outputs": [],
   "source": [
    "tb = widgets.ToggleButtons(\n",
    "    options=[('Slow', '11'), ('Regular', '22'), ('Fast', '33')],\n",
    "    description='Speed:',\n",
    "    disabled=False,\n",
    "    button_style='info', # 'success', 'info', 'warning', 'danger' or ''\n",
    "    tooltips=['Description of slow', 'Description of regular', 'Description of fast'],\n",
    "    value = '11'\n",
    "#     icons=['check'] * 3\n",
    ")\n",
    "print(tb.value)\n",
    "tb"
   ]
  }
 ],
 "metadata": {
  "kernelspec": {
   "display_name": "Python 3",
   "language": "python",
   "name": "python3"
  },
  "language_info": {
   "codemirror_mode": {
    "name": "ipython",
    "version": 3
   },
   "file_extension": ".py",
   "mimetype": "text/x-python",
   "name": "python",
   "nbconvert_exporter": "python",
   "pygments_lexer": "ipython3",
   "version": "3.6.8"
  }
 },
 "nbformat": 4,
 "nbformat_minor": 2
}
